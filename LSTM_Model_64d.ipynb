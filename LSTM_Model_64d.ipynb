{
  "nbformat": 4,
  "nbformat_minor": 0,
  "metadata": {
    "colab": {
      "name": "LSTM_Model_64d.ipynb",
      "provenance": [],
      "collapsed_sections": [],
      "mount_file_id": "1_T_LxFHwFYACT9X3UAtT2xJbaJbnKkBk",
      "authorship_tag": "ABX9TyOUXXYGDynSWjvUD+pxAqye",
      "include_colab_link": true
    },
    "kernelspec": {
      "name": "python3",
      "display_name": "Python 3"
    },
    "accelerator": "TPU"
  },
  "cells": [
    {
      "cell_type": "markdown",
      "metadata": {
        "id": "view-in-github",
        "colab_type": "text"
      },
      "source": [
        "<a href=\"https://colab.research.google.com/github/carolflyjs/cs230/blob/master/LSTM_Model_64d.ipynb\" target=\"_parent\"><img src=\"https://colab.research.google.com/assets/colab-badge.svg\" alt=\"Open In Colab\"/></a>"
      ]
    },
    {
      "cell_type": "code",
      "metadata": {
        "id": "6ly0pYce87pM",
        "colab_type": "code",
        "outputId": "38bd05d0-6018-4e11-a9e4-942ba061c03b",
        "colab": {
          "base_uri": "https://localhost:8080/",
          "height": 403
        }
      },
      "source": [
        "%run \"/content/drive/My Drive/Colab Notebooks/Data_Processing_v2.ipynb\"\n",
        "%run \"/content/drive/My Drive/Colab Notebooks/utils.ipynb\""
      ],
      "execution_count": 1,
      "outputs": [
        {
          "output_type": "stream",
          "text": [
            "Collecting pyspellchecker\n",
            "\u001b[?25l  Downloading https://files.pythonhosted.org/packages/04/d1/ec4e830e9f9c1fd788e1459dd09279fdf807bc7a475579fd7192450b879c/pyspellchecker-0.5.4-py2.py3-none-any.whl (1.9MB)\n",
            "\u001b[K     |████████████████████████████████| 1.9MB 2.8MB/s \n",
            "\u001b[?25hInstalling collected packages: pyspellchecker\n",
            "Successfully installed pyspellchecker-0.5.4\n"
          ],
          "name": "stdout"
        },
        {
          "output_type": "display_data",
          "data": {
            "text/html": [
              "<p style=\"color: red;\">\n",
              "The default version of TensorFlow in Colab will soon switch to TensorFlow 2.x.<br>\n",
              "We recommend you <a href=\"https://www.tensorflow.org/guide/migrate\" target=\"_blank\">upgrade</a> now \n",
              "or ensure your notebook will continue to use TensorFlow 1.x via the <code>%tensorflow_version 1.x</code> magic:\n",
              "<a href=\"https://colab.research.google.com/notebooks/tensorflow_version.ipynb\" target=\"_blank\">more info</a>.</p>\n"
            ],
            "text/plain": [
              "<IPython.core.display.HTML object>"
            ]
          },
          "metadata": {
            "tags": []
          }
        },
        {
          "output_type": "stream",
          "text": [
            "Using TensorFlow backend.\n"
          ],
          "name": "stderr"
        },
        {
          "output_type": "stream",
          "text": [
            "load_file(path, delimiter=\",\"): return df\n",
            "data_prep(df, x_columns, y_columns): return X_train, Y_train\n",
            "removeSpellingErrors(df): return new_df\n",
            "tokenize_and_pad(X_train), return X_train_padded, max_value, vocab_size, tokenizer\n",
            "store_weights(mode, model_name, path=\"/content/drive/My Drive/cs230/\")\n",
            "load_weights(mode, model_name, path=\"/content/drive/My Drive/cs230/\")\n",
            "join_histories_and_plot(*histories)\n",
            "\n",
            "load_embedding_matrix(embeddings_index, vocab_size, embedding_dim, word_index)\n",
            "embedding_index = pre-trained embedding dictionary with key being the word and value being the embedding scores\n",
            "vocab_size = total number of unique tokens in the training data\n",
            "embedding_dim = dimension used in the embedding_index for each token\n",
            "word_index = token dictionary with key being the word and value being the token\n",
            "\n"
          ],
          "name": "stdout"
        }
      ]
    },
    {
      "cell_type": "code",
      "metadata": {
        "id": "aimKdQHovout",
        "colab_type": "code",
        "colab": {}
      },
      "source": [
        "def build_lstm_model(max_value, embedding_dim = 10, LSTM_dim = 128): \n",
        "    X_input = Input(shape=(max_value * 2,), dtype=\"int32\")\n",
        "    X = Embedding(vocab_size, embedding_dim)(X_input)\n",
        "    X = LSTM(LSTM_dim, kernel_regularizer=keras.regularizers.l2(0.01))(X)\n",
        "    # X = keras.layers.Flatten(\"channels_last\")(X)\n",
        "    X = Dense(5, activation=\"softmax\")(X)\n",
        "\n",
        "    model = Model(inputs=[X_input], outputs=X)\n",
        "\n",
        "    model.compile(loss='categorical_crossentropy', optimizer='adam', metrics=['categorical_accuracy'])\n",
        "    model.summary()\n",
        "\n",
        "    return model"
      ],
      "execution_count": 0,
      "outputs": []
    },
    {
      "cell_type": "code",
      "metadata": {
        "id": "h-7kAD6dCRg5",
        "colab_type": "code",
        "outputId": "c4b1adbe-fb3e-4460-f899-8e2b9c1ef156",
        "colab": {
          "base_uri": "https://localhost:8080/",
          "height": 479
        }
      },
      "source": [
        "lstm_model = build_lstm_model(max_value=max_value, embedding_dim=16, LSTM_dim=64)"
      ],
      "execution_count": 3,
      "outputs": [
        {
          "output_type": "stream",
          "text": [
            "WARNING:tensorflow:From /usr/local/lib/python3.6/dist-packages/keras/backend/tensorflow_backend.py:66: The name tf.get_default_graph is deprecated. Please use tf.compat.v1.get_default_graph instead.\n",
            "\n",
            "WARNING:tensorflow:From /usr/local/lib/python3.6/dist-packages/keras/backend/tensorflow_backend.py:541: The name tf.placeholder is deprecated. Please use tf.compat.v1.placeholder instead.\n",
            "\n",
            "WARNING:tensorflow:From /usr/local/lib/python3.6/dist-packages/keras/backend/tensorflow_backend.py:4432: The name tf.random_uniform is deprecated. Please use tf.random.uniform instead.\n",
            "\n",
            "WARNING:tensorflow:From /usr/local/lib/python3.6/dist-packages/keras/optimizers.py:793: The name tf.train.Optimizer is deprecated. Please use tf.compat.v1.train.Optimizer instead.\n",
            "\n",
            "WARNING:tensorflow:From /usr/local/lib/python3.6/dist-packages/keras/backend/tensorflow_backend.py:3576: The name tf.log is deprecated. Please use tf.math.log instead.\n",
            "\n",
            "Model: \"model_1\"\n",
            "_________________________________________________________________\n",
            "Layer (type)                 Output Shape              Param #   \n",
            "=================================================================\n",
            "input_1 (InputLayer)         (None, 16)                0         \n",
            "_________________________________________________________________\n",
            "embedding_1 (Embedding)      (None, 16, 16)            56272     \n",
            "_________________________________________________________________\n",
            "lstm_1 (LSTM)                (None, 64)                20736     \n",
            "_________________________________________________________________\n",
            "dense_1 (Dense)              (None, 5)                 325       \n",
            "=================================================================\n",
            "Total params: 77,333\n",
            "Trainable params: 77,333\n",
            "Non-trainable params: 0\n",
            "_________________________________________________________________\n"
          ],
          "name": "stdout"
        }
      ]
    },
    {
      "cell_type": "code",
      "metadata": {
        "id": "0dJyTXcw86SV",
        "colab_type": "code",
        "outputId": "c94e4181-da5b-4d94-b993-d48c952ffcf4",
        "colab": {
          "base_uri": "https://localhost:8080/",
          "height": 1000
        }
      },
      "source": [
        "history = lstm_model.fit(x=X_train_tokenized, y=Y_train, batch_size=32, epochs=50, validation_data=(X_dev_tokenized, Y_dev), class_weight=class_weight)"
      ],
      "execution_count": 5,
      "outputs": [
        {
          "output_type": "stream",
          "text": [
            "Train on 290693 samples, validate on 18723 samples\n",
            "Epoch 1/40\n",
            "290693/290693 [==============================] - 141s 485us/step - loss: 1.3055 - categorical_accuracy: 0.7751 - val_loss: 0.5732 - val_categorical_accuracy: 0.8113\n",
            "Epoch 2/40\n",
            "290693/290693 [==============================] - 144s 495us/step - loss: 0.9729 - categorical_accuracy: 0.8238 - val_loss: 0.4715 - val_categorical_accuracy: 0.8466\n",
            "Epoch 3/40\n",
            "290693/290693 [==============================] - 144s 496us/step - loss: 0.7913 - categorical_accuracy: 0.8570 - val_loss: 0.4143 - val_categorical_accuracy: 0.8695\n",
            "Epoch 4/40\n",
            "290693/290693 [==============================] - 146s 502us/step - loss: 0.6796 - categorical_accuracy: 0.8792 - val_loss: 0.3746 - val_categorical_accuracy: 0.8854\n",
            "Epoch 5/40\n",
            "290693/290693 [==============================] - 148s 508us/step - loss: 0.6015 - categorical_accuracy: 0.8959 - val_loss: 0.3996 - val_categorical_accuracy: 0.8739\n",
            "Epoch 6/40\n",
            "290693/290693 [==============================] - 143s 491us/step - loss: 0.5380 - categorical_accuracy: 0.9093 - val_loss: 0.3021 - val_categorical_accuracy: 0.9109\n",
            "Epoch 7/40\n",
            "290693/290693 [==============================] - 143s 492us/step - loss: 0.4866 - categorical_accuracy: 0.9218 - val_loss: 0.3063 - val_categorical_accuracy: 0.9102\n",
            "Epoch 8/40\n",
            "290693/290693 [==============================] - 141s 486us/step - loss: 0.4442 - categorical_accuracy: 0.9300 - val_loss: 0.2869 - val_categorical_accuracy: 0.9200\n",
            "Epoch 9/40\n",
            "290693/290693 [==============================] - 138s 476us/step - loss: 0.4106 - categorical_accuracy: 0.9369 - val_loss: 0.2678 - val_categorical_accuracy: 0.9241\n",
            "Epoch 10/40\n",
            "290693/290693 [==============================] - 138s 476us/step - loss: 0.3828 - categorical_accuracy: 0.9420 - val_loss: 0.2497 - val_categorical_accuracy: 0.9309\n",
            "Epoch 11/40\n",
            "290693/290693 [==============================] - 138s 475us/step - loss: 0.3604 - categorical_accuracy: 0.9462 - val_loss: 0.2237 - val_categorical_accuracy: 0.9395\n",
            "Epoch 12/40\n",
            "290693/290693 [==============================] - 139s 479us/step - loss: 0.3435 - categorical_accuracy: 0.9487 - val_loss: 0.2185 - val_categorical_accuracy: 0.9410\n",
            "Epoch 13/40\n",
            "290693/290693 [==============================] - 140s 480us/step - loss: 0.3294 - categorical_accuracy: 0.9514 - val_loss: 0.2100 - val_categorical_accuracy: 0.9445\n",
            "Epoch 14/40\n",
            "290693/290693 [==============================] - 140s 482us/step - loss: 0.3173 - categorical_accuracy: 0.9536 - val_loss: 0.2210 - val_categorical_accuracy: 0.9400\n",
            "Epoch 15/40\n",
            "290693/290693 [==============================] - 141s 485us/step - loss: 0.3063 - categorical_accuracy: 0.9557 - val_loss: 0.1943 - val_categorical_accuracy: 0.9491\n",
            "Epoch 16/40\n",
            "290693/290693 [==============================] - 143s 492us/step - loss: 0.2977 - categorical_accuracy: 0.9571 - val_loss: 0.1973 - val_categorical_accuracy: 0.9464\n",
            "Epoch 17/40\n",
            "290693/290693 [==============================] - 145s 498us/step - loss: 0.2878 - categorical_accuracy: 0.9585 - val_loss: 0.1966 - val_categorical_accuracy: 0.9492\n",
            "Epoch 18/40\n",
            "290693/290693 [==============================] - 143s 492us/step - loss: 0.2807 - categorical_accuracy: 0.9606 - val_loss: 0.1867 - val_categorical_accuracy: 0.9505\n",
            "Epoch 19/40\n",
            "290693/290693 [==============================] - 145s 500us/step - loss: 0.2738 - categorical_accuracy: 0.9610 - val_loss: 0.1952 - val_categorical_accuracy: 0.9492\n",
            "Epoch 20/40\n",
            "290693/290693 [==============================] - 145s 498us/step - loss: 0.2668 - categorical_accuracy: 0.9623 - val_loss: 0.1936 - val_categorical_accuracy: 0.9489\n",
            "Epoch 21/40\n",
            "290693/290693 [==============================] - 144s 494us/step - loss: 0.2608 - categorical_accuracy: 0.9632 - val_loss: 0.1747 - val_categorical_accuracy: 0.9557\n",
            "Epoch 22/40\n",
            "290693/290693 [==============================] - 144s 495us/step - loss: 0.2546 - categorical_accuracy: 0.9646 - val_loss: 0.1930 - val_categorical_accuracy: 0.9512\n",
            "Epoch 23/40\n",
            "290693/290693 [==============================] - 142s 489us/step - loss: 0.2501 - categorical_accuracy: 0.9651 - val_loss: 0.1805 - val_categorical_accuracy: 0.9566\n",
            "Epoch 24/40\n",
            "290693/290693 [==============================] - 141s 484us/step - loss: 0.2435 - categorical_accuracy: 0.9665 - val_loss: 0.2043 - val_categorical_accuracy: 0.9474\n",
            "Epoch 25/40\n",
            "290693/290693 [==============================] - 143s 490us/step - loss: 0.2388 - categorical_accuracy: 0.9676 - val_loss: 0.1843 - val_categorical_accuracy: 0.9541\n",
            "Epoch 26/40\n",
            "290693/290693 [==============================] - 142s 489us/step - loss: 0.2355 - categorical_accuracy: 0.9679 - val_loss: 0.1770 - val_categorical_accuracy: 0.9557\n",
            "Epoch 27/40\n",
            "290693/290693 [==============================] - 142s 488us/step - loss: 0.2298 - categorical_accuracy: 0.9688 - val_loss: 0.1766 - val_categorical_accuracy: 0.9584\n",
            "Epoch 28/40\n",
            "290693/290693 [==============================] - 142s 490us/step - loss: 0.2269 - categorical_accuracy: 0.9694 - val_loss: 0.1669 - val_categorical_accuracy: 0.9589\n",
            "Epoch 29/40\n",
            "290693/290693 [==============================] - 146s 504us/step - loss: 0.2226 - categorical_accuracy: 0.9701 - val_loss: 0.1741 - val_categorical_accuracy: 0.9555\n",
            "Epoch 30/40\n",
            "290693/290693 [==============================] - 143s 492us/step - loss: 0.2192 - categorical_accuracy: 0.9706 - val_loss: 0.1747 - val_categorical_accuracy: 0.9550\n",
            "Epoch 31/40\n",
            "290693/290693 [==============================] - 141s 487us/step - loss: 0.2159 - categorical_accuracy: 0.9712 - val_loss: 0.1677 - val_categorical_accuracy: 0.9590\n",
            "Epoch 32/40\n",
            "290693/290693 [==============================] - 141s 484us/step - loss: 0.2126 - categorical_accuracy: 0.9717 - val_loss: 0.1751 - val_categorical_accuracy: 0.9581\n",
            "Epoch 33/40\n",
            "290693/290693 [==============================] - 140s 480us/step - loss: 0.2082 - categorical_accuracy: 0.9725 - val_loss: 0.1663 - val_categorical_accuracy: 0.9607\n",
            "Epoch 34/40\n",
            "290693/290693 [==============================] - 140s 480us/step - loss: 0.2073 - categorical_accuracy: 0.9725 - val_loss: 0.1769 - val_categorical_accuracy: 0.9577\n",
            "Epoch 35/40\n",
            "290693/290693 [==============================] - 138s 476us/step - loss: 0.2038 - categorical_accuracy: 0.9732 - val_loss: 0.1610 - val_categorical_accuracy: 0.9614\n",
            "Epoch 36/40\n",
            "290693/290693 [==============================] - 139s 480us/step - loss: 0.2007 - categorical_accuracy: 0.9738 - val_loss: 0.1741 - val_categorical_accuracy: 0.9579\n",
            "Epoch 37/40\n",
            "290693/290693 [==============================] - 141s 486us/step - loss: 0.1982 - categorical_accuracy: 0.9743 - val_loss: 0.1771 - val_categorical_accuracy: 0.9571\n",
            "Epoch 38/40\n",
            "290693/290693 [==============================] - 143s 490us/step - loss: 0.1961 - categorical_accuracy: 0.9743 - val_loss: 0.1693 - val_categorical_accuracy: 0.9599\n",
            "Epoch 39/40\n",
            "290693/290693 [==============================] - 141s 484us/step - loss: 0.1945 - categorical_accuracy: 0.9746 - val_loss: 0.1710 - val_categorical_accuracy: 0.9583\n",
            "Epoch 40/40\n",
            "290693/290693 [==============================] - 140s 480us/step - loss: 0.1923 - categorical_accuracy: 0.9749 - val_loss: 0.1753 - val_categorical_accuracy: 0.9571\n"
          ],
          "name": "stdout"
        }
      ]
    },
    {
      "cell_type": "code",
      "metadata": {
        "id": "pY0SmhzS7MbE",
        "colab_type": "code",
        "outputId": "3d41e076-b526-4572-b2b4-edefd91c2cef",
        "colab": {
          "base_uri": "https://localhost:8080/",
          "height": 573
        }
      },
      "source": [
        "combined = join_histories_and_plot(\"Simple LSTM 64D\", history)"
      ],
      "execution_count": 7,
      "outputs": [
        {
          "output_type": "display_data",
          "data": {
            "image/png": "[encoded data removed]",
            "text/plain": [
              "<Figure size 432x288 with 1 Axes>"
            ]
          },
          "metadata": {
            "tags": []
          }
        },
        {
          "output_type": "display_data",
          "data": {
            "image/png": "[encoded data removed]",
            "text/plain": [
              "<Figure size 432x288 with 1 Axes>"
            ]
          },
          "metadata": {
            "tags": []
          }
        }
      ]
    },
    {
      "cell_type": "code",
      "metadata": {
        "id": "VV0mXNgZa_Ar",
        "colab_type": "code",
        "outputId": "c29ec203-8e53-4b02-8aee-cd619a5b9180",
        "colab": {
          "base_uri": "https://localhost:8080/",
          "height": 102
        }
      },
      "source": [
        "getConfusionMatrix(lstm_model, X_test_tokenized, Y_test)"
      ],
      "execution_count": 8,
      "outputs": [
        {
          "output_type": "stream",
          "text": [
            "[[ 925    0    9    7   12]\n",
            " [   2 1056    2   10   12]\n",
            " [   1    0  190   14    1]\n",
            " [   0    1   10  192    2]\n",
            " [  15    9   12   13  611]]\n"
          ],
          "name": "stdout"
        }
      ]
    },
    {
      "cell_type": "code",
      "metadata": {
        "id": "5cmmSCDwqRhx",
        "colab_type": "code",
        "outputId": "63de770a-6105-468f-be7d-53a1dec93aa8",
        "colab": {
          "base_uri": "https://localhost:8080/",
          "height": 51
        }
      },
      "source": [
        "lstm_model.evaluate(X_test_tokenized, Y_test)"
      ],
      "execution_count": 9,
      "outputs": [
        {
          "output_type": "stream",
          "text": [
            "3106/3106 [==============================] - 0s 92us/step\n"
          ],
          "name": "stdout"
        },
        {
          "output_type": "execute_result",
          "data": {
            "text/plain": [
              "[0.16351377153235408, 0.9575016097875081]"
            ]
          },
          "metadata": {
            "tags": []
          },
          "execution_count": 9
        }
      ]
    },
    {
      "cell_type": "code",
      "metadata": {
        "id": "e2pwfXNuCfd2",
        "colab_type": "code",
        "colab": {}
      },
      "source": [
        ""
      ],
      "execution_count": 0,
      "outputs": []
    }
  ]
}