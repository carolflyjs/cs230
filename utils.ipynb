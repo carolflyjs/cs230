{
  "nbformat": 4,
  "nbformat_minor": 0,
  "metadata": {
    "colab": {
      "name": "utils.ipynb",
      "provenance": [],
      "collapsed_sections": [],
      "authorship_tag": "ABX9TyPtVMQgx5e/ri/kbOK83DGV",
      "include_colab_link": true
    },
    "kernelspec": {
      "name": "python3",
      "display_name": "Python 3"
    }
  },
  "cells": [
    {
      "cell_type": "markdown",
      "metadata": {
        "id": "view-in-github",
        "colab_type": "text"
      },
      "source": [
        "<a href=\"https://colab.research.google.com/github/carolflyjs/cs230/blob/master/utils.ipynb\" target=\"_parent\"><img src=\"https://colab.research.google.com/assets/colab-badge.svg\" alt=\"Open In Colab\"/></a>"
      ]
    },
    {
      "cell_type": "code",
      "metadata": {
        "id": "UNB7thePRkPk",
        "colab_type": "code",
        "outputId": "2c28ff2a-8ef2-4b5b-e1a2-609036a313fb",
        "colab": {
          "base_uri": "https://localhost:8080/",
          "height": 34
        }
      },
      "source": [
        "def store_weights(model, model_name, path=\"/content/drive/My Drive/cs230/\"):\n",
        "  model_json = model.to_json()\n",
        "  with open(path + model_name + \".json\", \"w\") as json_file:\n",
        "      json_file.write(model_json)\n",
        "  # serialize weights to HDF5\n",
        "  model.save_weights(path + model_name + \".h5\")\n",
        "  print(\"Saved model to disk\")\n",
        "\n",
        "print(\"store_weights(mode, model_name, path=\\\"/content/drive/My Drive/cs230/\\\")\")"
      ],
      "execution_count": 0,
      "outputs": [
        {
          "output_type": "stream",
          "text": [
            "Loaded method sotre_weights(mode, model_name, path=\"/content/drive/My Drive/cs230/\")\n"
          ],
          "name": "stdout"
        }
      ]
    },
    {
      "cell_type": "code",
      "metadata": {
        "id": "pURZeE3ISNgj",
        "colab_type": "code",
        "outputId": "2b24a37b-1c32-4f28-d453-c102938226e4",
        "colab": {
          "base_uri": "https://localhost:8080/",
          "height": 34
        }
      },
      "source": [
        "def load_weights(model, model_name, path=\"/content/drive/My Drive/cs230/\"):\n",
        "  model.load_weights(path + model_name + \".h5\")\n",
        "\n",
        "print(\"load_weights(mode, model_name, path=\\\"/content/drive/My Drive/cs230/\\\")\")"
      ],
      "execution_count": 0,
      "outputs": [
        {
          "output_type": "stream",
          "text": [
            "Loaded method load_weights(mode, model_name, path=\"/content/drive/My Drive/cs230/\")\n"
          ],
          "name": "stdout"
        }
      ]
    },
    {
      "cell_type": "code",
      "metadata": {
        "id": "pzNk3Cco1LFK",
        "colab_type": "code",
        "colab": {}
      },
      "source": [
        "def plot_histories(history, model_name = \"Model\"):\n",
        "  # Plot training & validation accuracy values\n",
        "  plt.plot(history['categorical_accuracy'])\n",
        "  plt.plot(history['val_categorical_accuracy'])\n",
        "  plt.title(model_name + ' accuracy')\n",
        "  plt.ylabel('Accuracy')\n",
        "  plt.xlabel('Epoch')\n",
        "  plt.legend(['Train', 'Validation'], loc='upper left')\n",
        "  plt.show()\n",
        "\n",
        "  # Plot training & validation loss values\n",
        "  plt.plot(history['loss'])\n",
        "  plt.plot(history['val_loss'])\n",
        "  plt.title('Model loss')\n",
        "  plt.ylabel('Loss')\n",
        "  plt.xlabel('Epoch')\n",
        "  plt.legend(['Train', 'Validation'], loc='upper left')\n",
        "  plt.show()"
      ],
      "execution_count": 0,
      "outputs": []
    },
    {
      "cell_type": "code",
      "metadata": {
        "id": "3XDILocmSkq9",
        "colab_type": "code",
        "outputId": "9754038e-ccbd-4d49-f0e1-e4cf1fd6659e",
        "colab": {
          "base_uri": "https://localhost:8080/",
          "height": 34
        }
      },
      "source": [
        "def join_histories_and_plot(model_name = \"Model\", *histories):\n",
        "  combined = dict()\n",
        "  for history in histories:\n",
        "    for attribute in history.history:\n",
        "      if attribute not in combined:\n",
        "        combined[attribute] = list()\n",
        "      combined[attribute].extend(history.history[attribute])\n",
        "  plot_histories(combined, model_name)\n",
        "  return combined\n",
        "\n",
        "print(\"join_histories_and_plot(*histories)\\n\")"
      ],
      "execution_count": 0,
      "outputs": [
        {
          "output_type": "stream",
          "text": [
            "join_histories(*histories)\n"
          ],
          "name": "stdout"
        }
      ]
    },
    {
      "cell_type": "code",
      "metadata": {
        "id": "tbqxN0WsULQh",
        "colab_type": "code",
        "outputId": "42837fd5-86ab-4dd6-9398-49721feafdc9",
        "colab": {
          "base_uri": "https://localhost:8080/",
          "height": 119
        }
      },
      "source": [
        "def load_embedding_matrix(embeddings_index, vocab_size, embedding_dim, word_index):\n",
        "    embedding_matrix = np.zeros((vocab_size, embedding_dim))\n",
        "    not_found = []\n",
        "    for word, i in word_index.items():\n",
        "        embedding_vector = embeddings_index.get(word)\n",
        "        if embedding_vector is not None:\n",
        "            # words not found in embedding index will be all-zeros.\n",
        "            embedding_matrix[i] = embedding_vector\n",
        "        else:\n",
        "            not_found.append((word, i))\n",
        "    return embedding_matrix, not_found\n",
        "\n",
        "print(\"load_embedding_matrix(embeddings_index, vocab_size, embedding_dim, word_index)\")\n",
        "print(\"embedding_index = pre-trained embedding dictionary with key being the word and value being the embedding scores\")\n",
        "print(\"vocab_size = total number of unique tokens in the training data\")\n",
        "print(\"embedding_dim = dimension used in the embedding_index for each token\")\n",
        "print(\"word_index = token dictionary with key being the word and value being the token\\n\")"
      ],
      "execution_count": 0,
      "outputs": [
        {
          "output_type": "stream",
          "text": [
            "load_embedding_matrix(embeddings_index, vocab_size, embedding_dim, word_index)\n",
            "embedding_index = pre-trained embedding dictionary with key being the word and value being the embedding scores\n",
            "vocab_size = total number of unique tokens in the training data\n",
            "embedding_dim = dimension used in the embedding_index for each token\n",
            "word_index = token dictionary with key being the word and value being the token\n",
            "\n"
          ],
          "name": "stdout"
        }
      ]
    },
    {
      "cell_type": "code",
      "metadata": {
        "id": "zjaNwZIBVTa4",
        "colab_type": "code",
        "colab": {}
      },
      "source": [
        "def getConfusionMatrix(model, X_tokenized, Y):\n",
        "\n",
        "  from sklearn import metrics\n",
        "  Y_predicted = model.predict(X_tokenized)\n",
        "  matrix = metrics.confusion_matrix(Y.argmax(axis=1), Y_predicted.argmax(axis=1))\n",
        "\n",
        "  print(matrix)"
      ],
      "execution_count": 0,
      "outputs": []
    },
    {
      "cell_type": "code",
      "metadata": {
        "id": "0JGUaZRlZI1o",
        "colab_type": "code",
        "colab": {}
      },
      "source": [
        "def errorAnalysis(model, X_tokenized, Y):\n",
        "  reverse_class_dict = {\n",
        "      0: \"BT\",\n",
        "      1: \"NT\",\n",
        "      2: \"NPT\",\n",
        "      3: \"PT\",\n",
        "      4: \"URT\"\n",
        "  }\n",
        "  Y_predicted = model.predict(X_tokenized)\n",
        "  print(\"Source Term, Target Term, Ground Truth, Prediction \\n\")\n",
        "  for i in range(len(Y_predicted)):\n",
        "    y_predict_scores = Y_predicted[i, :]\n",
        "    y_predict_index = np.argmax(y_predict_scores)\n",
        "    y_predict = reverse_class_dict.get(y_predict_index)\n",
        "    y_actual = reverse_class_dict.get(np.argmax(Y[i]))\n",
        "    if y_predict != y_actual:\n",
        "      print(X_test_raw.iloc[i, 0] + \",\" + X_test_raw.iloc[i, 1] + \",\" + y_actual + \",\" + y_predict, y_predict_scores[y_predict_index])\n",
        "      print(\"\\n\")"
      ],
      "execution_count": 0,
      "outputs": []
    }
  ]
}