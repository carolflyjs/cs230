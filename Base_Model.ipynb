{
  "nbformat": 4,
  "nbformat_minor": 0,
  "metadata": {
    "colab": {
      "name": "Base_Model.ipynb",
      "provenance": [],
      "collapsed_sections": [],
      "mount_file_id": "1pTPR2zwqC7OYIpq8Gsn2XbJi8td6pt2k",
      "authorship_tag": "ABX9TyMxB3BRoJwzkeRhNsgg4xgU",
      "include_colab_link": true
    },
    "kernelspec": {
      "name": "python3",
      "display_name": "Python 3"
    },
    "accelerator": "TPU"
  },
  "cells": [
    {
      "cell_type": "markdown",
      "metadata": {
        "id": "view-in-github",
        "colab_type": "text"
      },
      "source": [
        "<a href=\"https://colab.research.google.com/github/carolflyjs/cs230/blob/master/Base_Model.ipynb\" target=\"_parent\"><img src=\"https://colab.research.google.com/assets/colab-badge.svg\" alt=\"Open In Colab\"/></a>"
      ]
    },
    {
      "cell_type": "code",
      "metadata": {
        "id": "4V_8l4OF8N0g",
        "colab_type": "code",
        "outputId": "f87249c8-dd22-481a-dea9-d8d2a1183c83",
        "colab": {
          "base_uri": "https://localhost:8080/",
          "height": 403
        }
      },
      "source": [
        "%run \"/content/drive/My Drive/Colab Notebooks/Data_Processing_v2.ipynb\"\n",
        "%run \"/content/drive/My Drive/Colab Notebooks/utils.ipynb\""
      ],
      "execution_count": 4,
      "outputs": [
        {
          "output_type": "stream",
          "text": [
            "Collecting pyspellchecker\n",
            "\u001b[?25l  Downloading https://files.pythonhosted.org/packages/04/d1/ec4e830e9f9c1fd788e1459dd09279fdf807bc7a475579fd7192450b879c/pyspellchecker-0.5.4-py2.py3-none-any.whl (1.9MB)\n",
            "\u001b[K     |████████████████████████████████| 1.9MB 3.4MB/s \n",
            "\u001b[?25hInstalling collected packages: pyspellchecker\n",
            "Successfully installed pyspellchecker-0.5.4\n"
          ],
          "name": "stdout"
        },
        {
          "output_type": "display_data",
          "data": {
            "text/html": [
              "<p style=\"color: red;\">\n",
              "The default version of TensorFlow in Colab will soon switch to TensorFlow 2.x.<br>\n",
              "We recommend you <a href=\"https://www.tensorflow.org/guide/migrate\" target=\"_blank\">upgrade</a> now \n",
              "or ensure your notebook will continue to use TensorFlow 1.x via the <code>%tensorflow_version 1.x</code> magic:\n",
              "<a href=\"https://colab.research.google.com/notebooks/tensorflow_version.ipynb\" target=\"_blank\">more info</a>.</p>\n"
            ],
            "text/plain": [
              "<IPython.core.display.HTML object>"
            ]
          },
          "metadata": {
            "tags": []
          }
        },
        {
          "output_type": "stream",
          "text": [
            "Using TensorFlow backend.\n"
          ],
          "name": "stderr"
        },
        {
          "output_type": "stream",
          "text": [
            "load_file(path, delimiter=\",\"): return df\n",
            "data_prep(df, x_columns, y_columns): return X_train, Y_train\n",
            "removeSpellingErrors(df): return new_df\n",
            "tokenize_and_pad(X_train), return X_train_padded, max_value, vocab_size, tokenizer\n",
            "store_weights(mode, model_name, path=\"/content/drive/My Drive/cs230/\")\n",
            "load_weights(mode, model_name, path=\"/content/drive/My Drive/cs230/\")\n",
            "join_histories_and_plot(*histories)\n",
            "\n",
            "load_embedding_matrix(embeddings_index, vocab_size, embedding_dim, word_index)\n",
            "embedding_index = pre-trained embedding dictionary with key being the word and value being the embedding scores\n",
            "vocab_size = total number of unique tokens in the training data\n",
            "embedding_dim = dimension used in the embedding_index for each token\n",
            "word_index = token dictionary with key being the word and value being the token\n",
            "\n"
          ],
          "name": "stdout"
        }
      ]
    },
    {
      "cell_type": "markdown",
      "metadata": {
        "id": "Pa6DCPsCdTuy",
        "colab_type": "text"
      },
      "source": [
        "### Build a base model with one hidden layer\n",
        "\n",
        "1.   L1 is an embedding layer to embed all words. It is then flattened.\n",
        "2.   L2 is the softmax output.\n",
        "\n",
        "Use standard cross entropy loss function.\n",
        "\n",
        "\n"
      ]
    },
    {
      "cell_type": "code",
      "metadata": {
        "id": "QGBf6IiiR1u_",
        "colab_type": "code",
        "colab": {}
      },
      "source": [
        "def build_naive_embedding_model(embedding_dim = 10, optimizer=\"adam\"): \n",
        "    X_input = Input(shape=(max_value * 2,), dtype=\"int32\")\n",
        "    X = Embedding(vocab_size, embedding_dim)(X_input)\n",
        "    X = keras.layers.Flatten(\"channels_last\")(X)\n",
        "    X = Dense(5, activation=\"softmax\")(X)\n",
        "    # X = Dense(5, activation=\"softmax\", kernel_regularizer=keras.regularizers.l2(0.001))(X)\n",
        "\n",
        "    model = Model(inputs=[X_input], outputs=X)\n",
        "    model.compile(loss='categorical_crossentropy', optimizer=optimizer, metrics=['categorical_accuracy'])\n",
        "    model.summary()\n",
        "\n",
        "    return model"
      ],
      "execution_count": 0,
      "outputs": []
    },
    {
      "cell_type": "code",
      "metadata": {
        "id": "Kq2CiC2iCWn6",
        "colab_type": "code",
        "colab": {
          "base_uri": "https://localhost:8080/",
          "height": 1000
        },
        "outputId": "6676a9e8-d457-43fc-8c13-e55446313db2"
      },
      "source": [
        "learning_rate = 0.03\n",
        "print(learning_rate)\n",
        "optimizer = keras.optimizers.Adagrad(lr=learning_rate)\n",
        "\n",
        "base_model = build_naive_embedding_model(optimizer=optimizer)\n",
        "history = base_model.fit(x=X_train_tokenized, y=Y_train, batch_size=32, epochs=50, validation_data=(X_dev_tokenized, Y_dev), class_weight=class_weight)\n",
        "combined = join_histories_and_plot(\"Base Model\", history)"
      ],
      "execution_count": 16,
      "outputs": [
        {
          "output_type": "stream",
          "text": [
            "0.03\n",
            "Model: \"model_3\"\n",
            "_________________________________________________________________\n",
            "Layer (type)                 Output Shape              Param #   \n",
            "=================================================================\n",
            "input_3 (InputLayer)         (None, 16)                0         \n",
            "_________________________________________________________________\n",
            "embedding_3 (Embedding)      (None, 16, 10)            35170     \n",
            "_________________________________________________________________\n",
            "flatten_3 (Flatten)          (None, 160)               0         \n",
            "_________________________________________________________________\n",
            "dense_3 (Dense)              (None, 5)                 805       \n",
            "=================================================================\n",
            "Total params: 35,975\n",
            "Trainable params: 35,975\n",
            "Non-trainable params: 0\n",
            "_________________________________________________________________\n",
            "Train on 290693 samples, validate on 18723 samples\n",
            "Epoch 1/50\n",
            "290693/290693 [==============================] - 13s 44us/step - loss: 1.3491 - categorical_accuracy: 0.7550 - val_loss: 0.5807 - val_categorical_accuracy: 0.7825\n",
            "Epoch 2/50\n",
            "290693/290693 [==============================] - 12s 43us/step - loss: 1.1852 - categorical_accuracy: 0.7889 - val_loss: 0.5598 - val_categorical_accuracy: 0.7869\n",
            "Epoch 3/50\n",
            "290693/290693 [==============================] - 13s 44us/step - loss: 1.1396 - categorical_accuracy: 0.7983 - val_loss: 0.5283 - val_categorical_accuracy: 0.8014\n",
            "Epoch 4/50\n",
            "290693/290693 [==============================] - 13s 43us/step - loss: 1.1121 - categorical_accuracy: 0.8046 - val_loss: 0.5368 - val_categorical_accuracy: 0.7961\n",
            "Epoch 5/50\n",
            "290693/290693 [==============================] - 13s 43us/step - loss: 1.0924 - categorical_accuracy: 0.8083 - val_loss: 0.5231 - val_categorical_accuracy: 0.8026\n",
            "Epoch 6/50\n",
            "290693/290693 [==============================] - 13s 43us/step - loss: 1.0774 - categorical_accuracy: 0.8113 - val_loss: 0.5220 - val_categorical_accuracy: 0.8032\n",
            "Epoch 7/50\n",
            "290693/290693 [==============================] - 13s 43us/step - loss: 1.0656 - categorical_accuracy: 0.8137 - val_loss: 0.5092 - val_categorical_accuracy: 0.8072\n",
            "Epoch 8/50\n",
            "290693/290693 [==============================] - 13s 43us/step - loss: 1.0558 - categorical_accuracy: 0.8154 - val_loss: 0.5147 - val_categorical_accuracy: 0.8061\n",
            "Epoch 9/50\n",
            "290693/290693 [==============================] - 13s 43us/step - loss: 1.0474 - categorical_accuracy: 0.8169 - val_loss: 0.5119 - val_categorical_accuracy: 0.8065\n",
            "Epoch 10/50\n",
            "290693/290693 [==============================] - 13s 43us/step - loss: 1.0403 - categorical_accuracy: 0.8182 - val_loss: 0.5122 - val_categorical_accuracy: 0.8069\n",
            "Epoch 11/50\n",
            "290693/290693 [==============================] - 13s 43us/step - loss: 1.0339 - categorical_accuracy: 0.8197 - val_loss: 0.5098 - val_categorical_accuracy: 0.8079\n",
            "Epoch 12/50\n",
            "290693/290693 [==============================] - 13s 43us/step - loss: 1.0285 - categorical_accuracy: 0.8206 - val_loss: 0.5041 - val_categorical_accuracy: 0.8100\n",
            "Epoch 13/50\n",
            "290693/290693 [==============================] - 13s 43us/step - loss: 1.0235 - categorical_accuracy: 0.8217 - val_loss: 0.5008 - val_categorical_accuracy: 0.8117\n",
            "Epoch 14/50\n",
            "290693/290693 [==============================] - 13s 43us/step - loss: 1.0190 - categorical_accuracy: 0.8226 - val_loss: 0.5046 - val_categorical_accuracy: 0.8096\n",
            "Epoch 15/50\n",
            "290693/290693 [==============================] - 12s 43us/step - loss: 1.0149 - categorical_accuracy: 0.8231 - val_loss: 0.5049 - val_categorical_accuracy: 0.8096\n",
            "Epoch 16/50\n",
            "290693/290693 [==============================] - 13s 43us/step - loss: 1.0113 - categorical_accuracy: 0.8237 - val_loss: 0.5032 - val_categorical_accuracy: 0.8102\n",
            "Epoch 17/50\n",
            "290693/290693 [==============================] - 13s 43us/step - loss: 1.0078 - categorical_accuracy: 0.8245 - val_loss: 0.4970 - val_categorical_accuracy: 0.8129\n",
            "Epoch 18/50\n",
            "290693/290693 [==============================] - 13s 43us/step - loss: 1.0045 - categorical_accuracy: 0.8248 - val_loss: 0.4929 - val_categorical_accuracy: 0.8140\n",
            "Epoch 19/50\n",
            "290693/290693 [==============================] - 13s 43us/step - loss: 1.0017 - categorical_accuracy: 0.8259 - val_loss: 0.4999 - val_categorical_accuracy: 0.8119\n",
            "Epoch 20/50\n",
            "290693/290693 [==============================] - 13s 44us/step - loss: 0.9990 - categorical_accuracy: 0.8262 - val_loss: 0.5041 - val_categorical_accuracy: 0.8096\n",
            "Epoch 21/50\n",
            "290693/290693 [==============================] - 13s 44us/step - loss: 0.9965 - categorical_accuracy: 0.8269 - val_loss: 0.4990 - val_categorical_accuracy: 0.8118\n",
            "Epoch 22/50\n",
            "290693/290693 [==============================] - 13s 43us/step - loss: 0.9940 - categorical_accuracy: 0.8273 - val_loss: 0.4976 - val_categorical_accuracy: 0.8132\n",
            "Epoch 23/50\n",
            "290693/290693 [==============================] - 13s 44us/step - loss: 0.9918 - categorical_accuracy: 0.8275 - val_loss: 0.4974 - val_categorical_accuracy: 0.8127\n",
            "Epoch 24/50\n",
            "290693/290693 [==============================] - 14s 48us/step - loss: 0.9897 - categorical_accuracy: 0.8279 - val_loss: 0.5005 - val_categorical_accuracy: 0.8116\n",
            "Epoch 25/50\n",
            "290693/290693 [==============================] - 13s 45us/step - loss: 0.9877 - categorical_accuracy: 0.8282 - val_loss: 0.4959 - val_categorical_accuracy: 0.8135\n",
            "Epoch 26/50\n",
            "290693/290693 [==============================] - 13s 44us/step - loss: 0.9858 - categorical_accuracy: 0.8285 - val_loss: 0.4978 - val_categorical_accuracy: 0.8124\n",
            "Epoch 27/50\n",
            "290693/290693 [==============================] - 13s 45us/step - loss: 0.9841 - categorical_accuracy: 0.8289 - val_loss: 0.4952 - val_categorical_accuracy: 0.8136\n",
            "Epoch 28/50\n",
            "290693/290693 [==============================] - 13s 44us/step - loss: 0.9824 - categorical_accuracy: 0.8289 - val_loss: 0.4912 - val_categorical_accuracy: 0.8155\n",
            "Epoch 29/50\n",
            "290693/290693 [==============================] - 13s 44us/step - loss: 0.9808 - categorical_accuracy: 0.8293 - val_loss: 0.5020 - val_categorical_accuracy: 0.8105\n",
            "Epoch 30/50\n",
            "290693/290693 [==============================] - 13s 43us/step - loss: 0.9793 - categorical_accuracy: 0.8294 - val_loss: 0.4903 - val_categorical_accuracy: 0.8153\n",
            "Epoch 31/50\n",
            "290693/290693 [==============================] - 13s 44us/step - loss: 0.9778 - categorical_accuracy: 0.8298 - val_loss: 0.4933 - val_categorical_accuracy: 0.8137\n",
            "Epoch 32/50\n",
            "290693/290693 [==============================] - 13s 44us/step - loss: 0.9764 - categorical_accuracy: 0.8300 - val_loss: 0.4989 - val_categorical_accuracy: 0.8115\n",
            "Epoch 33/50\n",
            "290693/290693 [==============================] - 13s 44us/step - loss: 0.9751 - categorical_accuracy: 0.8299 - val_loss: 0.4931 - val_categorical_accuracy: 0.8135\n",
            "Epoch 34/50\n",
            "290693/290693 [==============================] - 13s 44us/step - loss: 0.9738 - categorical_accuracy: 0.8304 - val_loss: 0.4927 - val_categorical_accuracy: 0.8140\n",
            "Epoch 35/50\n",
            "290693/290693 [==============================] - 13s 44us/step - loss: 0.9725 - categorical_accuracy: 0.8307 - val_loss: 0.4919 - val_categorical_accuracy: 0.8143\n",
            "Epoch 36/50\n",
            "290693/290693 [==============================] - 13s 44us/step - loss: 0.9715 - categorical_accuracy: 0.8308 - val_loss: 0.4928 - val_categorical_accuracy: 0.8135\n",
            "Epoch 37/50\n",
            "290693/290693 [==============================] - 13s 44us/step - loss: 0.9703 - categorical_accuracy: 0.8309 - val_loss: 0.4894 - val_categorical_accuracy: 0.8156\n",
            "Epoch 38/50\n",
            "290693/290693 [==============================] - 13s 43us/step - loss: 0.9693 - categorical_accuracy: 0.8311 - val_loss: 0.4973 - val_categorical_accuracy: 0.8117\n",
            "Epoch 39/50\n",
            "290693/290693 [==============================] - 13s 44us/step - loss: 0.9683 - categorical_accuracy: 0.8311 - val_loss: 0.4903 - val_categorical_accuracy: 0.8148\n",
            "Epoch 40/50\n",
            "290693/290693 [==============================] - 13s 44us/step - loss: 0.9672 - categorical_accuracy: 0.8314 - val_loss: 0.4919 - val_categorical_accuracy: 0.8142\n",
            "Epoch 41/50\n",
            "290693/290693 [==============================] - 13s 44us/step - loss: 0.9663 - categorical_accuracy: 0.8318 - val_loss: 0.4908 - val_categorical_accuracy: 0.8143\n",
            "Epoch 42/50\n",
            "290693/290693 [==============================] - 13s 44us/step - loss: 0.9654 - categorical_accuracy: 0.8318 - val_loss: 0.4907 - val_categorical_accuracy: 0.8142\n",
            "Epoch 43/50\n",
            "290693/290693 [==============================] - 13s 43us/step - loss: 0.9645 - categorical_accuracy: 0.8317 - val_loss: 0.4913 - val_categorical_accuracy: 0.8144\n",
            "Epoch 44/50\n",
            "290693/290693 [==============================] - 13s 43us/step - loss: 0.9636 - categorical_accuracy: 0.8320 - val_loss: 0.4909 - val_categorical_accuracy: 0.8138\n",
            "Epoch 45/50\n",
            "290693/290693 [==============================] - 13s 44us/step - loss: 0.9628 - categorical_accuracy: 0.8320 - val_loss: 0.4912 - val_categorical_accuracy: 0.8139\n",
            "Epoch 46/50\n",
            "290693/290693 [==============================] - 13s 44us/step - loss: 0.9619 - categorical_accuracy: 0.8324 - val_loss: 0.4968 - val_categorical_accuracy: 0.8115\n",
            "Epoch 47/50\n",
            "290693/290693 [==============================] - 13s 44us/step - loss: 0.9612 - categorical_accuracy: 0.8324 - val_loss: 0.4957 - val_categorical_accuracy: 0.8123\n",
            "Epoch 48/50\n",
            "290693/290693 [==============================] - 13s 43us/step - loss: 0.9605 - categorical_accuracy: 0.8325 - val_loss: 0.4922 - val_categorical_accuracy: 0.8138\n",
            "Epoch 49/50\n",
            "290693/290693 [==============================] - 13s 45us/step - loss: 0.9598 - categorical_accuracy: 0.8327 - val_loss: 0.4885 - val_categorical_accuracy: 0.8148\n",
            "Epoch 50/50\n",
            "290693/290693 [==============================] - 13s 43us/step - loss: 0.9590 - categorical_accuracy: 0.8328 - val_loss: 0.4897 - val_categorical_accuracy: 0.8148\n"
          ],
          "name": "stdout"
        },
        {
          "output_type": "display_data",
          "data": {
            "image/png": "[encoded data removed]",
            "text/plain": [
              "<Figure size 432x288 with 1 Axes>"
            ]
          },
          "metadata": {
            "tags": []
          }
        },
        {
          "output_type": "display_data",
          "data": {
            "image/png": "[encoded data removed]",
            "text/plain": [
              "<Figure size 432x288 with 1 Axes>"
            ]
          },
          "metadata": {
            "tags": []
          }
        }
      ]
    },
    {
      "cell_type": "code",
      "metadata": {
        "id": "FUqMG6CYCeFx",
        "colab_type": "code",
        "colab": {
          "base_uri": "https://localhost:8080/",
          "height": 102
        },
        "outputId": "2cbf85ab-35be-4f50-91dc-fb46f5bf6be4"
      },
      "source": [
        "getConfusionMatrix(base_model, X_test_tokenized, Y_test)"
      ],
      "execution_count": 17,
      "outputs": [
        {
          "output_type": "stream",
          "text": [
            "[[ 873   12   16   14   38]\n",
            " [   6 1011   16   17   32]\n",
            " [   6    1  151    8   40]\n",
            " [   3    8    6  155   33]\n",
            " [  37   48  107  114  354]]\n"
          ],
          "name": "stdout"
        }
      ]
    },
    {
      "cell_type": "code",
      "metadata": {
        "id": "KRPCgmM5Ytj0",
        "colab_type": "code",
        "colab": {
          "base_uri": "https://localhost:8080/",
          "height": 51
        },
        "outputId": "7d9eb236-614f-4162-b792-fb31cc1f2e55"
      },
      "source": [
        "base_model.evaluate(x=X_test_tokenized, y=Y_test)"
      ],
      "execution_count": 18,
      "outputs": [
        {
          "output_type": "stream",
          "text": [
            "3106/3106 [==============================] - 0s 19us/step\n"
          ],
          "name": "stdout"
        },
        {
          "output_type": "execute_result",
          "data": {
            "text/plain": [
              "[0.49148379148242555, 0.8190598840952994]"
            ]
          },
          "metadata": {
            "tags": []
          },
          "execution_count": 18
        }
      ]
    },
    {
      "cell_type": "code",
      "metadata": {
        "id": "1GpHlTWWteAb",
        "colab_type": "code",
        "colab": {}
      },
      "source": [
        "errorAnalysis(base_model, X_test_tokenized, Y_test)"
      ],
      "execution_count": 0,
      "outputs": []
    },
    {
      "cell_type": "code",
      "metadata": {
        "id": "EUt7qjny2Mpb",
        "colab_type": "code",
        "colab": {}
      },
      "source": [
        ""
      ],
      "execution_count": 0,
      "outputs": []
    }
  ]
}