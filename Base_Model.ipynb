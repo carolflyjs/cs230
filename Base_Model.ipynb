{
  "nbformat": 4,
  "nbformat_minor": 0,
  "metadata": {
    "colab": {
      "name": "Base_Model.ipynb",
      "provenance": [],
      "mount_file_id": "1WR77uvi4B-23o8tHycr-vU7zegftuS6j",
      "authorship_tag": "ABX9TyMlyrYeq7VekSPgQg9YYZaH",
      "include_colab_link": true
    },
    "kernelspec": {
      "name": "python3",
      "display_name": "Python 3"
    }
  },
  "cells": [
    {
      "cell_type": "markdown",
      "metadata": {
        "id": "view-in-github",
        "colab_type": "text"
      },
      "source": [
        "<a href=\"https://colab.research.google.com/github/carolflyjs/cs230/blob/master/Base_Model.ipynb\" target=\"_parent\"><img src=\"https://colab.research.google.com/assets/colab-badge.svg\" alt=\"Open In Colab\"/></a>"
      ]
    },
    {
      "cell_type": "markdown",
      "metadata": {
        "id": "WvIMW2ihc5Ml",
        "colab_type": "text"
      },
      "source": [
        "### Import Packages"
      ]
    },
    {
      "cell_type": "code",
      "metadata": {
        "id": "CDa0KyhLq90E",
        "colab_type": "code",
        "colab": {
          "base_uri": "https://localhost:8080/",
          "height": 80
        },
        "outputId": "da566186-8ba5-42b5-efd9-8c9aaaa80263"
      },
      "source": [
        "import pandas as pd\n",
        "import os\n",
        "import tensorflow as tf\n",
        "import tensorflow_hub as hub\n",
        "import keras\n",
        "import numpy as np\n",
        "from keras.layers import Input, Dense, concatenate, Dot, Embedding\n",
        "from keras.engine import Layer\n",
        "from keras.models import Model\n",
        "from keras import backend as K\n",
        "from keras.preprocessing import text\n",
        "from keras.preprocessing import sequence\n",
        "import matplotlib.pyplot as plt\n",
        "from sklearn.utils import shuffle"
      ],
      "execution_count": 1,
      "outputs": [
        {
          "output_type": "display_data",
          "data": {
            "text/html": [
              "<p style=\"color: red;\">\n",
              "The default version of TensorFlow in Colab will soon switch to TensorFlow 2.x.<br>\n",
              "We recommend you <a href=\"https://www.tensorflow.org/guide/migrate\" target=\"_blank\">upgrade</a> now \n",
              "or ensure your notebook will continue to use TensorFlow 1.x via the <code>%tensorflow_version 1.x</code> magic:\n",
              "<a href=\"https://colab.research.google.com/notebooks/tensorflow_version.ipynb\" target=\"_blank\">more info</a>.</p>\n"
            ],
            "text/plain": [
              "<IPython.core.display.HTML object>"
            ]
          },
          "metadata": {
            "tags": []
          }
        },
        {
          "output_type": "stream",
          "text": [
            "Using TensorFlow backend.\n"
          ],
          "name": "stderr"
        }
      ]
    },
    {
      "cell_type": "markdown",
      "metadata": {
        "id": "rCy9FTHmdDcS",
        "colab_type": "text"
      },
      "source": [
        "### Load File and Prep Data"
      ]
    },
    {
      "cell_type": "code",
      "metadata": {
        "id": "0Kc8HJQprLyH",
        "colab_type": "code",
        "colab": {}
      },
      "source": [
        "def load_file(path, delimiter=\",\"):\n",
        "    df = pd.read_csv(path, delimiter=delimiter)\n",
        "    df = shuffle(df)\n",
        "    class_dict = {\n",
        "      \"BT\": 0,\n",
        "      \"NT\": 1,\n",
        "      \"NPT\": 2,\n",
        "      \"PT\": 2,\n",
        "      \"RT\": 3,\n",
        "      \"URT\": 3\n",
        "    }\n",
        "    df[\"label\"] = df[\"label\"].apply(lambda x: class_dict[x])\n",
        "    return df\n",
        "\n",
        "def data_prep(df, x_columns, y_columns):\n",
        "    X_train = df[x_columns]\n",
        "    Y_train = df[y_columns]\n",
        "    return X_train, Y_train"
      ],
      "execution_count": 0,
      "outputs": []
    },
    {
      "cell_type": "code",
      "metadata": {
        "id": "FEEGX58lsb3R",
        "colab_type": "code",
        "colab": {}
      },
      "source": [
        "df = load_file(\"/content/drive/My Drive/cs230/train.csv\")\n",
        "X_train_raw, Y_train = data_prep(df, [\"source\", \"target\"], [\"label\"])\n",
        "Y_train_labels = keras.utils.to_categorical(Y_train, num_classes=4)"
      ],
      "execution_count": 0,
      "outputs": []
    },
    {
      "cell_type": "code",
      "metadata": {
        "id": "AreCA16vxvIQ",
        "colab_type": "code",
        "colab": {
          "base_uri": "https://localhost:8080/",
          "height": 204
        },
        "outputId": "6c6becbd-b030-43b4-e3b1-f693e37ea8a4"
      },
      "source": [
        "display(df.groupby(df[\"label\"]).count())"
      ],
      "execution_count": 4,
      "outputs": [
        {
          "output_type": "display_data",
          "data": {
            "text/html": [
              "<div>\n",
              "<style scoped>\n",
              "    .dataframe tbody tr th:only-of-type {\n",
              "        vertical-align: middle;\n",
              "    }\n",
              "\n",
              "    .dataframe tbody tr th {\n",
              "        vertical-align: top;\n",
              "    }\n",
              "\n",
              "    .dataframe thead th {\n",
              "        text-align: right;\n",
              "    }\n",
              "</style>\n",
              "<table border=\"1\" class=\"dataframe\">\n",
              "  <thead>\n",
              "    <tr style=\"text-align: right;\">\n",
              "      <th></th>\n",
              "      <th>source</th>\n",
              "      <th>target</th>\n",
              "    </tr>\n",
              "    <tr>\n",
              "      <th>label</th>\n",
              "      <th></th>\n",
              "      <th></th>\n",
              "    </tr>\n",
              "  </thead>\n",
              "  <tbody>\n",
              "    <tr>\n",
              "      <th>0</th>\n",
              "      <td>10010</td>\n",
              "      <td>10010</td>\n",
              "    </tr>\n",
              "    <tr>\n",
              "      <th>1</th>\n",
              "      <td>10008</td>\n",
              "      <td>10008</td>\n",
              "    </tr>\n",
              "    <tr>\n",
              "      <th>2</th>\n",
              "      <td>19982</td>\n",
              "      <td>19982</td>\n",
              "    </tr>\n",
              "    <tr>\n",
              "      <th>3</th>\n",
              "      <td>20207</td>\n",
              "      <td>20207</td>\n",
              "    </tr>\n",
              "  </tbody>\n",
              "</table>\n",
              "</div>"
            ],
            "text/plain": [
              "       source  target\n",
              "label                \n",
              "0       10010   10010\n",
              "1       10008   10008\n",
              "2       19982   19982\n",
              "3       20207   20207"
            ]
          },
          "metadata": {
            "tags": []
          }
        }
      ]
    },
    {
      "cell_type": "markdown",
      "metadata": {
        "id": "AT4D8_oOdLHz",
        "colab_type": "text"
      },
      "source": [
        "### Tokenize text columns and pad to same length"
      ]
    },
    {
      "cell_type": "code",
      "metadata": {
        "id": "UToMut29OQBR",
        "colab_type": "code",
        "colab": {}
      },
      "source": [
        "def tokenize(X_train):\n",
        "    t = text.Tokenizer()\n",
        "    fit_text = pd.concat([X_train[\"source\"], X_train[\"target\"]])\n",
        "    t.fit_on_texts(fit_text)\n",
        "    X_train_transformed = X_train.copy()\n",
        "    X_train_transformed[\"source\"] = t.texts_to_sequences(X_train[\"source\"])\n",
        "    X_train_transformed[\"target\"] = t.texts_to_sequences(X_train[\"target\"])\n",
        "    max_length = 0\n",
        "    for series in [\"source\", \"target\"]:\n",
        "        current_max = (df[series].apply(lambda ls: len(ls))).max()\n",
        "        if current_max > max_length:\n",
        "            max_length = current_max\n",
        "    max_length = max_length\n",
        "    vocab_size = len(t.index_word) + 1\n",
        "    return X_train_transformed,  max_length, vocab_size"
      ],
      "execution_count": 0,
      "outputs": []
    },
    {
      "cell_type": "code",
      "metadata": {
        "id": "PBFyu6nhRA_H",
        "colab_type": "code",
        "colab": {}
      },
      "source": [
        "X_train_tokenized, max_value, vocab_size = tokenize(X_train_raw)"
      ],
      "execution_count": 0,
      "outputs": []
    },
    {
      "cell_type": "code",
      "metadata": {
        "id": "1FfjnTCoomK-",
        "colab_type": "code",
        "colab": {}
      },
      "source": [
        "def pad(X, max_value):\n",
        "    source = sequence.pad_sequences(X[\"source\"],  maxlen=max_value)\n",
        "    target = sequence.pad_sequences(X[\"target\"],  maxlen=max_value)\n",
        "    return pd.DataFrame(data=np.concatenate((source, target), axis=1))"
      ],
      "execution_count": 0,
      "outputs": []
    },
    {
      "cell_type": "code",
      "metadata": {
        "id": "_3IsI911pxqF",
        "colab_type": "code",
        "colab": {}
      },
      "source": [
        "X_train_padded = pad(X_train_tokenized, max_value=max_value)"
      ],
      "execution_count": 0,
      "outputs": []
    },
    {
      "cell_type": "markdown",
      "metadata": {
        "id": "Pa6DCPsCdTuy",
        "colab_type": "text"
      },
      "source": [
        "### Build a base model with one hidden layer\n",
        "\n",
        "1.   L1 is an embedding layer to embed all words. It is then flattened.\n",
        "2.   L2 is the softmax output.\n",
        "\n",
        "Use standard cross entropy loss function.\n",
        "\n",
        "\n"
      ]
    },
    {
      "cell_type": "code",
      "metadata": {
        "id": "QGBf6IiiR1u_",
        "colab_type": "code",
        "colab": {}
      },
      "source": [
        "def build_naive_embedding_model(): \n",
        "    X_input = Input(shape=(max_value * 2,), dtype=\"int32\")\n",
        "    X = Embedding(vocab_size, 10)(X_input)\n",
        "    X = keras.layers.Flatten(\"channels_last\")(X)\n",
        "    X = Dense(4, activation=\"softmax\")(X)\n",
        "\n",
        "    model = Model(inputs=[X_input], outputs=X)\n",
        "\n",
        "    model.compile(loss='categorical_crossentropy', optimizer='adam', metrics=['accuracy'])\n",
        "    model.summary()\n",
        "\n",
        "    return model"
      ],
      "execution_count": 0,
      "outputs": []
    },
    {
      "cell_type": "code",
      "metadata": {
        "id": "d-B3Us1djaq5",
        "colab_type": "code",
        "colab": {
          "base_uri": "https://localhost:8080/",
          "height": 1000
        },
        "outputId": "cd97e441-0a73-40ea-8a93-51944c0d9e0e"
      },
      "source": [
        "model = build_naive_embedding_model()\n",
        "history = model.fit([X_train_padded], Y_train_labels, validation_split=0.1, epochs=20, batch_size=16, shuffle=True) "
      ],
      "execution_count": 10,
      "outputs": [
        {
          "output_type": "stream",
          "text": [
            "WARNING:tensorflow:From /usr/local/lib/python3.6/dist-packages/keras/backend/tensorflow_backend.py:66: The name tf.get_default_graph is deprecated. Please use tf.compat.v1.get_default_graph instead.\n",
            "\n",
            "WARNING:tensorflow:From /usr/local/lib/python3.6/dist-packages/keras/backend/tensorflow_backend.py:541: The name tf.placeholder is deprecated. Please use tf.compat.v1.placeholder instead.\n",
            "\n",
            "WARNING:tensorflow:From /usr/local/lib/python3.6/dist-packages/keras/backend/tensorflow_backend.py:4432: The name tf.random_uniform is deprecated. Please use tf.random.uniform instead.\n",
            "\n",
            "WARNING:tensorflow:From /usr/local/lib/python3.6/dist-packages/keras/optimizers.py:793: The name tf.train.Optimizer is deprecated. Please use tf.compat.v1.train.Optimizer instead.\n",
            "\n",
            "WARNING:tensorflow:From /usr/local/lib/python3.6/dist-packages/keras/backend/tensorflow_backend.py:3576: The name tf.log is deprecated. Please use tf.math.log instead.\n",
            "\n",
            "Model: \"model_1\"\n",
            "_________________________________________________________________\n",
            "Layer (type)                 Output Shape              Param #   \n",
            "=================================================================\n",
            "input_1 (InputLayer)         (None, 146)               0         \n",
            "_________________________________________________________________\n",
            "embedding_1 (Embedding)      (None, 146, 10)           112120    \n",
            "_________________________________________________________________\n",
            "flatten_1 (Flatten)          (None, 1460)              0         \n",
            "_________________________________________________________________\n",
            "dense_1 (Dense)              (None, 4)                 5844      \n",
            "=================================================================\n",
            "Total params: 117,964\n",
            "Trainable params: 117,964\n",
            "Non-trainable params: 0\n",
            "_________________________________________________________________\n",
            "WARNING:tensorflow:From /usr/local/lib/python3.6/dist-packages/tensorflow_core/python/ops/math_grad.py:1424: where (from tensorflow.python.ops.array_ops) is deprecated and will be removed in a future version.\n",
            "Instructions for updating:\n",
            "Use tf.where in 2.0, which has the same broadcast rule as np.where\n",
            "WARNING:tensorflow:From /usr/local/lib/python3.6/dist-packages/keras/backend/tensorflow_backend.py:1033: The name tf.assign_add is deprecated. Please use tf.compat.v1.assign_add instead.\n",
            "\n",
            "WARNING:tensorflow:From /usr/local/lib/python3.6/dist-packages/keras/backend/tensorflow_backend.py:1020: The name tf.assign is deprecated. Please use tf.compat.v1.assign instead.\n",
            "\n",
            "WARNING:tensorflow:From /usr/local/lib/python3.6/dist-packages/keras/backend/tensorflow_backend.py:3005: The name tf.Session is deprecated. Please use tf.compat.v1.Session instead.\n",
            "\n",
            "Train on 54186 samples, validate on 6021 samples\n",
            "Epoch 1/20\n",
            "WARNING:tensorflow:From /usr/local/lib/python3.6/dist-packages/keras/backend/tensorflow_backend.py:190: The name tf.get_default_session is deprecated. Please use tf.compat.v1.get_default_session instead.\n",
            "\n",
            "WARNING:tensorflow:From /usr/local/lib/python3.6/dist-packages/keras/backend/tensorflow_backend.py:197: The name tf.ConfigProto is deprecated. Please use tf.compat.v1.ConfigProto instead.\n",
            "\n",
            "WARNING:tensorflow:From /usr/local/lib/python3.6/dist-packages/keras/backend/tensorflow_backend.py:207: The name tf.global_variables is deprecated. Please use tf.compat.v1.global_variables instead.\n",
            "\n",
            "WARNING:tensorflow:From /usr/local/lib/python3.6/dist-packages/keras/backend/tensorflow_backend.py:216: The name tf.is_variable_initialized is deprecated. Please use tf.compat.v1.is_variable_initialized instead.\n",
            "\n",
            "WARNING:tensorflow:From /usr/local/lib/python3.6/dist-packages/keras/backend/tensorflow_backend.py:223: The name tf.variables_initializer is deprecated. Please use tf.compat.v1.variables_initializer instead.\n",
            "\n",
            "54186/54186 [==============================] - 10s 183us/step - loss: 0.7926 - acc: 0.6716 - val_loss: 0.5906 - val_acc: 0.7698\n",
            "Epoch 2/20\n",
            "54186/54186 [==============================] - 10s 186us/step - loss: 0.4971 - acc: 0.8054 - val_loss: 0.5155 - val_acc: 0.7821\n",
            "Epoch 3/20\n",
            "54186/54186 [==============================] - 10s 182us/step - loss: 0.4238 - acc: 0.8341 - val_loss: 0.5023 - val_acc: 0.7806\n",
            "Epoch 4/20\n",
            "54186/54186 [==============================] - 11s 195us/step - loss: 0.3843 - acc: 0.8468 - val_loss: 0.5023 - val_acc: 0.7975\n",
            "Epoch 5/20\n",
            "54186/54186 [==============================] - 11s 201us/step - loss: 0.3585 - acc: 0.8583 - val_loss: 0.5153 - val_acc: 0.7891\n",
            "Epoch 6/20\n",
            "54186/54186 [==============================] - 10s 182us/step - loss: 0.3374 - acc: 0.8671 - val_loss: 0.5370 - val_acc: 0.7921\n",
            "Epoch 7/20\n",
            "54186/54186 [==============================] - 10s 181us/step - loss: 0.3204 - acc: 0.8750 - val_loss: 0.5610 - val_acc: 0.7836\n",
            "Epoch 8/20\n",
            "54186/54186 [==============================] - 10s 186us/step - loss: 0.3063 - acc: 0.8815 - val_loss: 0.5784 - val_acc: 0.7838\n",
            "Epoch 9/20\n",
            "54186/54186 [==============================] - 10s 181us/step - loss: 0.2934 - acc: 0.8864 - val_loss: 0.6055 - val_acc: 0.7871\n",
            "Epoch 10/20\n",
            "54186/54186 [==============================] - 10s 183us/step - loss: 0.2835 - acc: 0.8910 - val_loss: 0.6252 - val_acc: 0.7808\n",
            "Epoch 11/20\n",
            "54186/54186 [==============================] - 10s 184us/step - loss: 0.2752 - acc: 0.8944 - val_loss: 0.6526 - val_acc: 0.7764\n",
            "Epoch 12/20\n",
            "54186/54186 [==============================] - 10s 182us/step - loss: 0.2671 - acc: 0.8977 - val_loss: 0.6754 - val_acc: 0.7826\n",
            "Epoch 13/20\n",
            "54186/54186 [==============================] - 10s 180us/step - loss: 0.2602 - acc: 0.9012 - val_loss: 0.6944 - val_acc: 0.7801\n",
            "Epoch 14/20\n",
            "54186/54186 [==============================] - 10s 181us/step - loss: 0.2543 - acc: 0.9041 - val_loss: 0.7415 - val_acc: 0.7569\n",
            "Epoch 15/20\n",
            "54186/54186 [==============================] - 10s 176us/step - loss: 0.2490 - acc: 0.9043 - val_loss: 0.7442 - val_acc: 0.7731\n",
            "Epoch 16/20\n",
            "54186/54186 [==============================] - 10s 185us/step - loss: 0.2442 - acc: 0.9076 - val_loss: 0.7693 - val_acc: 0.7721\n",
            "Epoch 17/20\n",
            "54186/54186 [==============================] - 10s 183us/step - loss: 0.2399 - acc: 0.9091 - val_loss: 0.7929 - val_acc: 0.7681\n",
            "Epoch 18/20\n",
            "54186/54186 [==============================] - 10s 179us/step - loss: 0.2364 - acc: 0.9098 - val_loss: 0.8059 - val_acc: 0.7685\n",
            "Epoch 19/20\n",
            "54186/54186 [==============================] - 10s 186us/step - loss: 0.2328 - acc: 0.9120 - val_loss: 0.8297 - val_acc: 0.7701\n",
            "Epoch 20/20\n",
            "54186/54186 [==============================] - 10s 187us/step - loss: 0.2304 - acc: 0.9125 - val_loss: 0.8521 - val_acc: 0.7657\n"
          ],
          "name": "stdout"
        }
      ]
    },
    {
      "cell_type": "code",
      "metadata": {
        "id": "_JcFbvr-ehHk",
        "colab_type": "code",
        "colab": {
          "base_uri": "https://localhost:8080/",
          "height": 573
        },
        "outputId": "f56efa9e-a44f-4c04-ccea-88f67f361af2"
      },
      "source": [
        "# Plot training & validation accuracy values\n",
        "plt.plot(history.history['acc'])\n",
        "plt.plot(history.history['val_acc'])\n",
        "plt.title('Model accuracy')\n",
        "plt.ylabel('Accuracy')\n",
        "plt.xlabel('Epoch')\n",
        "plt.legend(['Train', 'Test'], loc='upper left')\n",
        "plt.show()\n",
        "\n",
        "# Plot training & validation loss values\n",
        "plt.plot(history.history['loss'])\n",
        "plt.plot(history.history['val_loss'])\n",
        "plt.title('Model loss')\n",
        "plt.ylabel('Loss')\n",
        "plt.xlabel('Epoch')\n",
        "plt.legend(['Train', 'Test'], loc='upper left')\n",
        "plt.show()"
      ],
      "execution_count": 11,
      "outputs": [
        {
          "output_type": "display_data",
          "data": {
            "image/png": "[encoded data removed]",
            "text/plain": [
              "<Figure size 432x288 with 1 Axes>"
            ]
          },
          "metadata": {
            "tags": []
          }
        },
        {
          "output_type": "display_data",
          "data": {
            "image/png": "[encoded data removed]",
            "text/plain": [
              "<Figure size 432x288 with 1 Axes>"
            ]
          },
          "metadata": {
            "tags": []
          }
        }
      ]
    }
  ]
}