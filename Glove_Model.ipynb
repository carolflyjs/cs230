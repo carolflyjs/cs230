{
  "nbformat": 4,
  "nbformat_minor": 0,
  "metadata": {
    "colab": {
      "name": "Glove_Model.ipynb",
      "provenance": [],
      "mount_file_id": "1BrqSjq7UJQ58iSoxU8ucwWhNWdSEPVqO",
      "authorship_tag": "ABX9TyMKbkNWCtwvncMLe2GhSm0I",
      "include_colab_link": true
    },
    "kernelspec": {
      "name": "python3",
      "display_name": "Python 3"
    },
    "accelerator": "TPU"
  },
  "cells": [
    {
      "cell_type": "markdown",
      "metadata": {
        "id": "view-in-github",
        "colab_type": "text"
      },
      "source": [
        "<a href=\"https://colab.research.google.com/github/carolflyjs/cs230/blob/master/Glove_Model.ipynb\" target=\"_parent\"><img src=\"https://colab.research.google.com/assets/colab-badge.svg\" alt=\"Open In Colab\"/></a>"
      ]
    },
    {
      "cell_type": "code",
      "metadata": {
        "id": "ASSBEXrs8iBd",
        "colab_type": "code",
        "outputId": "37bb0b22-1ae9-43ad-8289-47c0e9965aac",
        "colab": {
          "base_uri": "https://localhost:8080/",
          "height": 403
        }
      },
      "source": [
        "%run \"/content/drive/My Drive/Colab Notebooks/Data_Processing_v2.ipynb\"\n",
        "%run \"/content/drive/My Drive/Colab Notebooks/utils.ipynb\""
      ],
      "execution_count": 0,
      "outputs": [
        {
          "output_type": "stream",
          "text": [
            "Collecting pyspellchecker\n",
            "\u001b[?25l  Downloading https://files.pythonhosted.org/packages/04/d1/ec4e830e9f9c1fd788e1459dd09279fdf807bc7a475579fd7192450b879c/pyspellchecker-0.5.4-py2.py3-none-any.whl (1.9MB)\n",
            "\u001b[K     |████████████████████████████████| 1.9MB 3.3MB/s \n",
            "\u001b[?25hInstalling collected packages: pyspellchecker\n",
            "Successfully installed pyspellchecker-0.5.4\n"
          ],
          "name": "stdout"
        },
        {
          "output_type": "display_data",
          "data": {
            "text/html": [
              "<p style=\"color: red;\">\n",
              "The default version of TensorFlow in Colab will soon switch to TensorFlow 2.x.<br>\n",
              "We recommend you <a href=\"https://www.tensorflow.org/guide/migrate\" target=\"_blank\">upgrade</a> now \n",
              "or ensure your notebook will continue to use TensorFlow 1.x via the <code>%tensorflow_version 1.x</code> magic:\n",
              "<a href=\"https://colab.research.google.com/notebooks/tensorflow_version.ipynb\" target=\"_blank\">more info</a>.</p>\n"
            ],
            "text/plain": [
              "<IPython.core.display.HTML object>"
            ]
          },
          "metadata": {
            "tags": []
          }
        },
        {
          "output_type": "stream",
          "text": [
            "Using TensorFlow backend.\n"
          ],
          "name": "stderr"
        },
        {
          "output_type": "stream",
          "text": [
            "load_file(path, delimiter=\",\"): return df\n",
            "data_prep(df, x_columns, y_columns): return X_train, Y_train\n",
            "removeSpellingErrors(df): return new_df\n",
            "tokenize_and_pad(X_train), return X_train_padded, max_value, vocab_size, tokenizer\n",
            "store_weights(mode, model_name, path=\"/content/drive/My Drive/cs230/\")\n",
            "load_weights(mode, model_name, path=\"/content/drive/My Drive/cs230/\")\n",
            "join_histories_and_plot(*histories)\n",
            "\n",
            "load_embedding_matrix(embeddings_index, vocab_size, embedding_dim, word_index)\n",
            "embedding_index = pre-trained embedding dictionary with key being the word and value being the embedding scores\n",
            "vocab_size = total number of unique tokens in the training data\n",
            "embedding_dim = dimension used in the embedding_index for each token\n",
            "word_index = token dictionary with key being the word and value being the token\n",
            "\n"
          ],
          "name": "stdout"
        }
      ]
    },
    {
      "cell_type": "code",
      "metadata": {
        "id": "X41zGFIiDo-Z",
        "colab_type": "code",
        "outputId": "83c5dac9-a8ba-4d2f-8714-9112c878b19c",
        "colab": {
          "base_uri": "https://localhost:8080/",
          "height": 51
        }
      },
      "source": [
        "glove_file = keras.utils.get_file(\"glove.6B.zip\", \"http://nlp.stanford.edu/data/glove.6B.zip\", extract=True)"
      ],
      "execution_count": 0,
      "outputs": [
        {
          "output_type": "stream",
          "text": [
            "Downloading data from http://nlp.stanford.edu/data/glove.6B.zip\n",
            "862183424/862182613 [==============================] - 387s 0us/step\n"
          ],
          "name": "stdout"
        }
      ]
    },
    {
      "cell_type": "code",
      "metadata": {
        "id": "RVcfK9N_eDx2",
        "colab_type": "code",
        "colab": {}
      },
      "source": [
        "def load_glove(glove_dir, glove_file_name):\n",
        "    embeddings_index = {}\n",
        "    f = open(os.path.join(glove_dir, glove_file_name))\n",
        "    for line in f:\n",
        "        values = line.split()\n",
        "        word = values[0]\n",
        "        try:\n",
        "            coefs = np.asarray(values[1:], dtype='float32')\n",
        "            embeddings_index[word] = coefs\n",
        "        except:\n",
        "            pass\n",
        "    f.close()\n",
        "    return embeddings_index"
      ],
      "execution_count": 0,
      "outputs": []
    },
    {
      "cell_type": "code",
      "metadata": {
        "id": "7gcmYNcVe0BP",
        "colab_type": "code",
        "colab": {}
      },
      "source": [
        "embeddings_index = load_glove(\"/root/.keras/datasets/\", \"glove.6B.100d.txt\")\n",
        "embedding_dim = 100"
      ],
      "execution_count": 0,
      "outputs": []
    },
    {
      "cell_type": "code",
      "metadata": {
        "id": "q_8Mk2xHw4JB",
        "colab_type": "code",
        "colab": {}
      },
      "source": [
        "def load_embedding_matrix(embeddings_index, vocab_size, embedding_dim, word_index):\n",
        "    embedding_matrix = np.zeros((vocab_size, embedding_dim))\n",
        "    not_found = []\n",
        "    for word, i in word_index.items():\n",
        "        embedding_vector = embeddings_index.get(word)\n",
        "        if embedding_vector is not None:\n",
        "            # words not found in embedding index will be all-zeros.\n",
        "            embedding_matrix[i] = embedding_vector\n",
        "        else:\n",
        "            not_found.append((word, i))\n",
        "    return embedding_matrix, not_found"
      ],
      "execution_count": 0,
      "outputs": []
    },
    {
      "cell_type": "code",
      "metadata": {
        "id": "xxYOlpYew5tq",
        "colab_type": "code",
        "colab": {}
      },
      "source": [
        "def build_glove_model(max_value, vocab_size, optimizer, embedding_matrix, embedding_dim = 100, ): \n",
        "    X_input = Input(shape=(max_value * 2,), dtype=\"int32\")\n",
        "    X = Embedding(vocab_size, embedding_dim, weights=[embedding_matrix])(X_input)\n",
        "    X = keras.layers.Flatten(\"channels_last\")(X)\n",
        "    X = Dense(5, activation=\"softmax\")(X)\n",
        "\n",
        "    model = Model(inputs=[X_input], outputs=X)\n",
        "\n",
        "    model.compile(loss='categorical_crossentropy', optimizer=optimizer, metrics=['categorical_accuracy'])\n",
        "    model.summary()\n",
        "\n",
        "    return model"
      ],
      "execution_count": 0,
      "outputs": []
    },
    {
      "cell_type": "code",
      "metadata": {
        "id": "ZvT8ODGkw7Lq",
        "colab_type": "code",
        "colab": {}
      },
      "source": [
        "embedding_matrix, not_found = load_embedding_matrix(embeddings_index, vocab_size, embedding_dim, tokenizer.word_index)"
      ],
      "execution_count": 0,
      "outputs": []
    },
    {
      "cell_type": "code",
      "metadata": {
        "id": "v8XkPD5Ow-FP",
        "colab_type": "code",
        "outputId": "da1f96ee-828d-4cc0-9ef0-0d02725c7bcb",
        "colab": {
          "base_uri": "https://localhost:8080/",
          "height": 289
        }
      },
      "source": [
        "learning_rate = 0.015\n",
        "optimizer = keras.optimizers.Adagrad(lr=learning_rate)\n",
        "model = build_glove_model(max_value=max_value, vocab_size=vocab_size, embedding_matrix=embedding_matrix, embedding_dim=embedding_dim, optimizer=optimizer)"
      ],
      "execution_count": 0,
      "outputs": [
        {
          "output_type": "stream",
          "text": [
            "Model: \"model_2\"\n",
            "_________________________________________________________________\n",
            "Layer (type)                 Output Shape              Param #   \n",
            "=================================================================\n",
            "input_2 (InputLayer)         (None, 16)                0         \n",
            "_________________________________________________________________\n",
            "embedding_2 (Embedding)      (None, 16, 100)           351700    \n",
            "_________________________________________________________________\n",
            "flatten_2 (Flatten)          (None, 1600)              0         \n",
            "_________________________________________________________________\n",
            "dense_2 (Dense)              (None, 5)                 8005      \n",
            "=================================================================\n",
            "Total params: 359,705\n",
            "Trainable params: 359,705\n",
            "Non-trainable params: 0\n",
            "_________________________________________________________________\n"
          ],
          "name": "stdout"
        }
      ]
    },
    {
      "cell_type": "code",
      "metadata": {
        "id": "8W0riRqvlPRc",
        "colab_type": "code",
        "outputId": "9f4c3c7d-6b8d-4a21-b0fc-6445e3534d7a",
        "colab": {
          "base_uri": "https://localhost:8080/",
          "height": 1000
        }
      },
      "source": [
        "history = model.fit(X_train_tokenized, Y_train, validation_data=(X_dev_tokenized, Y_dev), epochs=50, batch_size=32, class_weight=class_weight) "
      ],
      "execution_count": 0,
      "outputs": [
        {
          "output_type": "stream",
          "text": [
            "Train on 290693 samples, validate on 18723 samples\n",
            "Epoch 1/50\n",
            "290693/290693 [==============================] - 49s 169us/step - loss: 1.3785 - categorical_accuracy: 0.7436 - val_loss: 0.6226 - val_categorical_accuracy: 0.7627\n",
            "Epoch 2/50\n",
            "290693/290693 [==============================] - 50s 170us/step - loss: 1.1759 - categorical_accuracy: 0.7913 - val_loss: 0.5490 - val_categorical_accuracy: 0.7950\n",
            "Epoch 3/50\n",
            "290693/290693 [==============================] - 42s 146us/step - loss: 1.1232 - categorical_accuracy: 0.8028 - val_loss: 0.5223 - val_categorical_accuracy: 0.8051\n",
            "Epoch 4/50\n",
            "290693/290693 [==============================] - 44s 150us/step - loss: 1.0924 - categorical_accuracy: 0.8087 - val_loss: 0.5143 - val_categorical_accuracy: 0.8082\n",
            "Epoch 5/50\n",
            "290693/290693 [==============================] - 47s 162us/step - loss: 1.0706 - categorical_accuracy: 0.8130 - val_loss: 0.5125 - val_categorical_accuracy: 0.8084\n",
            "Epoch 6/50\n",
            "290693/290693 [==============================] - 47s 161us/step - loss: 1.0540 - categorical_accuracy: 0.8163 - val_loss: 0.5249 - val_categorical_accuracy: 0.8027\n",
            "Epoch 7/50\n",
            "290693/290693 [==============================] - 47s 161us/step - loss: 1.0410 - categorical_accuracy: 0.8186 - val_loss: 0.5076 - val_categorical_accuracy: 0.8092\n",
            "Epoch 8/50\n",
            "290693/290693 [==============================] - 46s 157us/step - loss: 1.0302 - categorical_accuracy: 0.8202 - val_loss: 0.4938 - val_categorical_accuracy: 0.8155\n",
            "Epoch 9/50\n",
            "290693/290693 [==============================] - 43s 148us/step - loss: 1.0210 - categorical_accuracy: 0.8221 - val_loss: 0.5123 - val_categorical_accuracy: 0.8064\n",
            "Epoch 10/50\n",
            "290693/290693 [==============================] - 43s 149us/step - loss: 1.0131 - categorical_accuracy: 0.8233 - val_loss: 0.4969 - val_categorical_accuracy: 0.8132\n",
            "Epoch 11/50\n",
            "290693/290693 [==============================] - 42s 145us/step - loss: 1.0061 - categorical_accuracy: 0.8251 - val_loss: 0.4995 - val_categorical_accuracy: 0.8110\n",
            "Epoch 12/50\n",
            "290693/290693 [==============================] - 44s 150us/step - loss: 1.0000 - categorical_accuracy: 0.8257 - val_loss: 0.4958 - val_categorical_accuracy: 0.8130\n",
            "Epoch 13/50\n",
            "290693/290693 [==============================] - 43s 149us/step - loss: 0.9943 - categorical_accuracy: 0.8265 - val_loss: 0.4981 - val_categorical_accuracy: 0.8114\n",
            "Epoch 14/50\n",
            "290693/290693 [==============================] - 44s 153us/step - loss: 0.9894 - categorical_accuracy: 0.8274 - val_loss: 0.4882 - val_categorical_accuracy: 0.8161\n",
            "Epoch 15/50\n",
            "290693/290693 [==============================] - 42s 145us/step - loss: 0.9849 - categorical_accuracy: 0.8287 - val_loss: 0.4926 - val_categorical_accuracy: 0.8125\n",
            "Epoch 16/50\n",
            "290693/290693 [==============================] - 43s 148us/step - loss: 0.9808 - categorical_accuracy: 0.8291 - val_loss: 0.4972 - val_categorical_accuracy: 0.8116\n",
            "Epoch 17/50\n",
            "290693/290693 [==============================] - 45s 155us/step - loss: 0.9769 - categorical_accuracy: 0.8299 - val_loss: 0.4932 - val_categorical_accuracy: 0.8126\n",
            "Epoch 18/50\n",
            "290693/290693 [==============================] - 46s 160us/step - loss: 0.9734 - categorical_accuracy: 0.8305 - val_loss: 0.4960 - val_categorical_accuracy: 0.8109\n",
            "Epoch 19/50\n",
            "290693/290693 [==============================] - 45s 157us/step - loss: 0.9702 - categorical_accuracy: 0.8310 - val_loss: 0.4936 - val_categorical_accuracy: 0.8126\n",
            "Epoch 20/50\n",
            "290693/290693 [==============================] - 46s 157us/step - loss: 0.9673 - categorical_accuracy: 0.8315 - val_loss: 0.4962 - val_categorical_accuracy: 0.8111\n",
            "Epoch 21/50\n",
            "290693/290693 [==============================] - 48s 164us/step - loss: 0.9644 - categorical_accuracy: 0.8320 - val_loss: 0.4987 - val_categorical_accuracy: 0.8099\n",
            "Epoch 22/50\n",
            "290693/290693 [==============================] - 46s 159us/step - loss: 0.9618 - categorical_accuracy: 0.8326 - val_loss: 0.4816 - val_categorical_accuracy: 0.8166\n",
            "Epoch 23/50\n",
            "290693/290693 [==============================] - 46s 159us/step - loss: 0.9593 - categorical_accuracy: 0.8331 - val_loss: 0.4934 - val_categorical_accuracy: 0.8124\n",
            "Epoch 24/50\n",
            "290693/290693 [==============================] - 46s 159us/step - loss: 0.9569 - categorical_accuracy: 0.8336 - val_loss: 0.4782 - val_categorical_accuracy: 0.8179\n",
            "Epoch 25/50\n",
            "290693/290693 [==============================] - 47s 161us/step - loss: 0.9547 - categorical_accuracy: 0.8340 - val_loss: 0.4975 - val_categorical_accuracy: 0.8105\n",
            "Epoch 26/50\n",
            "290693/290693 [==============================] - 48s 165us/step - loss: 0.9527 - categorical_accuracy: 0.8339 - val_loss: 0.4822 - val_categorical_accuracy: 0.8158\n",
            "Epoch 27/50\n",
            "290693/290693 [==============================] - 47s 160us/step - loss: 0.9507 - categorical_accuracy: 0.8343 - val_loss: 0.4857 - val_categorical_accuracy: 0.8144\n",
            "Epoch 28/50\n",
            "290693/290693 [==============================] - 48s 164us/step - loss: 0.9489 - categorical_accuracy: 0.8348 - val_loss: 0.4863 - val_categorical_accuracy: 0.8142\n",
            "Epoch 29/50\n",
            "290693/290693 [==============================] - 46s 159us/step - loss: 0.9470 - categorical_accuracy: 0.8349 - val_loss: 0.4870 - val_categorical_accuracy: 0.8137\n",
            "Epoch 30/50\n",
            "290693/290693 [==============================] - 46s 160us/step - loss: 0.9453 - categorical_accuracy: 0.8354 - val_loss: 0.4858 - val_categorical_accuracy: 0.8154\n",
            "Epoch 31/50\n",
            "290693/290693 [==============================] - 46s 158us/step - loss: 0.9436 - categorical_accuracy: 0.8355 - val_loss: 0.4889 - val_categorical_accuracy: 0.8133\n",
            "Epoch 32/50\n",
            "290693/290693 [==============================] - 49s 167us/step - loss: 0.9422 - categorical_accuracy: 0.8359 - val_loss: 0.4885 - val_categorical_accuracy: 0.8142\n",
            "Epoch 33/50\n",
            "290693/290693 [==============================] - 47s 161us/step - loss: 0.9404 - categorical_accuracy: 0.8360 - val_loss: 0.4930 - val_categorical_accuracy: 0.8117\n",
            "Epoch 34/50\n",
            "290693/290693 [==============================] - 47s 161us/step - loss: 0.9394 - categorical_accuracy: 0.8364 - val_loss: 0.4850 - val_categorical_accuracy: 0.8151\n",
            "Epoch 35/50\n",
            "290693/290693 [==============================] - 46s 158us/step - loss: 0.9378 - categorical_accuracy: 0.8363 - val_loss: 0.4787 - val_categorical_accuracy: 0.8173\n",
            "Epoch 36/50\n",
            "290693/290693 [==============================] - 46s 157us/step - loss: 0.9367 - categorical_accuracy: 0.8369 - val_loss: 0.4847 - val_categorical_accuracy: 0.8161\n",
            "Epoch 37/50\n",
            "290693/290693 [==============================] - 46s 158us/step - loss: 0.9353 - categorical_accuracy: 0.8370 - val_loss: 0.4836 - val_categorical_accuracy: 0.8158\n",
            "Epoch 38/50\n",
            "290693/290693 [==============================] - 45s 155us/step - loss: 0.9341 - categorical_accuracy: 0.8370 - val_loss: 0.4800 - val_categorical_accuracy: 0.8171\n",
            "Epoch 39/50\n",
            "290693/290693 [==============================] - 46s 157us/step - loss: 0.9330 - categorical_accuracy: 0.8373 - val_loss: 0.4822 - val_categorical_accuracy: 0.8164\n",
            "Epoch 40/50\n",
            "290693/290693 [==============================] - 46s 158us/step - loss: 0.9319 - categorical_accuracy: 0.8375 - val_loss: 0.4839 - val_categorical_accuracy: 0.8158\n",
            "Epoch 41/50\n",
            "290693/290693 [==============================] - 46s 160us/step - loss: 0.9308 - categorical_accuracy: 0.8376 - val_loss: 0.4854 - val_categorical_accuracy: 0.8158\n",
            "Epoch 42/50\n",
            "290693/290693 [==============================] - 45s 156us/step - loss: 0.9297 - categorical_accuracy: 0.8376 - val_loss: 0.4919 - val_categorical_accuracy: 0.8132\n",
            "Epoch 43/50\n",
            "290693/290693 [==============================] - 43s 146us/step - loss: 0.9288 - categorical_accuracy: 0.8379 - val_loss: 0.4849 - val_categorical_accuracy: 0.8153\n",
            "Epoch 44/50\n",
            "290693/290693 [==============================] - 42s 145us/step - loss: 0.9277 - categorical_accuracy: 0.8381 - val_loss: 0.4793 - val_categorical_accuracy: 0.8171\n",
            "Epoch 45/50\n",
            "290693/290693 [==============================] - 43s 148us/step - loss: 0.9267 - categorical_accuracy: 0.8384 - val_loss: 0.4815 - val_categorical_accuracy: 0.8172\n",
            "Epoch 46/50\n",
            "290693/290693 [==============================] - 45s 156us/step - loss: 0.9257 - categorical_accuracy: 0.8387 - val_loss: 0.4910 - val_categorical_accuracy: 0.8129\n",
            "Epoch 47/50\n",
            "290693/290693 [==============================] - 47s 161us/step - loss: 0.9248 - categorical_accuracy: 0.8387 - val_loss: 0.4844 - val_categorical_accuracy: 0.8154\n",
            "Epoch 48/50\n",
            "290693/290693 [==============================] - 49s 170us/step - loss: 0.9240 - categorical_accuracy: 0.8385 - val_loss: 0.4852 - val_categorical_accuracy: 0.8151\n",
            "Epoch 49/50\n",
            "290693/290693 [==============================] - 49s 167us/step - loss: 0.9232 - categorical_accuracy: 0.8388 - val_loss: 0.4829 - val_categorical_accuracy: 0.8169\n",
            "Epoch 50/50\n",
            "290693/290693 [==============================] - 47s 162us/step - loss: 0.9225 - categorical_accuracy: 0.8389 - val_loss: 0.4858 - val_categorical_accuracy: 0.8149\n"
          ],
          "name": "stdout"
        }
      ]
    },
    {
      "cell_type": "code",
      "metadata": {
        "id": "udlk8E5baaRo",
        "colab_type": "code",
        "outputId": "48fe8d79-048c-497e-ddee-feab51686182",
        "colab": {
          "base_uri": "https://localhost:8080/",
          "height": 573
        }
      },
      "source": [
        "combined = join_histories_and_plot(\"Simple Glove Model\", history)"
      ],
      "execution_count": 0,
      "outputs": [
        {
          "output_type": "display_data",
          "data": {
            "image/png": "[encoded data removed]",
            "text/plain": [
              "<Figure size 432x288 with 1 Axes>"
            ]
          },
          "metadata": {
            "tags": []
          }
        },
        {
          "output_type": "display_data",
          "data": {
            "image/png": "[encoded data removed]",
            "text/plain": [
              "<Figure size 432x288 with 1 Axes>"
            ]
          },
          "metadata": {
            "tags": []
          }
        }
      ]
    },
    {
      "cell_type": "code",
      "metadata": {
        "id": "mLuwaoEWLzut",
        "colab_type": "code",
        "outputId": "fc5ae318-c68f-487a-9904-b8ee07a4d289",
        "colab": {
          "base_uri": "https://localhost:8080/",
          "height": 51
        }
      },
      "source": [
        "model.evaluate(x=X_test_tokenized, y=Y_test)"
      ],
      "execution_count": 0,
      "outputs": [
        {
          "output_type": "stream",
          "text": [
            "3106/3106 [==============================] - 0s 27us/step\n"
          ],
          "name": "stdout"
        },
        {
          "output_type": "execute_result",
          "data": {
            "text/plain": [
              "[0.4892966727805921, 0.8171281390856407]"
            ]
          },
          "metadata": {
            "tags": []
          },
          "execution_count": 18
        }
      ]
    },
    {
      "cell_type": "code",
      "metadata": {
        "id": "05DDfBWJ2lIV",
        "colab_type": "code",
        "outputId": "cd583007-a1ba-45d6-d1f6-7c169a49d872",
        "colab": {
          "base_uri": "https://localhost:8080/",
          "height": 102
        }
      },
      "source": [
        "getConfusionMatrix(model, X_test_tokenized, Y_test)"
      ],
      "execution_count": 0,
      "outputs": [
        {
          "output_type": "stream",
          "text": [
            "[[ 871   10   15   21   36]\n",
            " [   6 1008   18   18   32]\n",
            " [   7    1  144    9   45]\n",
            " [   2    5    6  161   31]\n",
            " [  39   42  105  120  354]]\n"
          ],
          "name": "stdout"
        }
      ]
    },
    {
      "cell_type": "code",
      "metadata": {
        "id": "u3_vpu3aIHGm",
        "colab_type": "code",
        "colab": {}
      },
      "source": [
        ""
      ],
      "execution_count": 0,
      "outputs": []
    }
  ]
}