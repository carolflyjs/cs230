{
  "nbformat": 4,
  "nbformat_minor": 0,
  "metadata": {
    "colab": {
      "name": "Glove_Model.ipynb",
      "provenance": [],
      "mount_file_id": "1GX8CCrpuHBMP8fYb7BkGj1SlE3-IBX8k",
      "authorship_tag": "ABX9TyNlcFosHIlZ/B3KeXpVYoUv",
      "include_colab_link": true
    },
    "kernelspec": {
      "name": "python3",
      "display_name": "Python 3"
    }
  },
  "cells": [
    {
      "cell_type": "markdown",
      "metadata": {
        "id": "view-in-github",
        "colab_type": "text"
      },
      "source": [
        "<a href=\"https://colab.research.google.com/github/carolflyjs/cs230/blob/master/Glove_Model.ipynb\" target=\"_parent\"><img src=\"https://colab.research.google.com/assets/colab-badge.svg\" alt=\"Open In Colab\"/></a>"
      ]
    },
    {
      "cell_type": "code",
      "metadata": {
        "id": "ASSBEXrs8iBd",
        "colab_type": "code",
        "colab": {
          "base_uri": "https://localhost:8080/",
          "height": 185
        },
        "outputId": "4d37cf3a-8f27-4f66-e0f4-dab4ab3835c4"
      },
      "source": [
        "%run \"/content/drive/My Drive/Colab Notebooks/Data_Processing_v2.ipynb\""
      ],
      "execution_count": 1,
      "outputs": [
        {
          "output_type": "stream",
          "text": [
            "Collecting pyspellchecker\n",
            "\u001b[?25l  Downloading https://files.pythonhosted.org/packages/04/d1/ec4e830e9f9c1fd788e1459dd09279fdf807bc7a475579fd7192450b879c/pyspellchecker-0.5.4-py2.py3-none-any.whl (1.9MB)\n",
            "\u001b[K     |████████████████████████████████| 1.9MB 4.8MB/s \n",
            "\u001b[?25hInstalling collected packages: pyspellchecker\n",
            "Successfully installed pyspellchecker-0.5.4\n"
          ],
          "name": "stdout"
        },
        {
          "output_type": "display_data",
          "data": {
            "text/html": [
              "<p style=\"color: red;\">\n",
              "The default version of TensorFlow in Colab will soon switch to TensorFlow 2.x.<br>\n",
              "We recommend you <a href=\"https://www.tensorflow.org/guide/migrate\" target=\"_blank\">upgrade</a> now \n",
              "or ensure your notebook will continue to use TensorFlow 1.x via the <code>%tensorflow_version 1.x</code> magic:\n",
              "<a href=\"https://colab.research.google.com/notebooks/tensorflow_version.ipynb\" target=\"_blank\">more info</a>.</p>\n"
            ],
            "text/plain": [
              "<IPython.core.display.HTML object>"
            ]
          },
          "metadata": {
            "tags": []
          }
        },
        {
          "output_type": "stream",
          "text": [
            "Using TensorFlow backend.\n"
          ],
          "name": "stderr"
        }
      ]
    },
    {
      "cell_type": "code",
      "metadata": {
        "id": "X41zGFIiDo-Z",
        "colab_type": "code",
        "outputId": "341a9773-810a-42a8-fbc1-e74f33c937ea",
        "colab": {
          "base_uri": "https://localhost:8080/",
          "height": 51
        }
      },
      "source": [
        "glove_file = keras.utils.get_file(\"glove.6B.zip\", \"http://nlp.stanford.edu/data/glove.6B.zip\", extract=True)"
      ],
      "execution_count": 2,
      "outputs": [
        {
          "output_type": "stream",
          "text": [
            "Downloading data from http://nlp.stanford.edu/data/glove.6B.zip\n",
            "862183424/862182613 [==============================] - 386s 0us/step\n"
          ],
          "name": "stdout"
        }
      ]
    },
    {
      "cell_type": "code",
      "metadata": {
        "id": "RVcfK9N_eDx2",
        "colab_type": "code",
        "colab": {}
      },
      "source": [
        "def load_glove(glove_dir, glove_file_name):\n",
        "    embeddings_index = {}\n",
        "    f = open(os.path.join(glove_dir, glove_file_name))\n",
        "    for line in f:\n",
        "        values = line.split()\n",
        "        word = values[0]\n",
        "        try:\n",
        "            coefs = np.asarray(values[1:], dtype='float32')\n",
        "            embeddings_index[word] = coefs\n",
        "        except:\n",
        "            pass\n",
        "    f.close()\n",
        "    return embeddings_index"
      ],
      "execution_count": 0,
      "outputs": []
    },
    {
      "cell_type": "code",
      "metadata": {
        "id": "7gcmYNcVe0BP",
        "colab_type": "code",
        "colab": {}
      },
      "source": [
        "embeddings_index = load_glove(\"/root/.keras/datasets/\", \"glove.6B.100d.txt\")\n",
        "embedding_dim = 100"
      ],
      "execution_count": 0,
      "outputs": []
    },
    {
      "cell_type": "code",
      "metadata": {
        "id": "q_8Mk2xHw4JB",
        "colab_type": "code",
        "colab": {}
      },
      "source": [
        "def load_embedding_matrix(embeddings_index, vocab_size, embedding_dim, word_index):\n",
        "    embedding_matrix = np.zeros((vocab_size, embedding_dim))\n",
        "    not_found = []\n",
        "    for word, i in word_index.items():\n",
        "        embedding_vector = embeddings_index.get(word)\n",
        "        if embedding_vector is not None:\n",
        "            # words not found in embedding index will be all-zeros.\n",
        "            embedding_matrix[i] = embedding_vector\n",
        "        else:\n",
        "            not_found.append((word, i))\n",
        "    return embedding_matrix, not_found"
      ],
      "execution_count": 0,
      "outputs": []
    },
    {
      "cell_type": "code",
      "metadata": {
        "id": "xxYOlpYew5tq",
        "colab_type": "code",
        "colab": {}
      },
      "source": [
        "def build_glove_model(max_value, embedding_matrix, embedding_dim = 10, LSTM_dim = 128): \n",
        "    X_input = Input(shape=(max_value * 2,), dtype=\"int32\")\n",
        "    X = Embedding(vocab_size, embedding_dim, weights=[embedding_matrix])(X_input)\n",
        "    X = LSTM(LSTM_dim, kernel_regularizer=keras.regularizers.l2(0.01))(X)\n",
        "    # X = keras.layers.Flatten(\"channels_last\")(X)\n",
        "    X = Dense(4, activation=\"softmax\")(X)\n",
        "\n",
        "    model = Model(inputs=[X_input], outputs=X)\n",
        "\n",
        "    model.compile(loss='categorical_crossentropy', optimizer='adam', metrics=['accuracy'])\n",
        "    model.summary()\n",
        "\n",
        "    return model"
      ],
      "execution_count": 0,
      "outputs": []
    },
    {
      "cell_type": "code",
      "metadata": {
        "id": "ZvT8ODGkw7Lq",
        "colab_type": "code",
        "colab": {}
      },
      "source": [
        "embedding_matrix, not_found = load_embedding_matrix(embeddings_index, vocab_size, embedding_dim, tokenizer.word_index)"
      ],
      "execution_count": 0,
      "outputs": []
    },
    {
      "cell_type": "code",
      "metadata": {
        "id": "v8XkPD5Ow-FP",
        "colab_type": "code",
        "colab": {
          "base_uri": "https://localhost:8080/",
          "height": 683
        },
        "outputId": "d16468d7-5d0d-42c6-8cbf-d30b9c3ef31f"
      },
      "source": [
        "model = build_glove_model(max_value, embedding_matrix, embedding_dim)"
      ],
      "execution_count": 8,
      "outputs": [
        {
          "output_type": "stream",
          "text": [
            "WARNING:tensorflow:From /usr/local/lib/python3.6/dist-packages/keras/backend/tensorflow_backend.py:66: The name tf.get_default_graph is deprecated. Please use tf.compat.v1.get_default_graph instead.\n",
            "\n",
            "WARNING:tensorflow:From /usr/local/lib/python3.6/dist-packages/keras/backend/tensorflow_backend.py:541: The name tf.placeholder is deprecated. Please use tf.compat.v1.placeholder instead.\n",
            "\n",
            "WARNING:tensorflow:From /usr/local/lib/python3.6/dist-packages/keras/backend/tensorflow_backend.py:4432: The name tf.random_uniform is deprecated. Please use tf.random.uniform instead.\n",
            "\n",
            "WARNING:tensorflow:From /usr/local/lib/python3.6/dist-packages/keras/backend/tensorflow_backend.py:190: The name tf.get_default_session is deprecated. Please use tf.compat.v1.get_default_session instead.\n",
            "\n",
            "WARNING:tensorflow:From /usr/local/lib/python3.6/dist-packages/keras/backend/tensorflow_backend.py:197: The name tf.ConfigProto is deprecated. Please use tf.compat.v1.ConfigProto instead.\n",
            "\n",
            "WARNING:tensorflow:From /usr/local/lib/python3.6/dist-packages/keras/backend/tensorflow_backend.py:203: The name tf.Session is deprecated. Please use tf.compat.v1.Session instead.\n",
            "\n",
            "WARNING:tensorflow:From /usr/local/lib/python3.6/dist-packages/keras/backend/tensorflow_backend.py:207: The name tf.global_variables is deprecated. Please use tf.compat.v1.global_variables instead.\n",
            "\n",
            "WARNING:tensorflow:From /usr/local/lib/python3.6/dist-packages/keras/backend/tensorflow_backend.py:216: The name tf.is_variable_initialized is deprecated. Please use tf.compat.v1.is_variable_initialized instead.\n",
            "\n",
            "WARNING:tensorflow:From /usr/local/lib/python3.6/dist-packages/keras/backend/tensorflow_backend.py:223: The name tf.variables_initializer is deprecated. Please use tf.compat.v1.variables_initializer instead.\n",
            "\n",
            "WARNING:tensorflow:From /usr/local/lib/python3.6/dist-packages/keras/optimizers.py:793: The name tf.train.Optimizer is deprecated. Please use tf.compat.v1.train.Optimizer instead.\n",
            "\n",
            "WARNING:tensorflow:From /usr/local/lib/python3.6/dist-packages/keras/backend/tensorflow_backend.py:3576: The name tf.log is deprecated. Please use tf.math.log instead.\n",
            "\n",
            "Model: \"model_1\"\n",
            "_________________________________________________________________\n",
            "Layer (type)                 Output Shape              Param #   \n",
            "=================================================================\n",
            "input_1 (InputLayer)         (None, 132)               0         \n",
            "_________________________________________________________________\n",
            "embedding_1 (Embedding)      (None, 132, 100)          277500    \n",
            "_________________________________________________________________\n",
            "lstm_1 (LSTM)                (None, 128)               117248    \n",
            "_________________________________________________________________\n",
            "dense_1 (Dense)              (None, 4)                 516       \n",
            "=================================================================\n",
            "Total params: 395,264\n",
            "Trainable params: 395,264\n",
            "Non-trainable params: 0\n",
            "_________________________________________________________________\n"
          ],
          "name": "stdout"
        }
      ]
    },
    {
      "cell_type": "code",
      "metadata": {
        "id": "udlk8E5baaRo",
        "colab_type": "code",
        "colab": {}
      },
      "source": [
        "model.load_weights(\"/content/drive/My Drive/cs230/glove_model.h5\")\n"
      ],
      "execution_count": 0,
      "outputs": []
    },
    {
      "cell_type": "code",
      "metadata": {
        "id": "bo2duGby9edb",
        "colab_type": "code",
        "colab": {
          "base_uri": "https://localhost:8080/",
          "height": 207
        },
        "outputId": "afee1f5b-8371-4540-fff2-28e445a59bd4"
      },
      "source": [
        "history = model.fit(X_train_tokenized, Y_train, validation_split=0.1, epochs=1, batch_size=32, class_weight=class_weight) "
      ],
      "execution_count": 17,
      "outputs": [
        {
          "output_type": "stream",
          "text": [
            "WARNING:tensorflow:From /usr/local/lib/python3.6/dist-packages/tensorflow_core/python/ops/math_grad.py:1424: where (from tensorflow.python.ops.array_ops) is deprecated and will be removed in a future version.\n",
            "Instructions for updating:\n",
            "Use tf.where in 2.0, which has the same broadcast rule as np.where\n",
            "WARNING:tensorflow:From /usr/local/lib/python3.6/dist-packages/keras/backend/tensorflow_backend.py:1033: The name tf.assign_add is deprecated. Please use tf.compat.v1.assign_add instead.\n",
            "\n",
            "WARNING:tensorflow:From /usr/local/lib/python3.6/dist-packages/keras/backend/tensorflow_backend.py:1020: The name tf.assign is deprecated. Please use tf.compat.v1.assign instead.\n",
            "\n"
          ],
          "name": "stderr"
        },
        {
          "output_type": "stream",
          "text": [
            "Train on 20599 samples, validate on 2289 samples\n",
            "Epoch 1/1\n",
            "20599/20599 [==============================] - 137s 7ms/step - loss: 3.0641 - acc: 0.2982 - val_loss: 2.7471 - val_acc: 0.3517\n"
          ],
          "name": "stdout"
        }
      ]
    },
    {
      "cell_type": "code",
      "metadata": {
        "id": "U9fM6zu4_MZz",
        "colab_type": "code",
        "colab": {
          "base_uri": "https://localhost:8080/",
          "height": 374
        },
        "outputId": "7d3843c6-d7c3-4904-ebfc-93b960552ccf"
      },
      "source": [
        "history_1 = model.fit(X_train_tokenized, Y_train, validation_split=0.1, epochs=10, batch_size=32, class_weight=class_weight) "
      ],
      "execution_count": 18,
      "outputs": [
        {
          "output_type": "stream",
          "text": [
            "Train on 20599 samples, validate on 2289 samples\n",
            "Epoch 1/10\n",
            "20599/20599 [==============================] - 134s 7ms/step - loss: 2.5562 - acc: 0.3683 - val_loss: 2.5859 - val_acc: 0.3434\n",
            "Epoch 2/10\n",
            "20599/20599 [==============================] - 136s 7ms/step - loss: 2.3954 - acc: 0.3923 - val_loss: 2.5399 - val_acc: 0.3906\n",
            "Epoch 3/10\n",
            "20599/20599 [==============================] - 135s 7ms/step - loss: 2.2775 - acc: 0.4119 - val_loss: 2.5437 - val_acc: 0.4045\n",
            "Epoch 4/10\n",
            "20599/20599 [==============================] - 135s 7ms/step - loss: 2.1995 - acc: 0.4274 - val_loss: 2.4794 - val_acc: 0.3989\n",
            "Epoch 5/10\n",
            "20599/20599 [==============================] - 135s 7ms/step - loss: 2.1392 - acc: 0.4484 - val_loss: 2.4996 - val_acc: 0.3779\n",
            "Epoch 6/10\n",
            "20599/20599 [==============================] - 135s 7ms/step - loss: 2.0852 - acc: 0.4577 - val_loss: 2.5254 - val_acc: 0.3976\n",
            "Epoch 7/10\n",
            "20599/20599 [==============================] - 135s 7ms/step - loss: 2.0306 - acc: 0.4715 - val_loss: 2.4784 - val_acc: 0.4041\n",
            "Epoch 8/10\n",
            "20599/20599 [==============================] - 135s 7ms/step - loss: 2.0118 - acc: 0.4817 - val_loss: 2.5799 - val_acc: 0.4443\n",
            "Epoch 9/10\n",
            "20599/20599 [==============================] - 136s 7ms/step - loss: 1.9722 - acc: 0.4933 - val_loss: 2.5802 - val_acc: 0.4155\n",
            "Epoch 10/10\n",
            "20599/20599 [==============================] - 135s 7ms/step - loss: 1.9281 - acc: 0.4981 - val_loss: 2.6731 - val_acc: 0.4050\n"
          ],
          "name": "stdout"
        }
      ]
    },
    {
      "cell_type": "code",
      "metadata": {
        "id": "k2Y4gxzU_e3t",
        "colab_type": "code",
        "colab": {
          "base_uri": "https://localhost:8080/",
          "height": 374
        },
        "outputId": "2924429f-00e4-40e0-e092-76a38faf0078"
      },
      "source": [
        "history_2 = model.fit(X_train_tokenized, Y_train, validation_split=0.1, epochs=10, batch_size=32, class_weight=class_weight) "
      ],
      "execution_count": 19,
      "outputs": [
        {
          "output_type": "stream",
          "text": [
            "Train on 20599 samples, validate on 2289 samples\n",
            "Epoch 1/10\n",
            "20599/20599 [==============================] - 135s 7ms/step - loss: 1.9037 - acc: 0.5035 - val_loss: 2.6524 - val_acc: 0.3954\n",
            "Epoch 2/10\n",
            "20599/20599 [==============================] - 135s 7ms/step - loss: 1.8696 - acc: 0.5138 - val_loss: 2.6568 - val_acc: 0.4683\n",
            "Epoch 3/10\n",
            "20599/20599 [==============================] - 135s 7ms/step - loss: 1.9535 - acc: 0.5108 - val_loss: 2.5764 - val_acc: 0.4478\n",
            "Epoch 4/10\n",
            "20599/20599 [==============================] - 136s 7ms/step - loss: 1.8550 - acc: 0.5252 - val_loss: 2.7655 - val_acc: 0.4683\n",
            "Epoch 5/10\n",
            "20599/20599 [==============================] - 136s 7ms/step - loss: 1.9095 - acc: 0.5361 - val_loss: 3.1162 - val_acc: 0.4251\n",
            "Epoch 6/10\n",
            "20599/20599 [==============================] - 135s 7ms/step - loss: 2.0096 - acc: 0.5561 - val_loss: 2.5939 - val_acc: 0.5046\n",
            "Epoch 7/10\n",
            "20599/20599 [==============================] - 135s 7ms/step - loss: 1.8606 - acc: 0.5790 - val_loss: 2.3441 - val_acc: 0.4849\n",
            "Epoch 8/10\n",
            "20599/20599 [==============================] - 135s 7ms/step - loss: 1.4533 - acc: 0.6556 - val_loss: 2.0689 - val_acc: 0.5701\n",
            "Epoch 9/10\n",
            "20599/20599 [==============================] - 135s 7ms/step - loss: 1.3102 - acc: 0.6843 - val_loss: 1.9172 - val_acc: 0.5858\n",
            "Epoch 10/10\n",
            "20599/20599 [==============================] - 136s 7ms/step - loss: 1.2862 - acc: 0.6917 - val_loss: 1.9195 - val_acc: 0.6230\n"
          ],
          "name": "stdout"
        }
      ]
    },
    {
      "cell_type": "code",
      "metadata": {
        "id": "WWaqRiRMB-VU",
        "colab_type": "code",
        "colab": {
          "base_uri": "https://localhost:8080/",
          "height": 1000
        },
        "outputId": "d791e065-9ac9-4652-ecb4-e0ef5e613513"
      },
      "source": [
        "history_2 = model.fit(X_train_tokenized, Y_train, validation_split=0.1, epochs=50, batch_size=32, class_weight=class_weight) "
      ],
      "execution_count": 20,
      "outputs": [
        {
          "output_type": "stream",
          "text": [
            "Train on 20599 samples, validate on 2289 samples\n",
            "Epoch 1/50\n",
            "20599/20599 [==============================] - 136s 7ms/step - loss: 1.1681 - acc: 0.7125 - val_loss: 1.8951 - val_acc: 0.6225\n",
            "Epoch 2/50\n",
            "20599/20599 [==============================] - 135s 7ms/step - loss: 1.1917 - acc: 0.7192 - val_loss: 1.8269 - val_acc: 0.6488\n",
            "Epoch 3/50\n",
            "20599/20599 [==============================] - 135s 7ms/step - loss: 1.0857 - acc: 0.7489 - val_loss: 1.7736 - val_acc: 0.6204\n",
            "Epoch 4/50\n",
            "20599/20599 [==============================] - 135s 7ms/step - loss: 1.0021 - acc: 0.7780 - val_loss: 1.7889 - val_acc: 0.6855\n",
            "Epoch 5/50\n",
            "20599/20599 [==============================] - 136s 7ms/step - loss: 1.6965 - acc: 0.6203 - val_loss: 2.6278 - val_acc: 0.4723\n",
            "Epoch 6/50\n",
            "20599/20599 [==============================] - 135s 7ms/step - loss: 1.8154 - acc: 0.5910 - val_loss: 3.4483 - val_acc: 0.4072\n",
            "Epoch 7/50\n",
            "20599/20599 [==============================] - 136s 7ms/step - loss: 1.6955 - acc: 0.6244 - val_loss: 1.9360 - val_acc: 0.6287\n",
            "Epoch 8/50\n",
            "20599/20599 [==============================] - 135s 7ms/step - loss: 1.1544 - acc: 0.7412 - val_loss: 1.7432 - val_acc: 0.6623\n",
            "Epoch 9/50\n",
            "20599/20599 [==============================] - 136s 7ms/step - loss: 0.9938 - acc: 0.7863 - val_loss: 1.6833 - val_acc: 0.7021\n",
            "Epoch 10/50\n",
            "20599/20599 [==============================] - 135s 7ms/step - loss: 0.9493 - acc: 0.7980 - val_loss: 1.6501 - val_acc: 0.7265\n",
            "Epoch 11/50\n",
            "20599/20599 [==============================] - 135s 7ms/step - loss: 0.8751 - acc: 0.8247 - val_loss: 1.7195 - val_acc: 0.7060\n",
            "Epoch 12/50\n",
            "20599/20599 [==============================] - 136s 7ms/step - loss: 0.9144 - acc: 0.8115 - val_loss: 4.4428 - val_acc: 0.5356\n",
            "Epoch 13/50\n",
            "20599/20599 [==============================] - 135s 7ms/step - loss: 0.9328 - acc: 0.8166 - val_loss: 1.7571 - val_acc: 0.7147\n",
            "Epoch 14/50\n",
            "20599/20599 [==============================] - 135s 7ms/step - loss: 0.8219 - acc: 0.8408 - val_loss: 1.7802 - val_acc: 0.7243\n",
            "Epoch 15/50\n",
            "20599/20599 [==============================] - 135s 7ms/step - loss: 0.7910 - acc: 0.8499 - val_loss: 1.7238 - val_acc: 0.7527\n",
            "Epoch 16/50\n",
            "20599/20599 [==============================] - 135s 7ms/step - loss: 1.2453 - acc: 0.7560 - val_loss: 2.8955 - val_acc: 0.4736\n",
            "Epoch 17/50\n",
            "20599/20599 [==============================] - 135s 7ms/step - loss: 1.8969 - acc: 0.5462 - val_loss: 2.7852 - val_acc: 0.4181\n",
            "Epoch 18/50\n",
            "20599/20599 [==============================] - 135s 7ms/step - loss: 1.4693 - acc: 0.6386 - val_loss: 1.9281 - val_acc: 0.6623\n",
            "Epoch 19/50\n",
            "20599/20599 [==============================] - 136s 7ms/step - loss: 1.5596 - acc: 0.6786 - val_loss: 2.7065 - val_acc: 0.5583\n",
            "Epoch 20/50\n",
            "20599/20599 [==============================] - 135s 7ms/step - loss: 1.1982 - acc: 0.7195 - val_loss: 1.8031 - val_acc: 0.6186\n",
            "Epoch 21/50\n",
            "20599/20599 [==============================] - 136s 7ms/step - loss: 0.9547 - acc: 0.7818 - val_loss: 1.6678 - val_acc: 0.6959\n",
            "Epoch 22/50\n",
            "20599/20599 [==============================] - 135s 7ms/step - loss: 0.8047 - acc: 0.8414 - val_loss: 1.6177 - val_acc: 0.7527\n",
            "Epoch 23/50\n",
            "20599/20599 [==============================] - 136s 7ms/step - loss: 0.7485 - acc: 0.8589 - val_loss: 1.6031 - val_acc: 0.7440\n",
            "Epoch 24/50\n",
            "20599/20599 [==============================] - 135s 7ms/step - loss: 0.6992 - acc: 0.8742 - val_loss: 1.5914 - val_acc: 0.7427\n",
            "Epoch 25/50\n",
            "20599/20599 [==============================] - 136s 7ms/step - loss: 0.6497 - acc: 0.8861 - val_loss: 1.6033 - val_acc: 0.7540\n",
            "Epoch 26/50\n",
            "20599/20599 [==============================] - 136s 7ms/step - loss: 0.6221 - acc: 0.8964 - val_loss: 1.6601 - val_acc: 0.7523\n",
            "Epoch 27/50\n",
            "20599/20599 [==============================] - 135s 7ms/step - loss: 0.5827 - acc: 0.9061 - val_loss: 1.6658 - val_acc: 0.8021\n",
            "Epoch 28/50\n",
            "20599/20599 [==============================] - 136s 7ms/step - loss: 0.5533 - acc: 0.9115 - val_loss: 1.6875 - val_acc: 0.8043\n",
            "Epoch 29/50\n",
            "20599/20599 [==============================] - 135s 7ms/step - loss: 0.5453 - acc: 0.9145 - val_loss: 1.5764 - val_acc: 0.8038\n",
            "Epoch 30/50\n",
            "20599/20599 [==============================] - 136s 7ms/step - loss: 0.4942 - acc: 0.9249 - val_loss: 1.5907 - val_acc: 0.7947\n",
            "Epoch 31/50\n",
            "20599/20599 [==============================] - 135s 7ms/step - loss: 0.4854 - acc: 0.9278 - val_loss: 1.5512 - val_acc: 0.8375\n",
            "Epoch 32/50\n",
            "20599/20599 [==============================] - 135s 7ms/step - loss: 0.4629 - acc: 0.9340 - val_loss: 1.5192 - val_acc: 0.8353\n",
            "Epoch 33/50\n",
            "20599/20599 [==============================] - 136s 7ms/step - loss: 0.4545 - acc: 0.9354 - val_loss: 1.6008 - val_acc: 0.8178\n",
            "Epoch 34/50\n",
            "20599/20599 [==============================] - 135s 7ms/step - loss: 0.4290 - acc: 0.9391 - val_loss: 1.6364 - val_acc: 0.7938\n",
            "Epoch 35/50\n",
            "20599/20599 [==============================] - 135s 7ms/step - loss: 0.4190 - acc: 0.9438 - val_loss: 1.6721 - val_acc: 0.8038\n",
            "Epoch 36/50\n",
            "20599/20599 [==============================] - 135s 7ms/step - loss: 0.3954 - acc: 0.9467 - val_loss: 1.6326 - val_acc: 0.8231\n",
            "Epoch 37/50\n",
            "20599/20599 [==============================] - 136s 7ms/step - loss: 0.4038 - acc: 0.9442 - val_loss: 1.6332 - val_acc: 0.8283\n",
            "Epoch 38/50\n",
            "20599/20599 [==============================] - 135s 7ms/step - loss: 0.3811 - acc: 0.9499 - val_loss: 1.6004 - val_acc: 0.8419\n",
            "Epoch 39/50\n",
            "20599/20599 [==============================] - 135s 7ms/step - loss: 0.3627 - acc: 0.9540 - val_loss: 1.5058 - val_acc: 0.8257\n",
            "Epoch 40/50\n",
            "20599/20599 [==============================] - 135s 7ms/step - loss: 0.3610 - acc: 0.9527 - val_loss: 1.6685 - val_acc: 0.8322\n",
            "Epoch 41/50\n",
            "20599/20599 [==============================] - 135s 7ms/step - loss: 0.3447 - acc: 0.9573 - val_loss: 1.4801 - val_acc: 0.8419\n",
            "Epoch 42/50\n",
            "20599/20599 [==============================] - 135s 7ms/step - loss: 0.3219 - acc: 0.9608 - val_loss: 1.7829 - val_acc: 0.8283\n",
            "Epoch 43/50\n",
            "20599/20599 [==============================] - 135s 7ms/step - loss: 0.3184 - acc: 0.9616 - val_loss: 1.5761 - val_acc: 0.8410\n",
            "Epoch 44/50\n",
            "20599/20599 [==============================] - 135s 7ms/step - loss: 0.3282 - acc: 0.9604 - val_loss: 1.6544 - val_acc: 0.8362\n",
            "Epoch 45/50\n",
            "20599/20599 [==============================] - 135s 7ms/step - loss: 0.3071 - acc: 0.9642 - val_loss: 1.7870 - val_acc: 0.8362\n",
            "Epoch 46/50\n",
            "20599/20599 [==============================] - 135s 7ms/step - loss: 0.2907 - acc: 0.9666 - val_loss: 1.7044 - val_acc: 0.8445\n",
            "Epoch 47/50\n",
            "20599/20599 [==============================] - 135s 7ms/step - loss: 0.3144 - acc: 0.9634 - val_loss: 1.6844 - val_acc: 0.8427\n",
            "Epoch 48/50\n",
            "20599/20599 [==============================] - 135s 7ms/step - loss: 0.3125 - acc: 0.9644 - val_loss: 1.8448 - val_acc: 0.8283\n",
            "Epoch 49/50\n",
            "20599/20599 [==============================] - 135s 7ms/step - loss: 0.3056 - acc: 0.9659 - val_loss: 1.6409 - val_acc: 0.8375\n",
            "Epoch 50/50\n",
            "20599/20599 [==============================] - 135s 7ms/step - loss: 0.2474 - acc: 0.9729 - val_loss: 1.8340 - val_acc: 0.8484\n"
          ],
          "name": "stdout"
        }
      ]
    },
    {
      "cell_type": "code",
      "metadata": {
        "id": "dc5njyEwOuLe",
        "colab_type": "code",
        "colab": {
          "base_uri": "https://localhost:8080/",
          "height": 1000
        },
        "outputId": "45917831-6ae9-4f8a-cf94-00d0dd86ad28"
      },
      "source": [
        "history_3 = model.fit(X_train_tokenized, Y_train, validation_split=0.1, epochs=50, batch_size=32, class_weight=class_weight) "
      ],
      "execution_count": 10,
      "outputs": [
        {
          "output_type": "stream",
          "text": [
            "WARNING:tensorflow:From /usr/local/lib/python3.6/dist-packages/tensorflow_core/python/ops/math_grad.py:1424: where (from tensorflow.python.ops.array_ops) is deprecated and will be removed in a future version.\n",
            "Instructions for updating:\n",
            "Use tf.where in 2.0, which has the same broadcast rule as np.where\n",
            "WARNING:tensorflow:From /usr/local/lib/python3.6/dist-packages/keras/backend/tensorflow_backend.py:1033: The name tf.assign_add is deprecated. Please use tf.compat.v1.assign_add instead.\n",
            "\n",
            "WARNING:tensorflow:From /usr/local/lib/python3.6/dist-packages/keras/backend/tensorflow_backend.py:1020: The name tf.assign is deprecated. Please use tf.compat.v1.assign instead.\n",
            "\n",
            "Train on 20599 samples, validate on 2289 samples\n",
            "Epoch 1/50\n",
            "20599/20599 [==============================] - 134s 6ms/step - loss: 1.6885 - acc: 0.7605 - val_loss: 1.2170 - val_acc: 0.8060\n",
            "Epoch 2/50\n",
            "20599/20599 [==============================] - 134s 6ms/step - loss: 1.0918 - acc: 0.8212 - val_loss: 1.1358 - val_acc: 0.8375\n",
            "Epoch 3/50\n",
            "20599/20599 [==============================] - 134s 6ms/step - loss: 0.8783 - acc: 0.8601 - val_loss: 1.0473 - val_acc: 0.8235\n",
            "Epoch 4/50\n",
            "20599/20599 [==============================] - 135s 7ms/step - loss: 0.7407 - acc: 0.8827 - val_loss: 0.9998 - val_acc: 0.8384\n",
            "Epoch 5/50\n",
            "20599/20599 [==============================] - 134s 7ms/step - loss: 0.6624 - acc: 0.8987 - val_loss: 1.0322 - val_acc: 0.8462\n",
            "Epoch 6/50\n",
            "20599/20599 [==============================] - 132s 6ms/step - loss: 0.5871 - acc: 0.9142 - val_loss: 0.9589 - val_acc: 0.8619\n",
            "Epoch 7/50\n",
            "20599/20599 [==============================] - 132s 6ms/step - loss: 0.5322 - acc: 0.9250 - val_loss: 1.0384 - val_acc: 0.8523\n",
            "Epoch 8/50\n",
            "20599/20599 [==============================] - 132s 6ms/step - loss: 0.4969 - acc: 0.9344 - val_loss: 1.0167 - val_acc: 0.8681\n",
            "Epoch 9/50\n",
            "20599/20599 [==============================] - 133s 6ms/step - loss: 0.4436 - acc: 0.9442 - val_loss: 1.0387 - val_acc: 0.8676\n",
            "Epoch 10/50\n",
            "20599/20599 [==============================] - 133s 6ms/step - loss: 0.4270 - acc: 0.9468 - val_loss: 1.0993 - val_acc: 0.8493\n",
            "Epoch 11/50\n",
            "20599/20599 [==============================] - 131s 6ms/step - loss: 0.4247 - acc: 0.9482 - val_loss: 1.0395 - val_acc: 0.8615\n",
            "Epoch 12/50\n",
            "20599/20599 [==============================] - 130s 6ms/step - loss: 0.3824 - acc: 0.9535 - val_loss: 1.0974 - val_acc: 0.8759\n",
            "Epoch 13/50\n",
            "20599/20599 [==============================] - 131s 6ms/step - loss: 0.3700 - acc: 0.9575 - val_loss: 1.0669 - val_acc: 0.8720\n",
            "Epoch 14/50\n",
            "20599/20599 [==============================] - 131s 6ms/step - loss: 0.3465 - acc: 0.9607 - val_loss: 1.1926 - val_acc: 0.8681\n",
            "Epoch 15/50\n",
            "20599/20599 [==============================] - 130s 6ms/step - loss: 0.3699 - acc: 0.9581 - val_loss: 1.2157 - val_acc: 0.8646\n",
            "Epoch 16/50\n",
            "20599/20599 [==============================] - 130s 6ms/step - loss: 0.3248 - acc: 0.9650 - val_loss: 1.1522 - val_acc: 0.8602\n",
            "Epoch 17/50\n",
            "20599/20599 [==============================] - 130s 6ms/step - loss: 0.3074 - acc: 0.9652 - val_loss: 1.1837 - val_acc: 0.8659\n",
            "Epoch 18/50\n",
            "20599/20599 [==============================] - 130s 6ms/step - loss: 0.3087 - acc: 0.9686 - val_loss: 1.1824 - val_acc: 0.8663\n",
            "Epoch 19/50\n",
            "20599/20599 [==============================] - 131s 6ms/step - loss: 0.2739 - acc: 0.9733 - val_loss: 1.3127 - val_acc: 0.8593\n",
            "Epoch 20/50\n",
            "20599/20599 [==============================] - 130s 6ms/step - loss: 0.3032 - acc: 0.9695 - val_loss: 1.2648 - val_acc: 0.8576\n",
            "Epoch 21/50\n",
            "20599/20599 [==============================] - 130s 6ms/step - loss: 0.2764 - acc: 0.9734 - val_loss: 1.1679 - val_acc: 0.8711\n",
            "Epoch 22/50\n",
            "20599/20599 [==============================] - 130s 6ms/step - loss: 0.2582 - acc: 0.9750 - val_loss: 1.3288 - val_acc: 0.8707\n",
            "Epoch 23/50\n",
            "20599/20599 [==============================] - 129s 6ms/step - loss: 0.2580 - acc: 0.9739 - val_loss: 1.5114 - val_acc: 0.8471\n",
            "Epoch 24/50\n",
            "20599/20599 [==============================] - 131s 6ms/step - loss: 0.3097 - acc: 0.9698 - val_loss: 1.2306 - val_acc: 0.8585\n",
            "Epoch 25/50\n",
            "20599/20599 [==============================] - 130s 6ms/step - loss: 0.2426 - acc: 0.9781 - val_loss: 1.3280 - val_acc: 0.8689\n",
            "Epoch 26/50\n",
            "20599/20599 [==============================] - 130s 6ms/step - loss: 0.2593 - acc: 0.9754 - val_loss: 1.4151 - val_acc: 0.8606\n",
            "Epoch 27/50\n",
            "20599/20599 [==============================] - 129s 6ms/step - loss: 0.2674 - acc: 0.9754 - val_loss: 1.3297 - val_acc: 0.8755\n",
            "Epoch 28/50\n",
            "20599/20599 [==============================] - 129s 6ms/step - loss: 0.2209 - acc: 0.9802 - val_loss: 1.3999 - val_acc: 0.8707\n",
            "Epoch 29/50\n",
            "20599/20599 [==============================] - 128s 6ms/step - loss: 0.2138 - acc: 0.9816 - val_loss: 1.5380 - val_acc: 0.8633\n",
            "Epoch 30/50\n",
            "20599/20599 [==============================] - 129s 6ms/step - loss: 0.2655 - acc: 0.9750 - val_loss: 1.3695 - val_acc: 0.8702\n",
            "Epoch 31/50\n",
            "20599/20599 [==============================] - 130s 6ms/step - loss: 0.2227 - acc: 0.9802 - val_loss: 1.4059 - val_acc: 0.8624\n",
            "Epoch 32/50\n",
            "20599/20599 [==============================] - 129s 6ms/step - loss: 0.1851 - acc: 0.9855 - val_loss: 1.4202 - val_acc: 0.8593\n",
            "Epoch 33/50\n",
            "20599/20599 [==============================] - 129s 6ms/step - loss: 0.2684 - acc: 0.9752 - val_loss: 1.4492 - val_acc: 0.8563\n",
            "Epoch 34/50\n",
            "20599/20599 [==============================] - 129s 6ms/step - loss: 0.2751 - acc: 0.9772 - val_loss: 1.3942 - val_acc: 0.8716\n",
            "Epoch 35/50\n",
            "20599/20599 [==============================] - 129s 6ms/step - loss: 0.1766 - acc: 0.9881 - val_loss: 1.3523 - val_acc: 0.8711\n",
            "Epoch 36/50\n",
            "20599/20599 [==============================] - 129s 6ms/step - loss: 0.1882 - acc: 0.9848 - val_loss: 1.5959 - val_acc: 0.8545\n",
            "Epoch 37/50\n",
            "20599/20599 [==============================] - 129s 6ms/step - loss: 0.2746 - acc: 0.9758 - val_loss: 1.3858 - val_acc: 0.8755\n",
            "Epoch 38/50\n",
            "20599/20599 [==============================] - 130s 6ms/step - loss: 0.1778 - acc: 0.9881 - val_loss: 1.4968 - val_acc: 0.8772\n",
            "Epoch 39/50\n",
            "20599/20599 [==============================] - 130s 6ms/step - loss: 0.1670 - acc: 0.9889 - val_loss: 1.4812 - val_acc: 0.8685\n",
            "Epoch 40/50\n",
            "20599/20599 [==============================] - 129s 6ms/step - loss: 0.2407 - acc: 0.9771 - val_loss: 1.5342 - val_acc: 0.8650\n",
            "Epoch 41/50\n",
            "20599/20599 [==============================] - 129s 6ms/step - loss: 0.2108 - acc: 0.9824 - val_loss: 1.4882 - val_acc: 0.8694\n",
            "Epoch 42/50\n",
            "20599/20599 [==============================] - 129s 6ms/step - loss: 0.2150 - acc: 0.9831 - val_loss: 1.6385 - val_acc: 0.8541\n",
            "Epoch 43/50\n",
            "20599/20599 [==============================] - 129s 6ms/step - loss: 0.2561 - acc: 0.9787 - val_loss: 1.4973 - val_acc: 0.8554\n",
            "Epoch 44/50\n",
            "20599/20599 [==============================] - 129s 6ms/step - loss: 0.1557 - acc: 0.9913 - val_loss: 1.4925 - val_acc: 0.8720\n",
            "Epoch 45/50\n",
            "20599/20599 [==============================] - 129s 6ms/step - loss: 0.1405 - acc: 0.9910 - val_loss: 1.5572 - val_acc: 0.8536\n",
            "Epoch 46/50\n",
            "20599/20599 [==============================] - 129s 6ms/step - loss: 0.1898 - acc: 0.9861 - val_loss: 1.5611 - val_acc: 0.8707\n",
            "Epoch 47/50\n",
            "20599/20599 [==============================] - 129s 6ms/step - loss: 0.2522 - acc: 0.9793 - val_loss: 1.4275 - val_acc: 0.8615\n",
            "Epoch 48/50\n",
            "20599/20599 [==============================] - 130s 6ms/step - loss: 0.1742 - acc: 0.9886 - val_loss: 1.5580 - val_acc: 0.8781\n",
            "Epoch 49/50\n",
            "20599/20599 [==============================] - 129s 6ms/step - loss: 0.2351 - acc: 0.9790 - val_loss: 1.5819 - val_acc: 0.8633\n",
            "Epoch 50/50\n",
            "20599/20599 [==============================] - 129s 6ms/step - loss: 0.1572 - acc: 0.9904 - val_loss: 1.5998 - val_acc: 0.8659\n"
          ],
          "name": "stdout"
        }
      ]
    },
    {
      "cell_type": "code",
      "metadata": {
        "id": "Lkt6lbgMOfdo",
        "colab_type": "code",
        "colab": {
          "base_uri": "https://localhost:8080/",
          "height": 34
        },
        "outputId": "8c11faaf-6322-482e-84e5-4212a72bb299"
      },
      "source": [
        "# serialize model to JSON\n",
        "model_json = model.to_json()\n",
        "with open(\"/content/drive/My Drive/cs230/glove_model.json\", \"w\") as json_file:\n",
        "    json_file.write(model_json)\n",
        "# serialize weights to HDF5\n",
        "model.save_weights(\"/content/drive/My Drive/cs230/glove_model.h5\")\n",
        "print(\"Saved model to disk\")"
      ],
      "execution_count": 11,
      "outputs": [
        {
          "output_type": "stream",
          "text": [
            "Saved model to disk\n"
          ],
          "name": "stdout"
        }
      ]
    },
    {
      "cell_type": "code",
      "metadata": {
        "id": "g7VRMiOG2ekN",
        "colab_type": "code",
        "colab": {
          "base_uri": "https://localhost:8080/",
          "height": 573
        },
        "outputId": "5b5ededd-6e06-4f9d-a44b-933bec3af6a1"
      },
      "source": [
        "# Plot training & validation accuracy values\n",
        "plt.plot(history_3.history['acc'])\n",
        "plt.plot(history_3.history['val_acc'])\n",
        "plt.title('Model accuracy')\n",
        "plt.ylabel('Accuracy')\n",
        "plt.xlabel('Epoch')\n",
        "plt.legend(['Train', 'Test'], loc='upper left')\n",
        "plt.show()\n",
        "\n",
        "# Plot training & validation loss values\n",
        "plt.plot(history_3.history['loss'])\n",
        "plt.plot(history_3.history['val_loss'])\n",
        "plt.title('Model loss')\n",
        "plt.ylabel('Loss')\n",
        "plt.xlabel('Epoch')\n",
        "plt.legend(['Train', 'Test'], loc='upper left')\n",
        "plt.show()"
      ],
      "execution_count": 12,
      "outputs": [
        {
          "output_type": "display_data",
          "data": {
            "image/png": "[encoded data removed]",
            "text/plain": [
              "<Figure size 432x288 with 1 Axes>"
            ]
          },
          "metadata": {
            "tags": []
          }
        },
        {
          "output_type": "display_data",
          "data": {
            "image/png": "[encoded data removed]",
            "text/plain": [
              "<Figure size 432x288 with 1 Axes>"
            ]
          },
          "metadata": {
            "tags": []
          }
        }
      ]
    },
    {
      "cell_type": "code",
      "metadata": {
        "id": "05DDfBWJ2lIV",
        "colab_type": "code",
        "colab": {}
      },
      "source": [
        ""
      ],
      "execution_count": 0,
      "outputs": []
    }
  ]
}