{
  "nbformat": 4,
  "nbformat_minor": 0,
  "metadata": {
    "colab": {
      "name": "Glove_LSTM_Model_128d.ipynb",
      "provenance": [],
      "mount_file_id": "1e3QBlkLn1QyoQcRbRF-X1VSDFo88sHFw",
      "authorship_tag": "ABX9TyPji7tPr3VJiOYVSoGcBzsL",
      "include_colab_link": true
    },
    "kernelspec": {
      "name": "python3",
      "display_name": "Python 3"
    },
    "accelerator": "TPU"
  },
  "cells": [
    {
      "cell_type": "markdown",
      "metadata": {
        "id": "view-in-github",
        "colab_type": "text"
      },
      "source": [
        "<a href=\"https://colab.research.google.com/github/carolflyjs/cs230/blob/master/Glove_LSTM_Model_128d.ipynb\" target=\"_parent\"><img src=\"https://colab.research.google.com/assets/colab-badge.svg\" alt=\"Open In Colab\"/></a>"
      ]
    },
    {
      "cell_type": "code",
      "metadata": {
        "id": "ASSBEXrs8iBd",
        "colab_type": "code",
        "outputId": "25cf1c7c-5a86-491b-c42b-5689e517654f",
        "colab": {
          "base_uri": "https://localhost:8080/",
          "height": 403
        }
      },
      "source": [
        "%run \"/content/drive/My Drive/Colab Notebooks/Data_Processing_v2.ipynb\"\n",
        "%run \"/content/drive/My Drive/Colab Notebooks/utils.ipynb\""
      ],
      "execution_count": 0,
      "outputs": [
        {
          "output_type": "stream",
          "text": [
            "Collecting pyspellchecker\n",
            "\u001b[?25l  Downloading https://files.pythonhosted.org/packages/04/d1/ec4e830e9f9c1fd788e1459dd09279fdf807bc7a475579fd7192450b879c/pyspellchecker-0.5.4-py2.py3-none-any.whl (1.9MB)\n",
            "\u001b[K     |████████████████████████████████| 1.9MB 3.4MB/s \n",
            "\u001b[?25hInstalling collected packages: pyspellchecker\n",
            "Successfully installed pyspellchecker-0.5.4\n"
          ],
          "name": "stdout"
        },
        {
          "output_type": "display_data",
          "data": {
            "text/html": [
              "<p style=\"color: red;\">\n",
              "The default version of TensorFlow in Colab will soon switch to TensorFlow 2.x.<br>\n",
              "We recommend you <a href=\"https://www.tensorflow.org/guide/migrate\" target=\"_blank\">upgrade</a> now \n",
              "or ensure your notebook will continue to use TensorFlow 1.x via the <code>%tensorflow_version 1.x</code> magic:\n",
              "<a href=\"https://colab.research.google.com/notebooks/tensorflow_version.ipynb\" target=\"_blank\">more info</a>.</p>\n"
            ],
            "text/plain": [
              "<IPython.core.display.HTML object>"
            ]
          },
          "metadata": {
            "tags": []
          }
        },
        {
          "output_type": "stream",
          "text": [
            "Using TensorFlow backend.\n"
          ],
          "name": "stderr"
        },
        {
          "output_type": "stream",
          "text": [
            "load_file(path, delimiter=\",\"): return df\n",
            "data_prep(df, x_columns, y_columns): return X_train, Y_train\n",
            "removeSpellingErrors(df): return new_df\n",
            "tokenize_and_pad(X_train), return X_train_padded, max_value, vocab_size, tokenizer\n",
            "store_weights(mode, model_name, path=\"/content/drive/My Drive/cs230/\")\n",
            "load_weights(mode, model_name, path=\"/content/drive/My Drive/cs230/\")\n",
            "join_histories_and_plot(*histories)\n",
            "\n",
            "load_embedding_matrix(embeddings_index, vocab_size, embedding_dim, word_index)\n",
            "embedding_index = pre-trained embedding dictionary with key being the word and value being the embedding scores\n",
            "vocab_size = total number of unique tokens in the training data\n",
            "embedding_dim = dimension used in the embedding_index for each token\n",
            "word_index = token dictionary with key being the word and value being the token\n",
            "\n"
          ],
          "name": "stdout"
        }
      ]
    },
    {
      "cell_type": "code",
      "metadata": {
        "id": "X41zGFIiDo-Z",
        "colab_type": "code",
        "outputId": "733e7439-555b-4241-f477-bf551a2c0de3",
        "colab": {
          "base_uri": "https://localhost:8080/",
          "height": 51
        }
      },
      "source": [
        "glove_file = keras.utils.get_file(\"glove.6B.zip\", \"http://nlp.stanford.edu/data/glove.6B.zip\", extract=True)"
      ],
      "execution_count": 0,
      "outputs": [
        {
          "output_type": "stream",
          "text": [
            "Downloading data from http://nlp.stanford.edu/data/glove.6B.zip\n",
            "862183424/862182613 [==============================] - 388s 0us/step\n"
          ],
          "name": "stdout"
        }
      ]
    },
    {
      "cell_type": "code",
      "metadata": {
        "id": "RVcfK9N_eDx2",
        "colab_type": "code",
        "colab": {}
      },
      "source": [
        "def load_glove(glove_dir, glove_file_name):\n",
        "    embeddings_index = {}\n",
        "    f = open(os.path.join(glove_dir, glove_file_name))\n",
        "    for line in f:\n",
        "        values = line.split()\n",
        "        word = values[0]\n",
        "        try:\n",
        "            coefs = np.asarray(values[1:], dtype='float32')\n",
        "            embeddings_index[word] = coefs\n",
        "        except:\n",
        "            pass\n",
        "    f.close()\n",
        "    return embeddings_index"
      ],
      "execution_count": 0,
      "outputs": []
    },
    {
      "cell_type": "code",
      "metadata": {
        "id": "7gcmYNcVe0BP",
        "colab_type": "code",
        "colab": {}
      },
      "source": [
        "embeddings_index = load_glove(\"/root/.keras/datasets/\", \"glove.6B.100d.txt\")\n",
        "embedding_dim = 100"
      ],
      "execution_count": 0,
      "outputs": []
    },
    {
      "cell_type": "code",
      "metadata": {
        "id": "q_8Mk2xHw4JB",
        "colab_type": "code",
        "colab": {}
      },
      "source": [
        "def load_embedding_matrix(embeddings_index, vocab_size, embedding_dim, word_index):\n",
        "    embedding_matrix = np.zeros((vocab_size, embedding_dim))\n",
        "    not_found = []\n",
        "    for word, i in word_index.items():\n",
        "        embedding_vector = embeddings_index.get(word)\n",
        "        if embedding_vector is not None:\n",
        "            # words not found in embedding index will be all-zeros.\n",
        "            embedding_matrix[i] = embedding_vector\n",
        "        else:\n",
        "            not_found.append((word, i))\n",
        "    return embedding_matrix, not_found"
      ],
      "execution_count": 0,
      "outputs": []
    },
    {
      "cell_type": "code",
      "metadata": {
        "id": "xxYOlpYew5tq",
        "colab_type": "code",
        "outputId": "5a12bd8c-eb62-4411-9405-5861b85a1e08",
        "colab": {
          "base_uri": "https://localhost:8080/",
          "height": 289
        }
      },
      "source": [
        "def build_glove_model(max_value, vocab_size, optimizer, embedding_matrix, embedding_dim = 100, LSTM_dim = 128): \n",
        "    X_input = Input(shape=(max_value * 2,), dtype=\"int32\")\n",
        "    X = Embedding(vocab_size, embedding_dim, weights=[embedding_matrix])(X_input)\n",
        "    X = LSTM(LSTM_dim, kernel_regularizer=keras.regularizers.l2(0.01))(X)\n",
        "    # X = keras.layers.Flatten(\"channels_last\")(X)\n",
        "    X = Dense(5, activation=\"softmax\")(X)\n",
        "\n",
        "    model = Model(inputs=[X_input], outputs=X)\n",
        "\n",
        "    model.compile(loss='categorical_crossentropy', optimizer='adam', metrics=['categorical_accuracy'])\n",
        "    model.summary()\n",
        "\n",
        "    return model\n",
        "\n",
        "embedding_matrix, _ = load_embedding_matrix(embeddings_index, vocab_size, embedding_dim, tokenizer.word_index)\n",
        "optimizer = keras.optimizers.Adagrad(lr=0.035)\n",
        "model = build_glove_model(max_value=max_value, vocab_size=vocab_size, optimizer=optimizer, embedding_matrix=embedding_matrix, embedding_dim=embedding_dim, LSTM_dim=128)"
      ],
      "execution_count": 0,
      "outputs": [
        {
          "output_type": "stream",
          "text": [
            "Model: \"model_2\"\n",
            "_________________________________________________________________\n",
            "Layer (type)                 Output Shape              Param #   \n",
            "=================================================================\n",
            "input_2 (InputLayer)         (None, 16)                0         \n",
            "_________________________________________________________________\n",
            "embedding_2 (Embedding)      (None, 16, 100)           351700    \n",
            "_________________________________________________________________\n",
            "lstm_2 (LSTM)                (None, 128)               117248    \n",
            "_________________________________________________________________\n",
            "dense_2 (Dense)              (None, 5)                 645       \n",
            "=================================================================\n",
            "Total params: 469,593\n",
            "Trainable params: 469,593\n",
            "Non-trainable params: 0\n",
            "_________________________________________________________________\n"
          ],
          "name": "stdout"
        }
      ]
    },
    {
      "cell_type": "code",
      "metadata": {
        "id": "v8XkPD5Ow-FP",
        "colab_type": "code",
        "outputId": "88f5b12a-552a-451e-9999-7cd40ecc0c6d",
        "colab": {
          "base_uri": "https://localhost:8080/",
          "height": 1000
        }
      },
      "source": [
        "history = model.fit(X_train_tokenized, Y_train, validation_data=(X_dev_tokenized, Y_dev), epochs=50, batch_size=32, class_weight=class_weight) "
      ],
      "execution_count": 0,
      "outputs": [
        {
          "output_type": "stream",
          "text": [
            "Train on 290693 samples, validate on 18723 samples\n",
            "Epoch 1/50\n",
            "290693/290693 [==============================] - 349s 1ms/step - loss: 0.9614 - categorical_accuracy: 0.8452 - val_loss: 0.4425 - val_categorical_accuracy: 0.8801\n",
            "Epoch 2/50\n",
            "290693/290693 [==============================] - 348s 1ms/step - loss: 0.6358 - categorical_accuracy: 0.9061 - val_loss: 0.3469 - val_categorical_accuracy: 0.9144\n",
            "Epoch 3/50\n",
            "290693/290693 [==============================] - 349s 1ms/step - loss: 0.5105 - categorical_accuracy: 0.9300 - val_loss: 0.2863 - val_categorical_accuracy: 0.9360\n",
            "Epoch 4/50\n",
            "290693/290693 [==============================] - 348s 1ms/step - loss: 0.4374 - categorical_accuracy: 0.9425 - val_loss: 0.2613 - val_categorical_accuracy: 0.9478\n",
            "Epoch 5/50\n",
            "290693/290693 [==============================] - 350s 1ms/step - loss: 0.3904 - categorical_accuracy: 0.9512 - val_loss: 0.2680 - val_categorical_accuracy: 0.9430\n",
            "Epoch 6/50\n",
            "290693/290693 [==============================] - 349s 1ms/step - loss: 0.3533 - categorical_accuracy: 0.9577 - val_loss: 0.2659 - val_categorical_accuracy: 0.9501\n",
            "Epoch 7/50\n",
            "290693/290693 [==============================] - 348s 1ms/step - loss: 0.3292 - categorical_accuracy: 0.9613 - val_loss: 0.2379 - val_categorical_accuracy: 0.9546\n",
            "Epoch 8/50\n",
            "290693/290693 [==============================] - 348s 1ms/step - loss: 0.3067 - categorical_accuracy: 0.9653 - val_loss: 0.2109 - val_categorical_accuracy: 0.9636\n",
            "Epoch 9/50\n",
            "290693/290693 [==============================] - 353s 1ms/step - loss: 0.2932 - categorical_accuracy: 0.9683 - val_loss: 0.2097 - val_categorical_accuracy: 0.9607\n",
            "Epoch 10/50\n",
            "290693/290693 [==============================] - 351s 1ms/step - loss: 0.2804 - categorical_accuracy: 0.9695 - val_loss: 0.1960 - val_categorical_accuracy: 0.9649\n",
            "Epoch 11/50\n",
            "290693/290693 [==============================] - 354s 1ms/step - loss: 0.2676 - categorical_accuracy: 0.9721 - val_loss: 0.2243 - val_categorical_accuracy: 0.9600\n",
            "Epoch 12/50\n",
            "290693/290693 [==============================] - 353s 1ms/step - loss: 0.2605 - categorical_accuracy: 0.9731 - val_loss: 0.2004 - val_categorical_accuracy: 0.9613\n",
            "Epoch 13/50\n",
            "290693/290693 [==============================] - 353s 1ms/step - loss: 0.2541 - categorical_accuracy: 0.9744 - val_loss: 0.2060 - val_categorical_accuracy: 0.9645\n",
            "Epoch 14/50\n",
            "290693/290693 [==============================] - 352s 1ms/step - loss: 0.2474 - categorical_accuracy: 0.9756 - val_loss: 0.1939 - val_categorical_accuracy: 0.9660\n",
            "Epoch 15/50\n",
            "290693/290693 [==============================] - 353s 1ms/step - loss: 0.2418 - categorical_accuracy: 0.9764 - val_loss: 0.1928 - val_categorical_accuracy: 0.9673\n",
            "Epoch 16/50\n",
            "290693/290693 [==============================] - 352s 1ms/step - loss: 0.2333 - categorical_accuracy: 0.9776 - val_loss: 0.1967 - val_categorical_accuracy: 0.9651\n",
            "Epoch 17/50\n",
            "290693/290693 [==============================] - 356s 1ms/step - loss: 0.2324 - categorical_accuracy: 0.9779 - val_loss: 0.1910 - val_categorical_accuracy: 0.9674\n",
            "Epoch 18/50\n",
            "290693/290693 [==============================] - 357s 1ms/step - loss: 0.2272 - categorical_accuracy: 0.9789 - val_loss: 0.2256 - val_categorical_accuracy: 0.9578\n",
            "Epoch 19/50\n",
            "290693/290693 [==============================] - 353s 1ms/step - loss: 0.2243 - categorical_accuracy: 0.9792 - val_loss: 0.1992 - val_categorical_accuracy: 0.9679\n",
            "Epoch 20/50\n",
            "290693/290693 [==============================] - 357s 1ms/step - loss: 0.2190 - categorical_accuracy: 0.9801 - val_loss: 0.1864 - val_categorical_accuracy: 0.9686\n",
            "Epoch 21/50\n",
            "290693/290693 [==============================] - 355s 1ms/step - loss: 0.2169 - categorical_accuracy: 0.9805 - val_loss: 0.2059 - val_categorical_accuracy: 0.9647\n",
            "Epoch 22/50\n",
            "290693/290693 [==============================] - 353s 1ms/step - loss: 0.2169 - categorical_accuracy: 0.9808 - val_loss: 0.2002 - val_categorical_accuracy: 0.9687\n",
            "Epoch 23/50\n",
            "290693/290693 [==============================] - 352s 1ms/step - loss: 0.2106 - categorical_accuracy: 0.9814 - val_loss: 0.1864 - val_categorical_accuracy: 0.9677\n",
            "Epoch 24/50\n",
            "290693/290693 [==============================] - 355s 1ms/step - loss: 0.2106 - categorical_accuracy: 0.9818 - val_loss: 0.1865 - val_categorical_accuracy: 0.9707\n",
            "Epoch 25/50\n",
            "290693/290693 [==============================] - 354s 1ms/step - loss: 0.2070 - categorical_accuracy: 0.9819 - val_loss: 0.1900 - val_categorical_accuracy: 0.9707\n",
            "Epoch 26/50\n",
            "290693/290693 [==============================] - 351s 1ms/step - loss: 0.2095 - categorical_accuracy: 0.9821 - val_loss: 0.1878 - val_categorical_accuracy: 0.9696\n",
            "Epoch 27/50\n",
            "290693/290693 [==============================] - 351s 1ms/step - loss: 0.2034 - categorical_accuracy: 0.9830 - val_loss: 0.1790 - val_categorical_accuracy: 0.9692\n",
            "Epoch 28/50\n",
            "290693/290693 [==============================] - 352s 1ms/step - loss: 0.2007 - categorical_accuracy: 0.9830 - val_loss: 0.1848 - val_categorical_accuracy: 0.9700\n",
            "Epoch 29/50\n",
            "290693/290693 [==============================] - 351s 1ms/step - loss: 0.2020 - categorical_accuracy: 0.9832 - val_loss: 0.2051 - val_categorical_accuracy: 0.9694\n",
            "Epoch 30/50\n",
            "290693/290693 [==============================] - 355s 1ms/step - loss: 0.2007 - categorical_accuracy: 0.9836 - val_loss: 0.1634 - val_categorical_accuracy: 0.9716\n",
            "Epoch 31/50\n",
            "290693/290693 [==============================] - 357s 1ms/step - loss: 0.2003 - categorical_accuracy: 0.9836 - val_loss: 0.2025 - val_categorical_accuracy: 0.9691\n",
            "Epoch 32/50\n",
            "290693/290693 [==============================] - 352s 1ms/step - loss: 0.1955 - categorical_accuracy: 0.9842 - val_loss: 0.2238 - val_categorical_accuracy: 0.9638\n",
            "Epoch 33/50\n",
            "290693/290693 [==============================] - 355s 1ms/step - loss: 0.1938 - categorical_accuracy: 0.9844 - val_loss: 0.1802 - val_categorical_accuracy: 0.9719\n",
            "Epoch 34/50\n",
            "290693/290693 [==============================] - 352s 1ms/step - loss: 0.1949 - categorical_accuracy: 0.9844 - val_loss: 0.1962 - val_categorical_accuracy: 0.9699\n",
            "Epoch 35/50\n",
            "290693/290693 [==============================] - 353s 1ms/step - loss: 0.1891 - categorical_accuracy: 0.9849 - val_loss: 0.1970 - val_categorical_accuracy: 0.9709\n",
            "Epoch 36/50\n",
            "290693/290693 [==============================] - 350s 1ms/step - loss: 0.1925 - categorical_accuracy: 0.9848 - val_loss: 0.2051 - val_categorical_accuracy: 0.9704\n",
            "Epoch 37/50\n",
            "290693/290693 [==============================] - 348s 1ms/step - loss: 0.1904 - categorical_accuracy: 0.9852 - val_loss: 0.2230 - val_categorical_accuracy: 0.9686\n",
            "Epoch 38/50\n",
            "290693/290693 [==============================] - 349s 1ms/step - loss: 0.1890 - categorical_accuracy: 0.9856 - val_loss: 0.1918 - val_categorical_accuracy: 0.9692\n",
            "Epoch 39/50\n",
            "290693/290693 [==============================] - 352s 1ms/step - loss: 0.1883 - categorical_accuracy: 0.9858 - val_loss: 0.2023 - val_categorical_accuracy: 0.9688\n",
            "Epoch 40/50\n",
            "290693/290693 [==============================] - 353s 1ms/step - loss: 0.1881 - categorical_accuracy: 0.9858 - val_loss: 0.2385 - val_categorical_accuracy: 0.9639\n",
            "Epoch 41/50\n",
            "290693/290693 [==============================] - 351s 1ms/step - loss: 0.1890 - categorical_accuracy: 0.9855 - val_loss: 0.1853 - val_categorical_accuracy: 0.9713\n",
            "Epoch 42/50\n",
            "290693/290693 [==============================] - 349s 1ms/step - loss: 0.1839 - categorical_accuracy: 0.9862 - val_loss: 0.2203 - val_categorical_accuracy: 0.9683\n",
            "Epoch 43/50\n",
            "290693/290693 [==============================] - 350s 1ms/step - loss: 0.1842 - categorical_accuracy: 0.9866 - val_loss: 0.1917 - val_categorical_accuracy: 0.9705\n",
            "Epoch 44/50\n",
            "290693/290693 [==============================] - 347s 1ms/step - loss: 0.1804 - categorical_accuracy: 0.9865 - val_loss: 0.2036 - val_categorical_accuracy: 0.9691\n",
            "Epoch 45/50\n",
            "290693/290693 [==============================] - 350s 1ms/step - loss: 0.1809 - categorical_accuracy: 0.9867 - val_loss: 0.2039 - val_categorical_accuracy: 0.9679\n",
            "Epoch 46/50\n",
            "290693/290693 [==============================] - 350s 1ms/step - loss: 0.1862 - categorical_accuracy: 0.9862 - val_loss: 0.2240 - val_categorical_accuracy: 0.9684\n",
            "Epoch 47/50\n",
            "290693/290693 [==============================] - 352s 1ms/step - loss: 0.1799 - categorical_accuracy: 0.9868 - val_loss: 0.1747 - val_categorical_accuracy: 0.9729\n",
            "Epoch 48/50\n",
            "290693/290693 [==============================] - 350s 1ms/step - loss: 0.1771 - categorical_accuracy: 0.9869 - val_loss: 0.1939 - val_categorical_accuracy: 0.9721\n",
            "Epoch 49/50\n",
            "290693/290693 [==============================] - 351s 1ms/step - loss: 0.1820 - categorical_accuracy: 0.9866 - val_loss: 0.2047 - val_categorical_accuracy: 0.9704\n",
            "Epoch 50/50\n",
            "290693/290693 [==============================] - 350s 1ms/step - loss: 0.1745 - categorical_accuracy: 0.9873 - val_loss: 0.2328 - val_categorical_accuracy: 0.9667\n"
          ],
          "name": "stdout"
        }
      ]
    },
    {
      "cell_type": "code",
      "metadata": {
        "id": "ddo4CroTktH6",
        "colab_type": "code",
        "outputId": "6e10b2fe-ee9f-4ef5-edb4-62ba996785d1",
        "colab": {
          "base_uri": "https://localhost:8080/",
          "height": 573
        }
      },
      "source": [
        "combined = join_histories_and_plot(\"Glove LSTM Model 128D\", history)"
      ],
      "execution_count": 0,
      "outputs": [
        {
          "output_type": "display_data",
          "data": {
            "image/png": "[encoded data removed]",
            "text/plain": [
              "<Figure size 432x288 with 1 Axes>"
            ]
          },
          "metadata": {
            "tags": []
          }
        },
        {
          "output_type": "display_data",
          "data": {
            "image/png": "[encoded data removed]",
            "text/plain": [
              "<Figure size 432x288 with 1 Axes>"
            ]
          },
          "metadata": {
            "tags": []
          }
        }
      ]
    },
    {
      "cell_type": "code",
      "metadata": {
        "id": "05DDfBWJ2lIV",
        "colab_type": "code",
        "outputId": "f8f3a64a-e588-437f-f5ae-ab9355d70bff",
        "colab": {
          "base_uri": "https://localhost:8080/",
          "height": 102
        }
      },
      "source": [
        "getConfusionMatrix(model, X_test_tokenized, Y_test)"
      ],
      "execution_count": 0,
      "outputs": [
        {
          "output_type": "stream",
          "text": [
            "[[ 939    0    4    4    6]\n",
            " [   1 1069    0    3    9]\n",
            " [   0    1  190   11    4]\n",
            " [   1    2    7  192    3]\n",
            " [  17   12    3   12  616]]\n"
          ],
          "name": "stdout"
        }
      ]
    },
    {
      "cell_type": "code",
      "metadata": {
        "id": "AmDEAsh7IbHw",
        "colab_type": "code",
        "outputId": "e98d8814-4231-47ae-b104-5cf741472ae9",
        "colab": {
          "base_uri": "https://localhost:8080/",
          "height": 51
        }
      },
      "source": [
        "model.evaluate(x=X_test_tokenized, y=Y_test)"
      ],
      "execution_count": 0,
      "outputs": [
        {
          "output_type": "stream",
          "text": [
            "3106/3106 [==============================] - 1s 177us/step\n"
          ],
          "name": "stdout"
        },
        {
          "output_type": "execute_result",
          "data": {
            "text/plain": [
              "[0.22335845979946473, 0.9678042498390212]"
            ]
          },
          "metadata": {
            "tags": []
          },
          "execution_count": 13
        }
      ]
    },
    {
      "cell_type": "code",
      "metadata": {
        "id": "Gqa0DHY4IfH_",
        "colab_type": "code",
        "outputId": "53ee6e7c-bb3b-4c84-968e-365d33c7e95a",
        "colab": {
          "base_uri": "https://localhost:8080/",
          "height": 1000
        }
      },
      "source": [
        "errorAnalysis(model, X_test_tokenized, Y_test)"
      ],
      "execution_count": 0,
      "outputs": [
        {
          "output_type": "stream",
          "text": [
            "infusions nurse,caddie,URT,PT 0.9999901\n",
            "\n",
            "\n",
            "registered behavioral technician,physician,URT,BT 0.99999166\n",
            "\n",
            "\n",
            "promotions officer,portfolio administrator,URT,PT 0.5683061\n",
            "\n",
            "\n",
            "consultant lead senior team,microsoft,URT,PT 0.96356535\n",
            "\n",
            "\n",
            "doc,health care assistant,BT,PT 0.94526803\n",
            "\n",
            "\n",
            "recruitment specialist,hiring specialist,NPT,URT 0.5341539\n",
            "\n",
            "\n",
            "account specialist technology,mergers and acquisitions specialist,URT,NT 0.9935929\n",
            "\n",
            "\n",
            "director change management,head business management,BT,URT 0.73859215\n",
            "\n",
            "\n",
            "head of manufacturing,group lead production,NT,URT 0.9248392\n",
            "\n",
            "\n",
            "information technology strategy manager,information technology strategy manager,NPT,PT 0.7344343\n",
            "\n",
            "\n",
            "group ceo,group chief executive officer,PT,URT 0.84303045\n",
            "\n",
            "\n",
            "business development finance manager,head of legal department,URT,BT 0.60207075\n",
            "\n",
            "\n",
            "marketing member team,freelance marketing,NT,URT 0.8774039\n",
            "\n",
            "\n",
            "business development director executive,director of business development,BT,PT 0.8051104\n",
            "\n",
            "\n",
            "senior sql database administrator,senior sql database administrator,NPT,PT 0.7270802\n",
            "\n",
            "\n",
            "hospice and palliative nurse,hospice and palliative nurse,PT,NPT 0.78795177\n",
            "\n",
            "\n",
            "gis intern,geographic information system intern,PT,URT 0.9926593\n",
            "\n",
            "\n",
            "employment seeker,sergeant,URT,BT 0.98075944\n",
            "\n",
            "\n",
            "principal ceo,principal chief executive officer,PT,URT 0.49597895\n",
            "\n",
            "\n",
            "ed director,university administrator,BT,URT 0.5085197\n",
            "\n",
            "\n",
            "purchase specialist,purchasing department specialist,NPT,URT 0.7658416\n",
            "\n",
            "\n",
            "business development intern marketing,general manager technical,URT,BT 0.9225428\n",
            "\n",
            "\n",
            "manager of technical support,head of technical support,BT,PT 0.79483867\n",
            "\n",
            "\n",
            "infrastructure solutions architect,lead solutions architect,URT,PT 0.96800035\n",
            "\n",
            "\n",
            "networking,mba consultant,URT,NT 0.7228258\n",
            "\n",
            "\n",
            "member sales team,sales team member,PT,NT 0.5989621\n",
            "\n",
            "\n",
            "platform manager,customer experience manager,URT,BT 0.6793594\n",
            "\n",
            "\n",
            "music professional,music professional,NPT,PT 0.5805485\n",
            "\n",
            "\n",
            "channel business manager,accountant officer,URT,BT 0.8771695\n",
            "\n",
            "\n",
            "general agent,human resources staff,URT,BT 0.99738926\n",
            "\n",
            "\n",
            "information technologist,sales and service consultant,URT,NT 0.94051135\n",
            "\n",
            "\n",
            "hr associate,human capital generalist,BT,URT 0.89357114\n",
            "\n",
            "\n",
            "corporate communications,communications specialist,NT,BT 0.44603103\n",
            "\n",
            "\n",
            "corporate communications officer,information officer public,NT,URT 0.59733874\n",
            "\n",
            "\n",
            "clerk insurance,insurance coordinator,NT,PT 0.9173821\n",
            "\n",
            "\n",
            "cargo agent,cargo assistant,NPT,PT 0.93567854\n",
            "\n",
            "\n",
            "case clinical manager,case manager medical,BT,NPT 0.48026153\n",
            "\n",
            "\n",
            "fraud prevention consultant,mortgage planner,URT,PT 0.5851701\n",
            "\n",
            "\n",
            "senior manager customer service,licensing manager senior,URT,NPT 0.82294583\n",
            "\n",
            "\n",
            "national business development,information management coordinator,URT,BT 0.9756765\n",
            "\n",
            "\n",
            "assistant manager product development,director sales marketing business development,URT,PT 0.65749335\n",
            "\n",
            "\n",
            "field manager training,music specialist,URT,BT 0.9967399\n",
            "\n",
            "\n",
            "sales chief,business intelligence project manager,URT,NT 0.50602525\n",
            "\n",
            "\n",
            "director facilities services,head of facilities management,BT,PT 0.849483\n",
            "\n",
            "\n",
            "supply chain manager,internal audit senior,URT,NT 0.5663917\n",
            "\n",
            "\n",
            "study engineer,architect enterprise solutions,URT,NT 0.82288593\n",
            "\n",
            "\n",
            "senior quality assurance tester,senior quality assurance tester,NPT,PT 0.7018442\n",
            "\n",
            "\n",
            "computer instructor,computer technology instructor,NPT,URT 0.94106317\n",
            "\n",
            "\n",
            "administrator inside sales,street vendor,URT,PT 0.998216\n",
            "\n",
            "\n",
            "channel director marketing,guest experience manager,URT,BT 0.6828365\n",
            "\n",
            "\n",
            "it analyst,information communication analyst,NT,PT 0.64908427\n",
            "\n",
            "\n",
            "landscape maintenance,ground keeper,NT,URT 0.8151969\n",
            "\n",
            "\n",
            "casualty claims adjuster,roofer,URT,PT 0.84914064\n",
            "\n",
            "\n",
            "brand design manager,design graphic manager,BT,URT 0.77787495\n",
            "\n",
            "\n",
            "information technology infrastructure engineer,information technology infrastructure engineer,NPT,PT 0.521342\n",
            "\n",
            "\n",
            "information technology solutions manager,information technology solutions manager,PT,NPT 0.5529923\n",
            "\n",
            "\n",
            "paint artist,social worker,URT,BT 0.99825245\n",
            "\n",
            "\n",
            "private banking relationship manager,relationship manager private banking,NPT,PT 0.93170005\n",
            "\n",
            "\n",
            "internet information technology specialist,associate web producer,URT,NT 0.9994456\n",
            "\n",
            "\n",
            "information system analyst,senior internet consultant,URT,NT 0.557467\n",
            "\n",
            "\n",
            "information technology operator,sales analyst,URT,BT 0.998329\n",
            "\n",
            "\n",
            "environment specialist,environmental science,BT,URT 0.99614847\n",
            "\n",
            "\n",
            "board of directors member,building official,URT,NT 0.5450894\n",
            "\n",
            "\n",
            "creative assistant,information resources consultant,URT,BT 0.99612314\n",
            "\n",
            "\n",
            "bus driver,omnibus driver,NPT,URT 0.7952414\n",
            "\n",
            "\n",
            "senior recruitment executive,hr department head,BT,URT 0.70786893\n",
            "\n",
            "\n",
            "intern marketing public relations,project chief,URT,BT 0.93767184\n",
            "\n",
            "\n",
            "accountant helper,accounting representative,NT,PT 0.88778585\n",
            "\n",
            "\n",
            "summer associate,summer staff,PT,NPT 0.8318473\n",
            "\n",
            "\n",
            "analyst lead senior team,sales team member,URT,BT 0.9060642\n",
            "\n",
            "\n",
            "marketing copywriter,information assistant,URT,PT 0.9652411\n",
            "\n",
            "\n",
            "electrical engineering technician,hydrologic technician,URT,NT 0.5565692\n",
            "\n",
            "\n",
            "chief reporter,advisory,URT,NPT 0.47226068\n",
            "\n",
            "\n",
            "company owner,branch owner,NT,URT 0.93025255\n",
            "\n",
            "\n",
            "sales engineering,business development engineer senior,NT,URT 0.7347078\n",
            "\n",
            "\n",
            "general manager training,training general manager,PT,BT 0.42405295\n",
            "\n",
            "\n",
            "group information technology director,group information technology director,PT,NPT 0.63064784\n",
            "\n",
            "\n",
            "food manager,f & b supervisor,BT,NPT 0.8777487\n",
            "\n",
            "\n",
            "head of healthcare services,nursing home administrator,NT,URT 0.9960861\n",
            "\n",
            "\n",
            "business development alliances manager,erp project manager,URT,NT 0.8178212\n",
            "\n",
            "\n",
            "senior surveyor,graduate trainee,URT,PT 0.99574274\n",
            "\n",
            "\n",
            "health technician,medical technician,BT,NPT 0.94310915\n",
            "\n",
            "\n",
            "rehabilitation nurse,rehabilitation nurse,PT,NPT 0.7792196\n",
            "\n",
            "\n",
            "media planner,junior media planner,NT,URT 0.9114272\n",
            "\n",
            "\n",
            "human resources communications manager,human resources communications manager,NPT,PT 0.976737\n",
            "\n",
            "\n",
            "teacher,teaching professional,NPT,NT 0.5849767\n",
            "\n",
            "\n",
            "lead information technology specialist,lead information technology specialist,NPT,PT 0.796659\n",
            "\n",
            "\n",
            "head of middle school,middle school head,PT,NPT 0.92991245\n",
            "\n",
            "\n",
            "director broadcast production,user services manager,URT,PT 0.5145988\n",
            "\n",
            "\n",
            "dietary aide,dietary assistant,NPT,PT 0.8729928\n",
            "\n",
            "\n",
            "director science,director informatics,URT,PT 0.8315027\n",
            "\n",
            "\n",
            "office services coordinator,administrative services coordinator,BT,NPT 0.3955191\n",
            "\n",
            "\n",
            "academic advisor,financial aid advisor,NT,URT 0.76196855\n",
            "\n",
            "\n",
            "security guard,corporate human resources,URT,NPT 0.904135\n",
            "\n",
            "\n",
            "special events intern,special event intern,NPT,PT 0.60024214\n",
            "\n",
            "\n",
            "information communication technology manager,business development global,URT,NT 0.60935754\n",
            "\n",
            "\n",
            "account event manager,account manager event,PT,NPT 0.998417\n",
            "\n",
            "\n",
            "family and general practitioner,director of construction,URT,BT 0.96027863\n",
            "\n",
            "\n",
            "service operator,customer operations service,URT,BT 0.77023643\n",
            "\n",
            "\n",
            "taco bell,food service worker,PT,NT 0.68420744\n",
            "\n",
            "\n"
          ],
          "name": "stdout"
        }
      ]
    },
    {
      "cell_type": "code",
      "metadata": {
        "id": "lFByj58n2QUV",
        "colab_type": "code",
        "colab": {}
      },
      "source": [
        ""
      ],
      "execution_count": 0,
      "outputs": []
    }
  ]
}