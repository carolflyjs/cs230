{
  "nbformat": 4,
  "nbformat_minor": 0,
  "metadata": {
    "colab": {
      "name": "LSTM_Model_128d.ipynb",
      "provenance": [],
      "collapsed_sections": [],
      "mount_file_id": "1f5VX9pA1pbV2ESaLHANeF5bbKDSTxrcs",
      "authorship_tag": "ABX9TyNHnp6y3TRE2pM/5d9vX/yv",
      "include_colab_link": true
    },
    "kernelspec": {
      "name": "python3",
      "display_name": "Python 3"
    },
    "accelerator": "TPU"
  },
  "cells": [
    {
      "cell_type": "markdown",
      "metadata": {
        "id": "view-in-github",
        "colab_type": "text"
      },
      "source": [
        "<a href=\"https://colab.research.google.com/github/carolflyjs/cs230/blob/master/LSTM_Model_128d.ipynb\" target=\"_parent\"><img src=\"https://colab.research.google.com/assets/colab-badge.svg\" alt=\"Open In Colab\"/></a>"
      ]
    },
    {
      "cell_type": "code",
      "metadata": {
        "id": "6ly0pYce87pM",
        "colab_type": "code",
        "outputId": "6659e6a1-d3ad-440c-989c-4508931418b5",
        "colab": {
          "base_uri": "https://localhost:8080/",
          "height": 403
        }
      },
      "source": [
        "%run \"/content/drive/My Drive/Colab Notebooks/Data_Processing_v2.ipynb\"\n",
        "%run \"/content/drive/My Drive/Colab Notebooks/utils.ipynb\""
      ],
      "execution_count": 1,
      "outputs": [
        {
          "output_type": "stream",
          "text": [
            "Collecting pyspellchecker\n",
            "\u001b[?25l  Downloading https://files.pythonhosted.org/packages/04/d1/ec4e830e9f9c1fd788e1459dd09279fdf807bc7a475579fd7192450b879c/pyspellchecker-0.5.4-py2.py3-none-any.whl (1.9MB)\n",
            "\u001b[K     |████████████████████████████████| 1.9MB 3.4MB/s \n",
            "\u001b[?25hInstalling collected packages: pyspellchecker\n",
            "Successfully installed pyspellchecker-0.5.4\n"
          ],
          "name": "stdout"
        },
        {
          "output_type": "display_data",
          "data": {
            "text/html": [
              "<p style=\"color: red;\">\n",
              "The default version of TensorFlow in Colab will soon switch to TensorFlow 2.x.<br>\n",
              "We recommend you <a href=\"https://www.tensorflow.org/guide/migrate\" target=\"_blank\">upgrade</a> now \n",
              "or ensure your notebook will continue to use TensorFlow 1.x via the <code>%tensorflow_version 1.x</code> magic:\n",
              "<a href=\"https://colab.research.google.com/notebooks/tensorflow_version.ipynb\" target=\"_blank\">more info</a>.</p>\n"
            ],
            "text/plain": [
              "<IPython.core.display.HTML object>"
            ]
          },
          "metadata": {
            "tags": []
          }
        },
        {
          "output_type": "stream",
          "text": [
            "Using TensorFlow backend.\n"
          ],
          "name": "stderr"
        },
        {
          "output_type": "stream",
          "text": [
            "load_file(path, delimiter=\",\"): return df\n",
            "data_prep(df, x_columns, y_columns): return X_train, Y_train\n",
            "removeSpellingErrors(df): return new_df\n",
            "tokenize_and_pad(X_train), return X_train_padded, max_value, vocab_size, tokenizer\n",
            "store_weights(mode, model_name, path=\"/content/drive/My Drive/cs230/\")\n",
            "load_weights(mode, model_name, path=\"/content/drive/My Drive/cs230/\")\n",
            "join_histories_and_plot(*histories)\n",
            "\n",
            "load_embedding_matrix(embeddings_index, vocab_size, embedding_dim, word_index)\n",
            "embedding_index = pre-trained embedding dictionary with key being the word and value being the embedding scores\n",
            "vocab_size = total number of unique tokens in the training data\n",
            "embedding_dim = dimension used in the embedding_index for each token\n",
            "word_index = token dictionary with key being the word and value being the token\n",
            "\n"
          ],
          "name": "stdout"
        }
      ]
    },
    {
      "cell_type": "code",
      "metadata": {
        "id": "aimKdQHovout",
        "colab_type": "code",
        "colab": {}
      },
      "source": [
        "def build_lstm_model(max_value, embedding_dim = 10, LSTM_dim = 128): \n",
        "    X_input = Input(shape=(max_value * 2,), dtype=\"int32\")\n",
        "    X = Embedding(vocab_size, embedding_dim)(X_input)\n",
        "    X = LSTM(LSTM_dim, kernel_regularizer=keras.regularizers.l2(0.01))(X)\n",
        "    # X = keras.layers.Flatten(\"channels_last\")(X)\n",
        "    X = Dense(5, activation=\"softmax\")(X)\n",
        "\n",
        "    model = Model(inputs=[X_input], outputs=X)\n",
        "\n",
        "    model.compile(loss='categorical_crossentropy', optimizer='adam', metrics=['categorical_accuracy'])\n",
        "    model.summary()\n",
        "\n",
        "    return model"
      ],
      "execution_count": 0,
      "outputs": []
    },
    {
      "cell_type": "code",
      "metadata": {
        "id": "h-7kAD6dCRg5",
        "colab_type": "code",
        "outputId": "638e7097-2566-4604-ae05-075a81e17f47",
        "colab": {
          "base_uri": "https://localhost:8080/",
          "height": 479
        }
      },
      "source": [
        "lstm_model = build_lstm_model(max_value=max_value, embedding_dim=16, LSTM_dim=128)"
      ],
      "execution_count": 3,
      "outputs": [
        {
          "output_type": "stream",
          "text": [
            "WARNING:tensorflow:From /usr/local/lib/python3.6/dist-packages/keras/backend/tensorflow_backend.py:66: The name tf.get_default_graph is deprecated. Please use tf.compat.v1.get_default_graph instead.\n",
            "\n",
            "WARNING:tensorflow:From /usr/local/lib/python3.6/dist-packages/keras/backend/tensorflow_backend.py:541: The name tf.placeholder is deprecated. Please use tf.compat.v1.placeholder instead.\n",
            "\n",
            "WARNING:tensorflow:From /usr/local/lib/python3.6/dist-packages/keras/backend/tensorflow_backend.py:4432: The name tf.random_uniform is deprecated. Please use tf.random.uniform instead.\n",
            "\n",
            "WARNING:tensorflow:From /usr/local/lib/python3.6/dist-packages/keras/optimizers.py:793: The name tf.train.Optimizer is deprecated. Please use tf.compat.v1.train.Optimizer instead.\n",
            "\n",
            "WARNING:tensorflow:From /usr/local/lib/python3.6/dist-packages/keras/backend/tensorflow_backend.py:3576: The name tf.log is deprecated. Please use tf.math.log instead.\n",
            "\n",
            "Model: \"model_1\"\n",
            "_________________________________________________________________\n",
            "Layer (type)                 Output Shape              Param #   \n",
            "=================================================================\n",
            "input_1 (InputLayer)         (None, 16)                0         \n",
            "_________________________________________________________________\n",
            "embedding_1 (Embedding)      (None, 16, 16)            56272     \n",
            "_________________________________________________________________\n",
            "lstm_1 (LSTM)                (None, 128)               74240     \n",
            "_________________________________________________________________\n",
            "dense_1 (Dense)              (None, 5)                 645       \n",
            "=================================================================\n",
            "Total params: 131,157\n",
            "Trainable params: 131,157\n",
            "Non-trainable params: 0\n",
            "_________________________________________________________________\n"
          ],
          "name": "stdout"
        }
      ]
    },
    {
      "cell_type": "code",
      "metadata": {
        "id": "0dJyTXcw86SV",
        "colab_type": "code",
        "outputId": "efc8ce5d-546c-46d7-c8e5-312447530965",
        "colab": {
          "base_uri": "https://localhost:8080/",
          "height": 887
        }
      },
      "source": [
        "history = lstm_model.fit(x=X_train_tokenized, y=Y_train, batch_size=32, epochs=40, validation_data=(X_dev_tokenized, Y_dev), class_weight=class_weight)"
      ],
      "execution_count": 4,
      "outputs": [
        {
          "output_type": "stream",
          "text": [
            "WARNING:tensorflow:From /usr/local/lib/python3.6/dist-packages/tensorflow_core/python/ops/math_grad.py:1424: where (from tensorflow.python.ops.array_ops) is deprecated and will be removed in a future version.\n",
            "Instructions for updating:\n",
            "Use tf.where in 2.0, which has the same broadcast rule as np.where\n",
            "WARNING:tensorflow:From /usr/local/lib/python3.6/dist-packages/keras/backend/tensorflow_backend.py:1033: The name tf.assign_add is deprecated. Please use tf.compat.v1.assign_add instead.\n",
            "\n",
            "WARNING:tensorflow:From /usr/local/lib/python3.6/dist-packages/keras/backend/tensorflow_backend.py:1020: The name tf.assign is deprecated. Please use tf.compat.v1.assign instead.\n",
            "\n",
            "WARNING:tensorflow:From /usr/local/lib/python3.6/dist-packages/keras/backend/tensorflow_backend.py:3005: The name tf.Session is deprecated. Please use tf.compat.v1.Session instead.\n",
            "\n",
            "Train on 290693 samples, validate on 18723 samples\n",
            "Epoch 1/40\n",
            "WARNING:tensorflow:From /usr/local/lib/python3.6/dist-packages/keras/backend/tensorflow_backend.py:190: The name tf.get_default_session is deprecated. Please use tf.compat.v1.get_default_session instead.\n",
            "\n",
            "WARNING:tensorflow:From /usr/local/lib/python3.6/dist-packages/keras/backend/tensorflow_backend.py:197: The name tf.ConfigProto is deprecated. Please use tf.compat.v1.ConfigProto instead.\n",
            "\n",
            "WARNING:tensorflow:From /usr/local/lib/python3.6/dist-packages/keras/backend/tensorflow_backend.py:207: The name tf.global_variables is deprecated. Please use tf.compat.v1.global_variables instead.\n",
            "\n",
            "WARNING:tensorflow:From /usr/local/lib/python3.6/dist-packages/keras/backend/tensorflow_backend.py:216: The name tf.is_variable_initialized is deprecated. Please use tf.compat.v1.is_variable_initialized instead.\n",
            "\n",
            "WARNING:tensorflow:From /usr/local/lib/python3.6/dist-packages/keras/backend/tensorflow_backend.py:223: The name tf.variables_initializer is deprecated. Please use tf.compat.v1.variables_initializer instead.\n",
            "\n",
            "290693/290693 [==============================] - 228s 786us/step - loss: 1.3622 - categorical_accuracy: 0.7575 - val_loss: 0.5798 - val_categorical_accuracy: 0.7992\n",
            "Epoch 2/40\n",
            "290693/290693 [==============================] - 233s 802us/step - loss: 0.9333 - categorical_accuracy: 0.8306 - val_loss: 0.4479 - val_categorical_accuracy: 0.8557\n",
            "Epoch 3/40\n",
            "290693/290693 [==============================] - 232s 799us/step - loss: 0.7549 - categorical_accuracy: 0.8655 - val_loss: 0.3855 - val_categorical_accuracy: 0.8802\n",
            "Epoch 4/40\n",
            "290693/290693 [==============================] - 231s 793us/step - loss: 0.6554 - categorical_accuracy: 0.8848 - val_loss: 0.3676 - val_categorical_accuracy: 0.8879\n",
            "Epoch 5/40\n",
            "290693/290693 [==============================] - 231s 793us/step - loss: 0.5856 - categorical_accuracy: 0.8994 - val_loss: 0.3493 - val_categorical_accuracy: 0.8928\n",
            "Epoch 6/40\n",
            "290693/290693 [==============================] - 231s 795us/step - loss: 0.5327 - categorical_accuracy: 0.9103 - val_loss: 0.3154 - val_categorical_accuracy: 0.9047\n",
            "Epoch 7/40\n",
            "290693/290693 [==============================] - 232s 797us/step - loss: 0.4872 - categorical_accuracy: 0.9202 - val_loss: 0.2955 - val_categorical_accuracy: 0.9137\n",
            "Epoch 8/40\n",
            "290693/290693 [==============================] - 232s 798us/step - loss: 0.4516 - categorical_accuracy: 0.9280 - val_loss: 0.2698 - val_categorical_accuracy: 0.9232\n",
            "Epoch 9/40\n",
            "290693/290693 [==============================] - 234s 805us/step - loss: 0.4187 - categorical_accuracy: 0.9347 - val_loss: 0.2471 - val_categorical_accuracy: 0.9315\n",
            "Epoch 10/40\n",
            "290693/290693 [==============================] - 230s 791us/step - loss: 0.3900 - categorical_accuracy: 0.9408 - val_loss: 0.2452 - val_categorical_accuracy: 0.9310\n",
            "Epoch 11/40\n",
            "290693/290693 [==============================] - 230s 791us/step - loss: 0.3663 - categorical_accuracy: 0.9458 - val_loss: 0.2342 - val_categorical_accuracy: 0.9357\n",
            "Epoch 12/40\n",
            "290693/290693 [==============================] - 230s 791us/step - loss: 0.3434 - categorical_accuracy: 0.9500 - val_loss: 0.2217 - val_categorical_accuracy: 0.9396\n",
            "Epoch 13/40\n",
            "290693/290693 [==============================] - 230s 790us/step - loss: 0.3259 - categorical_accuracy: 0.9529 - val_loss: 0.2331 - val_categorical_accuracy: 0.9390\n",
            "Epoch 14/40\n",
            "290693/290693 [==============================] - 230s 791us/step - loss: 0.3085 - categorical_accuracy: 0.9558 - val_loss: 0.2081 - val_categorical_accuracy: 0.9458\n",
            "Epoch 15/40\n",
            "176288/290693 [=================>............] - ETA: 1:29 - loss: 0.2926 - categorical_accuracy: 0.9586Buffered data was truncated after reaching the output size limit."
          ],
          "name": "stdout"
        }
      ]
    },
    {
      "cell_type": "code",
      "metadata": {
        "id": "Yg7nfLq1Hvpa",
        "colab_type": "code",
        "colab": {
          "base_uri": "https://localhost:8080/",
          "height": 573
        },
        "outputId": "e92e4356-5c27-472e-cbe4-3eebaa273816"
      },
      "source": [
        "combined = join_histories_and_plot(\"Simple LSTM 128D\", history)"
      ],
      "execution_count": 5,
      "outputs": [
        {
          "output_type": "display_data",
          "data": {
            "image/png": "[encoded data removed]",
            "text/plain": [
              "<Figure size 432x288 with 1 Axes>"
            ]
          },
          "metadata": {
            "tags": []
          }
        },
        {
          "output_type": "display_data",
          "data": {
            "image/png": "[encoded data removed]",
            "text/plain": [
              "<Figure size 432x288 with 1 Axes>"
            ]
          },
          "metadata": {
            "tags": []
          }
        }
      ]
    },
    {
      "cell_type": "code",
      "metadata": {
        "id": "VV0mXNgZa_Ar",
        "colab_type": "code",
        "outputId": "9ec8b27f-130f-4c3d-f806-307b7d0b89a8",
        "colab": {
          "base_uri": "https://localhost:8080/",
          "height": 102
        }
      },
      "source": [
        "getConfusionMatrix(lstm_model, X_test_tokenized, Y_test)"
      ],
      "execution_count": 6,
      "outputs": [
        {
          "output_type": "stream",
          "text": [
            "[[ 934    3    3    2   11]\n",
            " [   3 1065    1    5    8]\n",
            " [   2    2  180   18    4]\n",
            " [   2    3    4  193    3]\n",
            " [  16   14   14   10  606]]\n"
          ],
          "name": "stdout"
        }
      ]
    },
    {
      "cell_type": "code",
      "metadata": {
        "id": "5cmmSCDwqRhx",
        "colab_type": "code",
        "colab": {
          "base_uri": "https://localhost:8080/",
          "height": 51
        },
        "outputId": "086b0253-8f1e-4afa-feaa-dca90f9e4566"
      },
      "source": [
        "lstm_model.evaluate(X_test_tokenized, Y_test)"
      ],
      "execution_count": 7,
      "outputs": [
        {
          "output_type": "stream",
          "text": [
            "3106/3106 [==============================] - 0s 155us/step\n"
          ],
          "name": "stdout"
        },
        {
          "output_type": "execute_result",
          "data": {
            "text/plain": [
              "[0.17884496621984247, 0.9587894397939472]"
            ]
          },
          "metadata": {
            "tags": []
          },
          "execution_count": 7
        }
      ]
    },
    {
      "cell_type": "code",
      "metadata": {
        "id": "2BXWzlrqk_J4",
        "colab_type": "code",
        "colab": {}
      },
      "source": [
        ""
      ],
      "execution_count": 0,
      "outputs": []
    }
  ]
}