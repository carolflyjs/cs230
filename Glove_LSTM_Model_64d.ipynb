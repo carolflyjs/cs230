{
  "nbformat": 4,
  "nbformat_minor": 0,
  "metadata": {
    "colab": {
      "name": "Glove_LSTM_Model_64d.ipynb",
      "provenance": [],
      "mount_file_id": "1GX8CCrpuHBMP8fYb7BkGj1SlE3-IBX8k",
      "authorship_tag": "ABX9TyOpuEyx0agvDVZe0fV2rWcB",
      "include_colab_link": true
    },
    "kernelspec": {
      "name": "python3",
      "display_name": "Python 3"
    },
    "accelerator": "TPU"
  },
  "cells": [
    {
      "cell_type": "markdown",
      "metadata": {
        "id": "view-in-github",
        "colab_type": "text"
      },
      "source": [
        "<a href=\"https://colab.research.google.com/github/carolflyjs/cs230/blob/master/Glove_LSTM_Model_64d.ipynb\" target=\"_parent\"><img src=\"https://colab.research.google.com/assets/colab-badge.svg\" alt=\"Open In Colab\"/></a>"
      ]
    },
    {
      "cell_type": "code",
      "metadata": {
        "id": "ASSBEXrs8iBd",
        "colab_type": "code",
        "outputId": "3cd11dfa-1bcf-4e22-ead4-ca7066d01565",
        "colab": {
          "base_uri": "https://localhost:8080/",
          "height": 403
        }
      },
      "source": [
        "%run \"/content/drive/My Drive/Colab Notebooks/Data_Processing_v2.ipynb\"\n",
        "%run \"/content/drive/My Drive/Colab Notebooks/utils.ipynb\""
      ],
      "execution_count": 1,
      "outputs": [
        {
          "output_type": "stream",
          "text": [
            "Collecting pyspellchecker\n",
            "\u001b[?25l  Downloading https://files.pythonhosted.org/packages/04/d1/ec4e830e9f9c1fd788e1459dd09279fdf807bc7a475579fd7192450b879c/pyspellchecker-0.5.4-py2.py3-none-any.whl (1.9MB)\n",
            "\u001b[K     |████████████████████████████████| 1.9MB 3.4MB/s \n",
            "\u001b[?25hInstalling collected packages: pyspellchecker\n",
            "Successfully installed pyspellchecker-0.5.4\n"
          ],
          "name": "stdout"
        },
        {
          "output_type": "display_data",
          "data": {
            "text/html": [
              "<p style=\"color: red;\">\n",
              "The default version of TensorFlow in Colab will soon switch to TensorFlow 2.x.<br>\n",
              "We recommend you <a href=\"https://www.tensorflow.org/guide/migrate\" target=\"_blank\">upgrade</a> now \n",
              "or ensure your notebook will continue to use TensorFlow 1.x via the <code>%tensorflow_version 1.x</code> magic:\n",
              "<a href=\"https://colab.research.google.com/notebooks/tensorflow_version.ipynb\" target=\"_blank\">more info</a>.</p>\n"
            ],
            "text/plain": [
              "<IPython.core.display.HTML object>"
            ]
          },
          "metadata": {
            "tags": []
          }
        },
        {
          "output_type": "stream",
          "text": [
            "Using TensorFlow backend.\n"
          ],
          "name": "stderr"
        },
        {
          "output_type": "stream",
          "text": [
            "load_file(path, delimiter=\",\"): return df\n",
            "data_prep(df, x_columns, y_columns): return X_train, Y_train\n",
            "removeSpellingErrors(df): return new_df\n",
            "tokenize_and_pad(X_train), return X_train_padded, max_value, vocab_size, tokenizer\n",
            "store_weights(mode, model_name, path=\"/content/drive/My Drive/cs230/\")\n",
            "load_weights(mode, model_name, path=\"/content/drive/My Drive/cs230/\")\n",
            "join_histories_and_plot(*histories)\n",
            "\n",
            "load_embedding_matrix(embeddings_index, vocab_size, embedding_dim, word_index)\n",
            "embedding_index = pre-trained embedding dictionary with key being the word and value being the embedding scores\n",
            "vocab_size = total number of unique tokens in the training data\n",
            "embedding_dim = dimension used in the embedding_index for each token\n",
            "word_index = token dictionary with key being the word and value being the token\n",
            "\n"
          ],
          "name": "stdout"
        }
      ]
    },
    {
      "cell_type": "code",
      "metadata": {
        "id": "X41zGFIiDo-Z",
        "colab_type": "code",
        "outputId": "0f865509-e437-4976-822d-abd49e3f2586",
        "colab": {
          "base_uri": "https://localhost:8080/",
          "height": 51
        }
      },
      "source": [
        "glove_file = keras.utils.get_file(\"glove.6B.zip\", \"http://nlp.stanford.edu/data/glove.6B.zip\", extract=True)"
      ],
      "execution_count": 2,
      "outputs": [
        {
          "output_type": "stream",
          "text": [
            "Downloading data from http://nlp.stanford.edu/data/glove.6B.zip\n",
            "862183424/862182613 [==============================] - 387s 0us/step\n"
          ],
          "name": "stdout"
        }
      ]
    },
    {
      "cell_type": "code",
      "metadata": {
        "id": "RVcfK9N_eDx2",
        "colab_type": "code",
        "colab": {}
      },
      "source": [
        "def load_glove(glove_dir, glove_file_name):\n",
        "    embeddings_index = {}\n",
        "    f = open(os.path.join(glove_dir, glove_file_name))\n",
        "    for line in f:\n",
        "        values = line.split()\n",
        "        word = values[0]\n",
        "        try:\n",
        "            coefs = np.asarray(values[1:], dtype='float32')\n",
        "            embeddings_index[word] = coefs\n",
        "        except:\n",
        "            pass\n",
        "    f.close()\n",
        "    return embeddings_index"
      ],
      "execution_count": 0,
      "outputs": []
    },
    {
      "cell_type": "code",
      "metadata": {
        "id": "7gcmYNcVe0BP",
        "colab_type": "code",
        "colab": {}
      },
      "source": [
        "embeddings_index = load_glove(\"/root/.keras/datasets/\", \"glove.6B.100d.txt\")\n",
        "embedding_dim = 100"
      ],
      "execution_count": 0,
      "outputs": []
    },
    {
      "cell_type": "code",
      "metadata": {
        "id": "q_8Mk2xHw4JB",
        "colab_type": "code",
        "colab": {}
      },
      "source": [
        "def load_embedding_matrix(embeddings_index, vocab_size, embedding_dim, word_index):\n",
        "    embedding_matrix = np.zeros((vocab_size, embedding_dim))\n",
        "    not_found = []\n",
        "    for word, i in word_index.items():\n",
        "        embedding_vector = embeddings_index.get(word)\n",
        "        if embedding_vector is not None:\n",
        "            # words not found in embedding index will be all-zeros.\n",
        "            embedding_matrix[i] = embedding_vector\n",
        "        else:\n",
        "            not_found.append((word, i))\n",
        "    return embedding_matrix, not_found"
      ],
      "execution_count": 0,
      "outputs": []
    },
    {
      "cell_type": "code",
      "metadata": {
        "id": "xxYOlpYew5tq",
        "colab_type": "code",
        "outputId": "c4366ff5-20d9-486d-9624-5ac20cbc2267",
        "colab": {
          "base_uri": "https://localhost:8080/",
          "height": 683
        }
      },
      "source": [
        "def build_glove_model(max_value, vocab_size, optimizer, embedding_matrix, embedding_dim = 100, LSTM_dim = 128): \n",
        "    X_input = Input(shape=(max_value * 2,), dtype=\"int32\")\n",
        "    X = Embedding(vocab_size, embedding_dim, weights=[embedding_matrix])(X_input)\n",
        "    X = LSTM(LSTM_dim, kernel_regularizer=keras.regularizers.l2(0.01))(X)\n",
        "    # X = keras.layers.Flatten(\"channels_last\")(X)\n",
        "    X = Dense(5, activation=\"softmax\")(X)\n",
        "\n",
        "    model = Model(inputs=[X_input], outputs=X)\n",
        "\n",
        "    model.compile(loss='categorical_crossentropy', optimizer='adam', metrics=['categorical_accuracy'])\n",
        "    model.summary()\n",
        "\n",
        "    return model\n",
        "\n",
        "embedding_matrix, _ = load_embedding_matrix(embeddings_index, vocab_size, embedding_dim, tokenizer.word_index)\n",
        "optimizer = keras.optimizers.Adagrad(lr=0.035)\n",
        "model = build_glove_model(max_value=max_value, vocab_size=vocab_size, optimizer=optimizer, embedding_matrix=embedding_matrix, embedding_dim=embedding_dim, LSTM_dim=64)"
      ],
      "execution_count": 6,
      "outputs": [
        {
          "output_type": "stream",
          "text": [
            "WARNING:tensorflow:From /usr/local/lib/python3.6/dist-packages/keras/backend/tensorflow_backend.py:66: The name tf.get_default_graph is deprecated. Please use tf.compat.v1.get_default_graph instead.\n",
            "\n",
            "WARNING:tensorflow:From /usr/local/lib/python3.6/dist-packages/keras/backend/tensorflow_backend.py:541: The name tf.placeholder is deprecated. Please use tf.compat.v1.placeholder instead.\n",
            "\n",
            "WARNING:tensorflow:From /usr/local/lib/python3.6/dist-packages/keras/backend/tensorflow_backend.py:4432: The name tf.random_uniform is deprecated. Please use tf.random.uniform instead.\n",
            "\n",
            "WARNING:tensorflow:From /usr/local/lib/python3.6/dist-packages/keras/backend/tensorflow_backend.py:190: The name tf.get_default_session is deprecated. Please use tf.compat.v1.get_default_session instead.\n",
            "\n",
            "WARNING:tensorflow:From /usr/local/lib/python3.6/dist-packages/keras/backend/tensorflow_backend.py:197: The name tf.ConfigProto is deprecated. Please use tf.compat.v1.ConfigProto instead.\n",
            "\n",
            "WARNING:tensorflow:From /usr/local/lib/python3.6/dist-packages/keras/backend/tensorflow_backend.py:203: The name tf.Session is deprecated. Please use tf.compat.v1.Session instead.\n",
            "\n",
            "WARNING:tensorflow:From /usr/local/lib/python3.6/dist-packages/keras/backend/tensorflow_backend.py:207: The name tf.global_variables is deprecated. Please use tf.compat.v1.global_variables instead.\n",
            "\n",
            "WARNING:tensorflow:From /usr/local/lib/python3.6/dist-packages/keras/backend/tensorflow_backend.py:216: The name tf.is_variable_initialized is deprecated. Please use tf.compat.v1.is_variable_initialized instead.\n",
            "\n",
            "WARNING:tensorflow:From /usr/local/lib/python3.6/dist-packages/keras/backend/tensorflow_backend.py:223: The name tf.variables_initializer is deprecated. Please use tf.compat.v1.variables_initializer instead.\n",
            "\n",
            "WARNING:tensorflow:From /usr/local/lib/python3.6/dist-packages/keras/optimizers.py:793: The name tf.train.Optimizer is deprecated. Please use tf.compat.v1.train.Optimizer instead.\n",
            "\n",
            "WARNING:tensorflow:From /usr/local/lib/python3.6/dist-packages/keras/backend/tensorflow_backend.py:3576: The name tf.log is deprecated. Please use tf.math.log instead.\n",
            "\n",
            "Model: \"model_1\"\n",
            "_________________________________________________________________\n",
            "Layer (type)                 Output Shape              Param #   \n",
            "=================================================================\n",
            "input_1 (InputLayer)         (None, 16)                0         \n",
            "_________________________________________________________________\n",
            "embedding_1 (Embedding)      (None, 16, 100)           351700    \n",
            "_________________________________________________________________\n",
            "lstm_1 (LSTM)                (None, 64)                42240     \n",
            "_________________________________________________________________\n",
            "dense_1 (Dense)              (None, 5)                 325       \n",
            "=================================================================\n",
            "Total params: 394,265\n",
            "Trainable params: 394,265\n",
            "Non-trainable params: 0\n",
            "_________________________________________________________________\n"
          ],
          "name": "stdout"
        }
      ]
    },
    {
      "cell_type": "code",
      "metadata": {
        "id": "v8XkPD5Ow-FP",
        "colab_type": "code",
        "outputId": "99a6dde9-e905-4c19-8d9f-de61d2160a67",
        "colab": {
          "base_uri": "https://localhost:8080/",
          "height": 751
        }
      },
      "source": [
        "history = model.fit(X_train_tokenized, Y_train, validation_data=(X_dev_tokenized, Y_dev), epochs=50, batch_size=32, class_weight=class_weight) "
      ],
      "execution_count": 7,
      "outputs": [
        {
          "output_type": "stream",
          "text": [
            "WARNING:tensorflow:From /usr/local/lib/python3.6/dist-packages/tensorflow_core/python/ops/math_grad.py:1424: where (from tensorflow.python.ops.array_ops) is deprecated and will be removed in a future version.\n",
            "Instructions for updating:\n",
            "Use tf.where in 2.0, which has the same broadcast rule as np.where\n",
            "WARNING:tensorflow:From /usr/local/lib/python3.6/dist-packages/keras/backend/tensorflow_backend.py:1033: The name tf.assign_add is deprecated. Please use tf.compat.v1.assign_add instead.\n",
            "\n",
            "WARNING:tensorflow:From /usr/local/lib/python3.6/dist-packages/keras/backend/tensorflow_backend.py:1020: The name tf.assign is deprecated. Please use tf.compat.v1.assign instead.\n",
            "\n",
            "Train on 290693 samples, validate on 18723 samples\n",
            "Epoch 1/50\n",
            "290693/290693 [==============================] - 211s 727us/step - loss: 1.0760 - categorical_accuracy: 0.8229 - val_loss: 0.4825 - val_categorical_accuracy: 0.8670\n",
            "Epoch 2/50\n",
            "290693/290693 [==============================] - 211s 725us/step - loss: 0.6639 - categorical_accuracy: 0.8987 - val_loss: 0.3677 - val_categorical_accuracy: 0.9052\n",
            "Epoch 3/50\n",
            "290693/290693 [==============================] - 210s 724us/step - loss: 0.5444 - categorical_accuracy: 0.9214 - val_loss: 0.3574 - val_categorical_accuracy: 0.9077\n",
            "Epoch 4/50\n",
            "290693/290693 [==============================] - 210s 723us/step - loss: 0.4721 - categorical_accuracy: 0.9351 - val_loss: 0.3015 - val_categorical_accuracy: 0.9311\n",
            "Epoch 5/50\n",
            "290693/290693 [==============================] - 212s 730us/step - loss: 0.4213 - categorical_accuracy: 0.9434 - val_loss: 0.2820 - val_categorical_accuracy: 0.9350\n",
            "Epoch 6/50\n",
            "290693/290693 [==============================] - 211s 726us/step - loss: 0.3866 - categorical_accuracy: 0.9495 - val_loss: 0.2615 - val_categorical_accuracy: 0.9426\n",
            "Epoch 7/50\n",
            "290693/290693 [==============================] - 211s 726us/step - loss: 0.3608 - categorical_accuracy: 0.9536 - val_loss: 0.2464 - val_categorical_accuracy: 0.9452\n",
            "Epoch 8/50\n",
            "290693/290693 [==============================] - 211s 725us/step - loss: 0.3397 - categorical_accuracy: 0.9571 - val_loss: 0.2474 - val_categorical_accuracy: 0.9497\n",
            "Epoch 9/50\n",
            "290693/290693 [==============================] - 211s 725us/step - loss: 0.3211 - categorical_accuracy: 0.9610 - val_loss: 0.2382 - val_categorical_accuracy: 0.9500\n",
            "Epoch 10/50\n",
            "290693/290693 [==============================] - 212s 730us/step - loss: 0.3069 - categorical_accuracy: 0.9628 - val_loss: 0.2104 - val_categorical_accuracy: 0.9579\n",
            "Epoch 11/50\n",
            "290693/290693 [==============================] - 211s 726us/step - loss: 0.2941 - categorical_accuracy: 0.9650 - val_loss: 0.2236 - val_categorical_accuracy: 0.9540\n",
            "Epoch 12/50\n",
            "290693/290693 [==============================] - 220s 756us/step - loss: 0.2856 - categorical_accuracy: 0.9662 - val_loss: 0.2129 - val_categorical_accuracy: 0.9550\n",
            "Epoch 13/50\n",
            "290693/290693 [==============================] - 215s 738us/step - loss: 0.2776 - categorical_accuracy: 0.9680 - val_loss: 0.2127 - val_categorical_accuracy: 0.9576\n",
            "Epoch 14/50\n",
            "290693/290693 [==============================] - 213s 734us/step - loss: 0.2707 - categorical_accuracy: 0.9687 - val_loss: 0.2141 - val_categorical_accuracy: 0.9516\n",
            "Epoch 15/50\n",
            "290693/290693 [==============================] - 212s 731us/step - loss: 0.2630 - categorical_accuracy: 0.9702 - val_loss: 0.1971 - val_categorical_accuracy: 0.9617\n",
            "Epoch 16/50\n",
            "290693/290693 [==============================] - 211s 727us/step - loss: 0.2581 - categorical_accuracy: 0.9711 - val_loss: 0.1960 - val_categorical_accuracy: 0.9613\n",
            "Epoch 17/50\n",
            "113792/290693 [==========>...................] - ETA: 2:06 - loss: 0.2486 - categorical_accuracy: 0.9725Buffered data was truncated after reaching the output size limit."
          ],
          "name": "stdout"
        }
      ]
    },
    {
      "cell_type": "code",
      "metadata": {
        "id": "g7VRMiOG2ekN",
        "colab_type": "code",
        "outputId": "e27d3d81-9b1b-435e-eb40-d51ad7877bdb",
        "colab": {
          "base_uri": "https://localhost:8080/",
          "height": 573
        }
      },
      "source": [
        "combined = join_histories_and_plot(\"Glove LSTM Model 64D\", history)"
      ],
      "execution_count": 8,
      "outputs": [
        {
          "output_type": "display_data",
          "data": {
            "image/png": "[encoded data removed]",
            "text/plain": [
              "<Figure size 432x288 with 1 Axes>"
            ]
          },
          "metadata": {
            "tags": []
          }
        },
        {
          "output_type": "display_data",
          "data": {
            "image/png": "[encoded data removed]",
            "text/plain": [
              "<Figure size 432x288 with 1 Axes>"
            ]
          },
          "metadata": {
            "tags": []
          }
        }
      ]
    },
    {
      "cell_type": "code",
      "metadata": {
        "id": "05DDfBWJ2lIV",
        "colab_type": "code",
        "outputId": "836f4a76-ec95-4444-d014-9cba5c513825",
        "colab": {
          "base_uri": "https://localhost:8080/",
          "height": 102
        }
      },
      "source": [
        "getConfusionMatrix(model, X_test_tokenized, Y_test)"
      ],
      "execution_count": 9,
      "outputs": [
        {
          "output_type": "stream",
          "text": [
            "[[ 926    0    9   10    8]\n",
            " [   2 1069    0    6    5]\n",
            " [   0    0  192   13    1]\n",
            " [   1    0    5  199    0]\n",
            " [  17    5    3    9  626]]\n"
          ],
          "name": "stdout"
        }
      ]
    },
    {
      "cell_type": "code",
      "metadata": {
        "id": "ddo4CroTktH6",
        "colab_type": "code",
        "outputId": "4647d10b-a849-40c2-abcc-867a7aab7747",
        "colab": {
          "base_uri": "https://localhost:8080/",
          "height": 51
        }
      },
      "source": [
        "model.evaluate(x=X_test_tokenized, y=Y_test)"
      ],
      "execution_count": 10,
      "outputs": [
        {
          "output_type": "stream",
          "text": [
            "3106/3106 [==============================] - 0s 110us/step\n"
          ],
          "name": "stdout"
        },
        {
          "output_type": "execute_result",
          "data": {
            "text/plain": [
              "[0.17456916194344366, 0.96973599484868]"
            ]
          },
          "metadata": {
            "tags": []
          },
          "execution_count": 10
        }
      ]
    },
    {
      "cell_type": "code",
      "metadata": {
        "id": "qVOsislBp41L",
        "colab_type": "code",
        "colab": {
          "base_uri": "https://localhost:8080/",
          "height": 374
        },
        "outputId": "4bdddacb-1500-40b2-f5cd-c8832e9e4160"
      },
      "source": [
        "  reverse_class_dict = {\n",
        "      0: \"BT\",\n",
        "      1: \"NT\",\n",
        "      2: \"NPT\",\n",
        "      3: \"PT\",\n",
        "      4: \"URT\"\n",
        "  }\n",
        "  Y_predicted = model.predict(X_test_tokenized)\n",
        "  print(\"Source Term, Target Term, Ground Truth, Prediction \\n\")\n",
        "  for i in range(31, 50):\n",
        "    y_predict_scores = Y_predicted[i, :]\n",
        "    y_predict_index = np.argmax(y_predict_scores)\n",
        "    y_predict = reverse_class_dict.get(y_predict_index)\n",
        "    y_actual = reverse_class_dict.get(np.argmax(Y_test[i]))\n",
        "    print(X_test_raw.iloc[i, 0] + \",\" + X_test_raw.iloc[i, 1] + \",\" + y_actual + \",\" + y_predict, y_predict_scores[y_predict_index])"
      ],
      "execution_count": 16,
      "outputs": [
        {
          "output_type": "stream",
          "text": [
            "Source Term, Target Term, Ground Truth, Prediction \n",
            "\n",
            "learning and development coordinator,field officer sales,URT,URT 0.9997348\n",
            "manager hrd & ga,national human resources manager,NT,NT 0.9999964\n",
            "auditor senior tax,accounting auditor,BT,BT 0.99991906\n",
            "head information technology,director technology operations,NT,NT 0.9999366\n",
            "marketing member team,freelance marketing,NT,NT 0.96337134\n",
            "teacher,english second language tutor,NT,NT 0.99989307\n",
            "hr unit head,director of recruitment,NT,NT 0.9999989\n",
            "information technology management,information technology section manager,NT,NT 0.9949884\n",
            "saleswoman,business sales representative,NT,NT 0.9991715\n",
            "onsite project manager,captain project,BT,BT 0.9999541\n",
            "administrative assistant,desk front receptionist,NT,NT 0.99817085\n",
            "contractor information technology,information technology specialist,BT,BT 0.99642617\n",
            "it infrastructure architect,information technology system architect,PT,PT 0.9997172\n",
            "lead information technology specialist,lead information technology specialist,NPT,PT 0.7467815\n",
            "lead book seller,salesperson,BT,BT 0.99899715\n",
            "electrical engineer,senior radio frequency design engineer,NT,NT 0.99857485\n",
            "outreach manager,communications manager,BT,BT 0.9995265\n",
            "manager of human resources,career manager,NT,NT 0.9794391\n",
            "personal consultant,senior media analyst,URT,URT 0.9988708\n"
          ],
          "name": "stdout"
        }
      ]
    },
    {
      "cell_type": "code",
      "metadata": {
        "id": "gQ41YZHd9oZ3",
        "colab_type": "code",
        "colab": {}
      },
      "source": [
        ""
      ],
      "execution_count": 0,
      "outputs": []
    }
  ]
}